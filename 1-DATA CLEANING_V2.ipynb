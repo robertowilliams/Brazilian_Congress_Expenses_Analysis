{
 "cells": [
  {
   "cell_type": "markdown",
   "metadata": {},
   "source": [
    "# **MACHINE LEARNING NANODEGREE**\n",
    "***\n",
    "## **PROJETO FINAL**\n",
    "***\n",
    "\n",
    "## **Análise Preditiva de Cota para Exercício Parlamentar (CEAP)**\n",
    "\n",
    "## ** PARTE 1 - LIMPEZA DE DADOS**\n",
    "\n",
    "***"
   ]
  },
  {
   "cell_type": "markdown",
   "metadata": {},
   "source": [
    "## **A. Importação de Biblioteca Python**\n",
    "\n",
    "**Serão utilizadas neste projeto as seguintes bibliotecas Python:**\n",
    "\n",
    "> 1. Pandas\n",
    "> 2. Numpy\n",
    "> 3. OS"
   ]
  },
  {
   "cell_type": "code",
   "execution_count": 1,
   "metadata": {},
   "outputs": [],
   "source": [
    "import pandas as pd\n",
    "import numpy as np\n",
    "import os\n",
    "\n",
    "import matplotlib.pyplot as plt\n",
    "import matplotlib.patches as patches\n",
    "import matplotlib.path as path\n",
    "import seaborn as sns\n",
    "from seaborn import set\n",
    "\n",
    "# Ajustar globalmente o uso de notação científica.\n",
    "pd.options.display.float_format = '{:20,.2f}'.format\n",
    "\n",
    "# Variável para definição da rotação do gráfico.\n",
    "rota = 90\n",
    "largura = 6\n",
    "altura = 3\n",
    "fonte=12\n",
    "sns.set(font_scale=1.4)\n",
    "\n",
    "# Variável para definição de tamanho de amostras da função head.\n",
    "# Utilizada apenas para facilitar análise.\n",
    "H = 1"
   ]
  },
  {
   "cell_type": "markdown",
   "metadata": {},
   "source": [
    "***\n",
    "## ** B. Data Cleaning **\n",
    "\n",
    "Abaixo é realizado a leitura dos três arquivos do projeto e suas cópias para as variáveis **df2015**, ** df2016 ** e **df2017**. "
   ]
  },
  {
   "cell_type": "code",
   "execution_count": 2,
   "metadata": {},
   "outputs": [
    {
     "data": {
      "text/plain": [
       "['.DS_Store',\n",
       " 'Ano-2015.csv',\n",
       " 'Ano-2016.csv',\n",
       " 'Ano-2017.csv',\n",
       " 'df_dom_con.csv',\n",
       " 'df_fco_con.csv',\n",
       " 'df_roc_con.csv',\n",
       " 'df_trienio_limpo.csv']"
      ]
     },
     "metadata": {},
     "output_type": "display_data"
    }
   ],
   "source": [
    "display(os.listdir('dataset'))"
   ]
  },
  {
   "cell_type": "code",
   "execution_count": 3,
   "metadata": {},
   "outputs": [],
   "source": [
    "## Por um problema identificado no processo de importação dos dados do feature 'txtCNPJCPF' no qual é definido como data type integer, \n",
    "## consequentemente formatando como potência de 10 fez necessário indicar o data type no momento da importação dos arquivos CSV.\n",
    "\n",
    "df2015 = pd.read_csv('./dataset/Ano-2015.csv', delimiter=';', dtype={'txtCNPJCPF':object})\n",
    "df2016 = pd.read_csv('./dataset/Ano-2016.csv', delimiter=';', dtype={'txtCNPJCPF':object})\n",
    "df2017 = pd.read_csv('./dataset/Ano-2017.csv', delimiter=';', dtype={'txtCNPJCPF':object})"
   ]
  },
  {
   "cell_type": "markdown",
   "metadata": {},
   "source": [
    "**A seguir são calculados:**\n",
    "> 1. Através da função **describe** as estatísticas descritivas que resumem a tendência central, a dispersão e a forma da distribuição de um conjunto de dados, excluindo os valores NaN.\n",
    "> 2. Utilizando-se a função **shape** obtemos as dimensões dos dados tabulares."
   ]
  },
  {
   "cell_type": "code",
   "execution_count": 4,
   "metadata": {},
   "outputs": [
    {
     "name": "stdout",
     "output_type": "stream",
     "text": [
      "Ano de 2015: (376863, 29) Ano de 2016: (358239, 29) Ano de 2017: (341223, 29)\n"
     ]
    }
   ],
   "source": [
    "print ('Ano de 2015:', df2015.shape, 'Ano de 2016:', df2016.shape , 'Ano de 2017:', df2017.shape)"
   ]
  },
  {
   "cell_type": "code",
   "execution_count": 5,
   "metadata": {},
   "outputs": [
    {
     "data": {
      "text/plain": [
       "'Ano de 2015:'"
      ]
     },
     "metadata": {},
     "output_type": "display_data"
    },
    {
     "data": {
      "text/html": [
       "<div>\n",
       "<style scoped>\n",
       "    .dataframe tbody tr th:only-of-type {\n",
       "        vertical-align: middle;\n",
       "    }\n",
       "\n",
       "    .dataframe tbody tr th {\n",
       "        vertical-align: top;\n",
       "    }\n",
       "\n",
       "    .dataframe thead th {\n",
       "        text-align: right;\n",
       "    }\n",
       "</style>\n",
       "<table border=\"1\" class=\"dataframe\">\n",
       "  <thead>\n",
       "    <tr style=\"text-align: right;\">\n",
       "      <th></th>\n",
       "      <th>txNomeParlamentar</th>\n",
       "      <th>idecadastro</th>\n",
       "      <th>nuCarteiraParlamentar</th>\n",
       "      <th>nuLegislatura</th>\n",
       "      <th>sgUF</th>\n",
       "      <th>sgPartido</th>\n",
       "      <th>codLegislatura</th>\n",
       "      <th>numSubCota</th>\n",
       "      <th>txtDescricao</th>\n",
       "      <th>numEspecificacaoSubCota</th>\n",
       "      <th>...</th>\n",
       "      <th>numMes</th>\n",
       "      <th>numAno</th>\n",
       "      <th>numParcela</th>\n",
       "      <th>txtPassageiro</th>\n",
       "      <th>txtTrecho</th>\n",
       "      <th>numLote</th>\n",
       "      <th>numRessarcimento</th>\n",
       "      <th>vlrRestituicao</th>\n",
       "      <th>nuDeputadoId</th>\n",
       "      <th>ideDocumento</th>\n",
       "    </tr>\n",
       "  </thead>\n",
       "  <tbody>\n",
       "    <tr>\n",
       "      <th>0</th>\n",
       "      <td>ABEL MESQUITA JR.</td>\n",
       "      <td>178,957.00</td>\n",
       "      <td>1.00</td>\n",
       "      <td>2015</td>\n",
       "      <td>RR</td>\n",
       "      <td>DEM</td>\n",
       "      <td>55.00</td>\n",
       "      <td>1</td>\n",
       "      <td>MANUTENÇÃO DE ESCRITÓRIO DE APOIO À ATIVIDADE ...</td>\n",
       "      <td>0</td>\n",
       "      <td>...</td>\n",
       "      <td>11</td>\n",
       "      <td>2015</td>\n",
       "      <td>0</td>\n",
       "      <td>NaN</td>\n",
       "      <td>NaN</td>\n",
       "      <td>1255355</td>\n",
       "      <td>5,294.00</td>\n",
       "      <td>0.00</td>\n",
       "      <td>3074</td>\n",
       "      <td>5886345</td>\n",
       "    </tr>\n",
       "  </tbody>\n",
       "</table>\n",
       "<p>1 rows × 29 columns</p>\n",
       "</div>"
      ],
      "text/plain": [
       "   txNomeParlamentar          idecadastro  nuCarteiraParlamentar  \\\n",
       "0  ABEL MESQUITA JR.           178,957.00                   1.00   \n",
       "\n",
       "   nuLegislatura sgUF sgPartido       codLegislatura  numSubCota  \\\n",
       "0           2015   RR       DEM                55.00           1   \n",
       "\n",
       "                                        txtDescricao  numEspecificacaoSubCota  \\\n",
       "0  MANUTENÇÃO DE ESCRITÓRIO DE APOIO À ATIVIDADE ...                        0   \n",
       "\n",
       "       ...      numMes numAno numParcela txtPassageiro  txtTrecho  numLote  \\\n",
       "0      ...          11   2015          0           NaN        NaN  1255355   \n",
       "\n",
       "      numRessarcimento       vlrRestituicao nuDeputadoId  ideDocumento  \n",
       "0             5,294.00                 0.00         3074       5886345  \n",
       "\n",
       "[1 rows x 29 columns]"
      ]
     },
     "metadata": {},
     "output_type": "display_data"
    },
    {
     "data": {
      "text/plain": [
       "'Ano de 2016:'"
      ]
     },
     "metadata": {},
     "output_type": "display_data"
    },
    {
     "data": {
      "text/html": [
       "<div>\n",
       "<style scoped>\n",
       "    .dataframe tbody tr th:only-of-type {\n",
       "        vertical-align: middle;\n",
       "    }\n",
       "\n",
       "    .dataframe tbody tr th {\n",
       "        vertical-align: top;\n",
       "    }\n",
       "\n",
       "    .dataframe thead th {\n",
       "        text-align: right;\n",
       "    }\n",
       "</style>\n",
       "<table border=\"1\" class=\"dataframe\">\n",
       "  <thead>\n",
       "    <tr style=\"text-align: right;\">\n",
       "      <th></th>\n",
       "      <th>txNomeParlamentar</th>\n",
       "      <th>idecadastro</th>\n",
       "      <th>nuCarteiraParlamentar</th>\n",
       "      <th>nuLegislatura</th>\n",
       "      <th>sgUF</th>\n",
       "      <th>sgPartido</th>\n",
       "      <th>codLegislatura</th>\n",
       "      <th>numSubCota</th>\n",
       "      <th>txtDescricao</th>\n",
       "      <th>numEspecificacaoSubCota</th>\n",
       "      <th>...</th>\n",
       "      <th>numMes</th>\n",
       "      <th>numAno</th>\n",
       "      <th>numParcela</th>\n",
       "      <th>txtPassageiro</th>\n",
       "      <th>txtTrecho</th>\n",
       "      <th>numLote</th>\n",
       "      <th>numRessarcimento</th>\n",
       "      <th>vlrRestituicao</th>\n",
       "      <th>nuDeputadoId</th>\n",
       "      <th>ideDocumento</th>\n",
       "    </tr>\n",
       "  </thead>\n",
       "  <tbody>\n",
       "    <tr>\n",
       "      <th>0</th>\n",
       "      <td>ABEL MESQUITA JR.</td>\n",
       "      <td>178,957.00</td>\n",
       "      <td>1.00</td>\n",
       "      <td>2015</td>\n",
       "      <td>RR</td>\n",
       "      <td>DEM</td>\n",
       "      <td>55.00</td>\n",
       "      <td>1</td>\n",
       "      <td>MANUTENÇÃO DE ESCRITÓRIO DE APOIO À ATIVIDADE ...</td>\n",
       "      <td>0</td>\n",
       "      <td>...</td>\n",
       "      <td>1</td>\n",
       "      <td>2016</td>\n",
       "      <td>0</td>\n",
       "      <td>NaN</td>\n",
       "      <td>NaN</td>\n",
       "      <td>1268870</td>\n",
       "      <td>5,369.00</td>\n",
       "      <td>0.00</td>\n",
       "      <td>3074</td>\n",
       "      <td>5928744</td>\n",
       "    </tr>\n",
       "  </tbody>\n",
       "</table>\n",
       "<p>1 rows × 29 columns</p>\n",
       "</div>"
      ],
      "text/plain": [
       "   txNomeParlamentar          idecadastro  nuCarteiraParlamentar  \\\n",
       "0  ABEL MESQUITA JR.           178,957.00                   1.00   \n",
       "\n",
       "   nuLegislatura sgUF sgPartido       codLegislatura  numSubCota  \\\n",
       "0           2015   RR       DEM                55.00           1   \n",
       "\n",
       "                                        txtDescricao  numEspecificacaoSubCota  \\\n",
       "0  MANUTENÇÃO DE ESCRITÓRIO DE APOIO À ATIVIDADE ...                        0   \n",
       "\n",
       "       ...      numMes numAno numParcela txtPassageiro  txtTrecho  numLote  \\\n",
       "0      ...           1   2016          0           NaN        NaN  1268870   \n",
       "\n",
       "      numRessarcimento       vlrRestituicao nuDeputadoId  ideDocumento  \n",
       "0             5,369.00                 0.00         3074       5928744  \n",
       "\n",
       "[1 rows x 29 columns]"
      ]
     },
     "metadata": {},
     "output_type": "display_data"
    },
    {
     "data": {
      "text/plain": [
       "'Ano de 2017:'"
      ]
     },
     "metadata": {},
     "output_type": "display_data"
    },
    {
     "data": {
      "text/html": [
       "<div>\n",
       "<style scoped>\n",
       "    .dataframe tbody tr th:only-of-type {\n",
       "        vertical-align: middle;\n",
       "    }\n",
       "\n",
       "    .dataframe tbody tr th {\n",
       "        vertical-align: top;\n",
       "    }\n",
       "\n",
       "    .dataframe thead th {\n",
       "        text-align: right;\n",
       "    }\n",
       "</style>\n",
       "<table border=\"1\" class=\"dataframe\">\n",
       "  <thead>\n",
       "    <tr style=\"text-align: right;\">\n",
       "      <th></th>\n",
       "      <th>txNomeParlamentar</th>\n",
       "      <th>idecadastro</th>\n",
       "      <th>nuCarteiraParlamentar</th>\n",
       "      <th>nuLegislatura</th>\n",
       "      <th>sgUF</th>\n",
       "      <th>sgPartido</th>\n",
       "      <th>codLegislatura</th>\n",
       "      <th>numSubCota</th>\n",
       "      <th>txtDescricao</th>\n",
       "      <th>numEspecificacaoSubCota</th>\n",
       "      <th>...</th>\n",
       "      <th>numMes</th>\n",
       "      <th>numAno</th>\n",
       "      <th>numParcela</th>\n",
       "      <th>txtPassageiro</th>\n",
       "      <th>txtTrecho</th>\n",
       "      <th>numLote</th>\n",
       "      <th>numRessarcimento</th>\n",
       "      <th>vlrRestituicao</th>\n",
       "      <th>nuDeputadoId</th>\n",
       "      <th>ideDocumento</th>\n",
       "    </tr>\n",
       "  </thead>\n",
       "  <tbody>\n",
       "    <tr>\n",
       "      <th>0</th>\n",
       "      <td>ABEL MESQUITA JR.</td>\n",
       "      <td>178,957.00</td>\n",
       "      <td>1.00</td>\n",
       "      <td>2015</td>\n",
       "      <td>RR</td>\n",
       "      <td>DEM</td>\n",
       "      <td>55.00</td>\n",
       "      <td>1</td>\n",
       "      <td>MANUTENÇÃO DE ESCRITÓRIO DE APOIO À ATIVIDADE ...</td>\n",
       "      <td>0</td>\n",
       "      <td>...</td>\n",
       "      <td>4</td>\n",
       "      <td>2017</td>\n",
       "      <td>0</td>\n",
       "      <td>NaN</td>\n",
       "      <td>NaN</td>\n",
       "      <td>1377952</td>\n",
       "      <td>5,828.00</td>\n",
       "      <td>0.00</td>\n",
       "      <td>3074</td>\n",
       "      <td>6266962</td>\n",
       "    </tr>\n",
       "  </tbody>\n",
       "</table>\n",
       "<p>1 rows × 29 columns</p>\n",
       "</div>"
      ],
      "text/plain": [
       "   txNomeParlamentar          idecadastro  nuCarteiraParlamentar  \\\n",
       "0  ABEL MESQUITA JR.           178,957.00                   1.00   \n",
       "\n",
       "   nuLegislatura sgUF sgPartido       codLegislatura  numSubCota  \\\n",
       "0           2015   RR       DEM                55.00           1   \n",
       "\n",
       "                                        txtDescricao  numEspecificacaoSubCota  \\\n",
       "0  MANUTENÇÃO DE ESCRITÓRIO DE APOIO À ATIVIDADE ...                        0   \n",
       "\n",
       "       ...      numMes numAno numParcela txtPassageiro  txtTrecho  numLote  \\\n",
       "0      ...           4   2017          0           NaN        NaN  1377952   \n",
       "\n",
       "      numRessarcimento       vlrRestituicao nuDeputadoId  ideDocumento  \n",
       "0             5,828.00                 0.00         3074       6266962  \n",
       "\n",
       "[1 rows x 29 columns]"
      ]
     },
     "metadata": {},
     "output_type": "display_data"
    }
   ],
   "source": [
    "display ('Ano de 2015:', df2015.head(1), 'Ano de 2016:', df2016.head(1) , 'Ano de 2017:', df2017.head(1))"
   ]
  },
  {
   "cell_type": "markdown",
   "metadata": {},
   "source": [
    "### **B1. Arquivo do Ano de 2015**\n",
    "\n",
    "Análise básica de estatística descritiva, formato do data frame e tipo de dados de cada feature."
   ]
  },
  {
   "cell_type": "code",
   "execution_count": 6,
   "metadata": {},
   "outputs": [
    {
     "data": {
      "text/html": [
       "<div>\n",
       "<style scoped>\n",
       "    .dataframe tbody tr th:only-of-type {\n",
       "        vertical-align: middle;\n",
       "    }\n",
       "\n",
       "    .dataframe tbody tr th {\n",
       "        vertical-align: top;\n",
       "    }\n",
       "\n",
       "    .dataframe thead th {\n",
       "        text-align: right;\n",
       "    }\n",
       "</style>\n",
       "<table border=\"1\" class=\"dataframe\">\n",
       "  <thead>\n",
       "    <tr style=\"text-align: right;\">\n",
       "      <th></th>\n",
       "      <th>idecadastro</th>\n",
       "      <th>nuCarteiraParlamentar</th>\n",
       "      <th>nuLegislatura</th>\n",
       "      <th>codLegislatura</th>\n",
       "      <th>numSubCota</th>\n",
       "      <th>numEspecificacaoSubCota</th>\n",
       "      <th>indTipoDocumento</th>\n",
       "      <th>numMes</th>\n",
       "      <th>numAno</th>\n",
       "      <th>numParcela</th>\n",
       "      <th>numLote</th>\n",
       "      <th>numRessarcimento</th>\n",
       "      <th>vlrRestituicao</th>\n",
       "      <th>nuDeputadoId</th>\n",
       "      <th>ideDocumento</th>\n",
       "    </tr>\n",
       "  </thead>\n",
       "  <tbody>\n",
       "    <tr>\n",
       "      <th>count</th>\n",
       "      <td>376,142.00</td>\n",
       "      <td>376,142.00</td>\n",
       "      <td>376,863.00</td>\n",
       "      <td>376,142.00</td>\n",
       "      <td>376,863.00</td>\n",
       "      <td>376,863.00</td>\n",
       "      <td>376,863.00</td>\n",
       "      <td>376,863.00</td>\n",
       "      <td>376,863.00</td>\n",
       "      <td>376,863.00</td>\n",
       "      <td>376,863.00</td>\n",
       "      <td>376,600.00</td>\n",
       "      <td>376,863.00</td>\n",
       "      <td>376,863.00</td>\n",
       "      <td>376,863.00</td>\n",
       "    </tr>\n",
       "    <tr>\n",
       "      <th>mean</th>\n",
       "      <td>138,323.59</td>\n",
       "      <td>299.90</td>\n",
       "      <td>2,011.08</td>\n",
       "      <td>54.98</td>\n",
       "      <td>327.84</td>\n",
       "      <td>0.20</td>\n",
       "      <td>0.19</td>\n",
       "      <td>6.78</td>\n",
       "      <td>2,015.00</td>\n",
       "      <td>0.00</td>\n",
       "      <td>674,253.86</td>\n",
       "      <td>2,840.78</td>\n",
       "      <td>0.32</td>\n",
       "      <td>2,195.01</td>\n",
       "      <td>3,196,887.05</td>\n",
       "    </tr>\n",
       "    <tr>\n",
       "      <th>std</th>\n",
       "      <td>42,826.91</td>\n",
       "      <td>154.18</td>\n",
       "      <td>88.05</td>\n",
       "      <td>0.13</td>\n",
       "      <td>453.69</td>\n",
       "      <td>0.41</td>\n",
       "      <td>0.40</td>\n",
       "      <td>3.26</td>\n",
       "      <td>0.00</td>\n",
       "      <td>0.03</td>\n",
       "      <td>602,422.34</td>\n",
       "      <td>2,539.61</td>\n",
       "      <td>42.19</td>\n",
       "      <td>769.98</td>\n",
       "      <td>2,855,408.11</td>\n",
       "    </tr>\n",
       "    <tr>\n",
       "      <th>min</th>\n",
       "      <td>3,151.00</td>\n",
       "      <td>1.00</td>\n",
       "      <td>0.00</td>\n",
       "      <td>54.00</td>\n",
       "      <td>1.00</td>\n",
       "      <td>0.00</td>\n",
       "      <td>0.00</td>\n",
       "      <td>1.00</td>\n",
       "      <td>2,015.00</td>\n",
       "      <td>0.00</td>\n",
       "      <td>0.00</td>\n",
       "      <td>0.00</td>\n",
       "      <td>0.00</td>\n",
       "      <td>19.00</td>\n",
       "      <td>0.00</td>\n",
       "    </tr>\n",
       "    <tr>\n",
       "      <th>25%</th>\n",
       "      <td>74,752.00</td>\n",
       "      <td>178.00</td>\n",
       "      <td>2,015.00</td>\n",
       "      <td>55.00</td>\n",
       "      <td>3.00</td>\n",
       "      <td>0.00</td>\n",
       "      <td>0.00</td>\n",
       "      <td>4.00</td>\n",
       "      <td>2,015.00</td>\n",
       "      <td>0.00</td>\n",
       "      <td>0.00</td>\n",
       "      <td>0.00</td>\n",
       "      <td>0.00</td>\n",
       "      <td>1,703.00</td>\n",
       "      <td>0.00</td>\n",
       "    </tr>\n",
       "    <tr>\n",
       "      <th>50%</th>\n",
       "      <td>160,536.00</td>\n",
       "      <td>306.00</td>\n",
       "      <td>2,015.00</td>\n",
       "      <td>55.00</td>\n",
       "      <td>13.00</td>\n",
       "      <td>0.00</td>\n",
       "      <td>0.00</td>\n",
       "      <td>7.00</td>\n",
       "      <td>2,015.00</td>\n",
       "      <td>0.00</td>\n",
       "      <td>1,173,555.00</td>\n",
       "      <td>4,958.00</td>\n",
       "      <td>0.00</td>\n",
       "      <td>2,289.00</td>\n",
       "      <td>5,623,886.00</td>\n",
       "    </tr>\n",
       "    <tr>\n",
       "      <th>75%</th>\n",
       "      <td>178,860.00</td>\n",
       "      <td>443.00</td>\n",
       "      <td>2,015.00</td>\n",
       "      <td>55.00</td>\n",
       "      <td>999.00</td>\n",
       "      <td>0.00</td>\n",
       "      <td>0.00</td>\n",
       "      <td>10.00</td>\n",
       "      <td>2,015.00</td>\n",
       "      <td>0.00</td>\n",
       "      <td>1,217,394.00</td>\n",
       "      <td>5,124.00</td>\n",
       "      <td>0.00</td>\n",
       "      <td>2,947.00</td>\n",
       "      <td>5,761,556.50</td>\n",
       "    </tr>\n",
       "    <tr>\n",
       "      <th>max</th>\n",
       "      <td>193,069.00</td>\n",
       "      <td>674.00</td>\n",
       "      <td>2,015.00</td>\n",
       "      <td>55.00</td>\n",
       "      <td>999.00</td>\n",
       "      <td>4.00</td>\n",
       "      <td>3.00</td>\n",
       "      <td>12.00</td>\n",
       "      <td>2,015.00</td>\n",
       "      <td>1.00</td>\n",
       "      <td>1,316,186.00</td>\n",
       "      <td>5,642.00</td>\n",
       "      <td>10,000.00</td>\n",
       "      <td>3,138.00</td>\n",
       "      <td>6,078,873.00</td>\n",
       "    </tr>\n",
       "  </tbody>\n",
       "</table>\n",
       "</div>"
      ],
      "text/plain": [
       "               idecadastro  nuCarteiraParlamentar        nuLegislatura  \\\n",
       "count           376,142.00             376,142.00           376,863.00   \n",
       "mean            138,323.59                 299.90             2,011.08   \n",
       "std              42,826.91                 154.18                88.05   \n",
       "min               3,151.00                   1.00                 0.00   \n",
       "25%              74,752.00                 178.00             2,015.00   \n",
       "50%             160,536.00                 306.00             2,015.00   \n",
       "75%             178,860.00                 443.00             2,015.00   \n",
       "max             193,069.00                 674.00             2,015.00   \n",
       "\n",
       "            codLegislatura           numSubCota  numEspecificacaoSubCota  \\\n",
       "count           376,142.00           376,863.00               376,863.00   \n",
       "mean                 54.98               327.84                     0.20   \n",
       "std                   0.13               453.69                     0.41   \n",
       "min                  54.00                 1.00                     0.00   \n",
       "25%                  55.00                 3.00                     0.00   \n",
       "50%                  55.00                13.00                     0.00   \n",
       "75%                  55.00               999.00                     0.00   \n",
       "max                  55.00               999.00                     4.00   \n",
       "\n",
       "          indTipoDocumento               numMes               numAno  \\\n",
       "count           376,863.00           376,863.00           376,863.00   \n",
       "mean                  0.19                 6.78             2,015.00   \n",
       "std                   0.40                 3.26                 0.00   \n",
       "min                   0.00                 1.00             2,015.00   \n",
       "25%                   0.00                 4.00             2,015.00   \n",
       "50%                   0.00                 7.00             2,015.00   \n",
       "75%                   0.00                10.00             2,015.00   \n",
       "max                   3.00                12.00             2,015.00   \n",
       "\n",
       "                numParcela              numLote     numRessarcimento  \\\n",
       "count           376,863.00           376,863.00           376,600.00   \n",
       "mean                  0.00           674,253.86             2,840.78   \n",
       "std                   0.03           602,422.34             2,539.61   \n",
       "min                   0.00                 0.00                 0.00   \n",
       "25%                   0.00                 0.00                 0.00   \n",
       "50%                   0.00         1,173,555.00             4,958.00   \n",
       "75%                   0.00         1,217,394.00             5,124.00   \n",
       "max                   1.00         1,316,186.00             5,642.00   \n",
       "\n",
       "            vlrRestituicao         nuDeputadoId         ideDocumento  \n",
       "count           376,863.00           376,863.00           376,863.00  \n",
       "mean                  0.32             2,195.01         3,196,887.05  \n",
       "std                  42.19               769.98         2,855,408.11  \n",
       "min                   0.00                19.00                 0.00  \n",
       "25%                   0.00             1,703.00                 0.00  \n",
       "50%                   0.00             2,289.00         5,623,886.00  \n",
       "75%                   0.00             2,947.00         5,761,556.50  \n",
       "max              10,000.00             3,138.00         6,078,873.00  "
      ]
     },
     "execution_count": 6,
     "metadata": {},
     "output_type": "execute_result"
    }
   ],
   "source": [
    "df2015.describe()"
   ]
  },
  {
   "cell_type": "code",
   "execution_count": 7,
   "metadata": {},
   "outputs": [
    {
     "data": {
      "text/plain": [
       "txNomeParlamentar             object\n",
       "idecadastro                  float64\n",
       "nuCarteiraParlamentar        float64\n",
       "nuLegislatura                  int64\n",
       "sgUF                          object\n",
       "sgPartido                     object\n",
       "codLegislatura               float64\n",
       "numSubCota                     int64\n",
       "txtDescricao                  object\n",
       "numEspecificacaoSubCota        int64\n",
       "txtDescricaoEspecificacao     object\n",
       "txtFornecedor                 object\n",
       "txtCNPJCPF                    object\n",
       "txtNumero                     object\n",
       "indTipoDocumento               int64\n",
       "datEmissao                    object\n",
       "vlrDocumento                  object\n",
       "vlrGlosa                      object\n",
       "vlrLiquido                    object\n",
       "numMes                         int64\n",
       "numAno                         int64\n",
       "numParcela                     int64\n",
       "txtPassageiro                 object\n",
       "txtTrecho                     object\n",
       "numLote                        int64\n",
       "numRessarcimento             float64\n",
       "vlrRestituicao               float64\n",
       "nuDeputadoId                   int64\n",
       "ideDocumento                   int64\n",
       "dtype: object"
      ]
     },
     "execution_count": 7,
     "metadata": {},
     "output_type": "execute_result"
    }
   ],
   "source": [
    "df2015.dtypes"
   ]
  },
  {
   "cell_type": "markdown",
   "metadata": {},
   "source": [
    "### **B2. Arquivo do Ano de 2016**\n",
    "\n",
    "Análise básica de estatística descritiva, formato do data frame e tipo de dados de cada feature."
   ]
  },
  {
   "cell_type": "code",
   "execution_count": 8,
   "metadata": {},
   "outputs": [
    {
     "data": {
      "text/html": [
       "<div>\n",
       "<style scoped>\n",
       "    .dataframe tbody tr th:only-of-type {\n",
       "        vertical-align: middle;\n",
       "    }\n",
       "\n",
       "    .dataframe tbody tr th {\n",
       "        vertical-align: top;\n",
       "    }\n",
       "\n",
       "    .dataframe thead th {\n",
       "        text-align: right;\n",
       "    }\n",
       "</style>\n",
       "<table border=\"1\" class=\"dataframe\">\n",
       "  <thead>\n",
       "    <tr style=\"text-align: right;\">\n",
       "      <th></th>\n",
       "      <th>idecadastro</th>\n",
       "      <th>nuCarteiraParlamentar</th>\n",
       "      <th>nuLegislatura</th>\n",
       "      <th>codLegislatura</th>\n",
       "      <th>numSubCota</th>\n",
       "      <th>numEspecificacaoSubCota</th>\n",
       "      <th>indTipoDocumento</th>\n",
       "      <th>numMes</th>\n",
       "      <th>numAno</th>\n",
       "      <th>numParcela</th>\n",
       "      <th>numLote</th>\n",
       "      <th>numRessarcimento</th>\n",
       "      <th>vlrRestituicao</th>\n",
       "      <th>nuDeputadoId</th>\n",
       "      <th>ideDocumento</th>\n",
       "    </tr>\n",
       "  </thead>\n",
       "  <tbody>\n",
       "    <tr>\n",
       "      <th>count</th>\n",
       "      <td>357,340.00</td>\n",
       "      <td>357,340.00</td>\n",
       "      <td>358,239.00</td>\n",
       "      <td>357,340.00</td>\n",
       "      <td>358,239.00</td>\n",
       "      <td>358,239.00</td>\n",
       "      <td>358,239.00</td>\n",
       "      <td>358,239.00</td>\n",
       "      <td>358,239.00</td>\n",
       "      <td>358,239.00</td>\n",
       "      <td>358,239.00</td>\n",
       "      <td>358,065.00</td>\n",
       "      <td>358,239.00</td>\n",
       "      <td>358,239.00</td>\n",
       "      <td>358,239.00</td>\n",
       "    </tr>\n",
       "    <tr>\n",
       "      <th>mean</th>\n",
       "      <td>139,769.05</td>\n",
       "      <td>299.66</td>\n",
       "      <td>2,009.94</td>\n",
       "      <td>55.00</td>\n",
       "      <td>333.15</td>\n",
       "      <td>0.21</td>\n",
       "      <td>0.19</td>\n",
       "      <td>6.43</td>\n",
       "      <td>2,016.00</td>\n",
       "      <td>0.00</td>\n",
       "      <td>735,293.52</td>\n",
       "      <td>3,095.48</td>\n",
       "      <td>0.25</td>\n",
       "      <td>2,225.33</td>\n",
       "      <td>3,404,722.79</td>\n",
       "    </tr>\n",
       "    <tr>\n",
       "      <th>std</th>\n",
       "      <td>42,953.90</td>\n",
       "      <td>156.41</td>\n",
       "      <td>100.81</td>\n",
       "      <td>0.00</td>\n",
       "      <td>455.73</td>\n",
       "      <td>0.41</td>\n",
       "      <td>0.40</td>\n",
       "      <td>3.29</td>\n",
       "      <td>0.00</td>\n",
       "      <td>0.02</td>\n",
       "      <td>647,552.68</td>\n",
       "      <td>2,726.90</td>\n",
       "      <td>33.36</td>\n",
       "      <td>770.22</td>\n",
       "      <td>2,997,677.05</td>\n",
       "    </tr>\n",
       "    <tr>\n",
       "      <th>min</th>\n",
       "      <td>4,930.00</td>\n",
       "      <td>1.00</td>\n",
       "      <td>0.00</td>\n",
       "      <td>54.00</td>\n",
       "      <td>1.00</td>\n",
       "      <td>0.00</td>\n",
       "      <td>0.00</td>\n",
       "      <td>1.00</td>\n",
       "      <td>2,016.00</td>\n",
       "      <td>0.00</td>\n",
       "      <td>0.00</td>\n",
       "      <td>0.00</td>\n",
       "      <td>0.00</td>\n",
       "      <td>19.00</td>\n",
       "      <td>0.00</td>\n",
       "    </tr>\n",
       "    <tr>\n",
       "      <th>25%</th>\n",
       "      <td>74,812.00</td>\n",
       "      <td>176.00</td>\n",
       "      <td>2,015.00</td>\n",
       "      <td>55.00</td>\n",
       "      <td>3.00</td>\n",
       "      <td>0.00</td>\n",
       "      <td>0.00</td>\n",
       "      <td>4.00</td>\n",
       "      <td>2,016.00</td>\n",
       "      <td>0.00</td>\n",
       "      <td>0.00</td>\n",
       "      <td>0.00</td>\n",
       "      <td>0.00</td>\n",
       "      <td>1,742.00</td>\n",
       "      <td>0.00</td>\n",
       "    </tr>\n",
       "    <tr>\n",
       "      <th>50%</th>\n",
       "      <td>160,556.00</td>\n",
       "      <td>304.00</td>\n",
       "      <td>2,015.00</td>\n",
       "      <td>55.00</td>\n",
       "      <td>13.00</td>\n",
       "      <td>0.00</td>\n",
       "      <td>0.00</td>\n",
       "      <td>6.00</td>\n",
       "      <td>2,016.00</td>\n",
       "      <td>0.00</td>\n",
       "      <td>1,269,485.00</td>\n",
       "      <td>5,379.00</td>\n",
       "      <td>0.00</td>\n",
       "      <td>2,317.00</td>\n",
       "      <td>5,930,105.00</td>\n",
       "    </tr>\n",
       "    <tr>\n",
       "      <th>75%</th>\n",
       "      <td>178,872.00</td>\n",
       "      <td>444.00</td>\n",
       "      <td>2,015.00</td>\n",
       "      <td>55.00</td>\n",
       "      <td>999.00</td>\n",
       "      <td>0.00</td>\n",
       "      <td>0.00</td>\n",
       "      <td>9.00</td>\n",
       "      <td>2,016.00</td>\n",
       "      <td>0.00</td>\n",
       "      <td>1,310,362.00</td>\n",
       "      <td>5,515.00</td>\n",
       "      <td>0.00</td>\n",
       "      <td>2,958.00</td>\n",
       "      <td>6,060,101.50</td>\n",
       "    </tr>\n",
       "    <tr>\n",
       "      <th>max</th>\n",
       "      <td>195,997.00</td>\n",
       "      <td>589.00</td>\n",
       "      <td>2,015.00</td>\n",
       "      <td>55.00</td>\n",
       "      <td>999.00</td>\n",
       "      <td>4.00</td>\n",
       "      <td>3.00</td>\n",
       "      <td>12.00</td>\n",
       "      <td>2,016.00</td>\n",
       "      <td>1.00</td>\n",
       "      <td>1,412,917.00</td>\n",
       "      <td>5,966.00</td>\n",
       "      <td>9,750.00</td>\n",
       "      <td>3,161.00</td>\n",
       "      <td>6,347,902.00</td>\n",
       "    </tr>\n",
       "  </tbody>\n",
       "</table>\n",
       "</div>"
      ],
      "text/plain": [
       "               idecadastro  nuCarteiraParlamentar        nuLegislatura  \\\n",
       "count           357,340.00             357,340.00           358,239.00   \n",
       "mean            139,769.05                 299.66             2,009.94   \n",
       "std              42,953.90                 156.41               100.81   \n",
       "min               4,930.00                   1.00                 0.00   \n",
       "25%              74,812.00                 176.00             2,015.00   \n",
       "50%             160,556.00                 304.00             2,015.00   \n",
       "75%             178,872.00                 444.00             2,015.00   \n",
       "max             195,997.00                 589.00             2,015.00   \n",
       "\n",
       "            codLegislatura           numSubCota  numEspecificacaoSubCota  \\\n",
       "count           357,340.00           358,239.00               358,239.00   \n",
       "mean                 55.00               333.15                     0.21   \n",
       "std                   0.00               455.73                     0.41   \n",
       "min                  54.00                 1.00                     0.00   \n",
       "25%                  55.00                 3.00                     0.00   \n",
       "50%                  55.00                13.00                     0.00   \n",
       "75%                  55.00               999.00                     0.00   \n",
       "max                  55.00               999.00                     4.00   \n",
       "\n",
       "          indTipoDocumento               numMes               numAno  \\\n",
       "count           358,239.00           358,239.00           358,239.00   \n",
       "mean                  0.19                 6.43             2,016.00   \n",
       "std                   0.40                 3.29                 0.00   \n",
       "min                   0.00                 1.00             2,016.00   \n",
       "25%                   0.00                 4.00             2,016.00   \n",
       "50%                   0.00                 6.00             2,016.00   \n",
       "75%                   0.00                 9.00             2,016.00   \n",
       "max                   3.00                12.00             2,016.00   \n",
       "\n",
       "                numParcela              numLote     numRessarcimento  \\\n",
       "count           358,239.00           358,239.00           358,065.00   \n",
       "mean                  0.00           735,293.52             3,095.48   \n",
       "std                   0.02           647,552.68             2,726.90   \n",
       "min                   0.00                 0.00                 0.00   \n",
       "25%                   0.00                 0.00                 0.00   \n",
       "50%                   0.00         1,269,485.00             5,379.00   \n",
       "75%                   0.00         1,310,362.00             5,515.00   \n",
       "max                   1.00         1,412,917.00             5,966.00   \n",
       "\n",
       "            vlrRestituicao         nuDeputadoId         ideDocumento  \n",
       "count           358,239.00           358,239.00           358,239.00  \n",
       "mean                  0.25             2,225.33         3,404,722.79  \n",
       "std                  33.36               770.22         2,997,677.05  \n",
       "min                   0.00                19.00                 0.00  \n",
       "25%                   0.00             1,742.00                 0.00  \n",
       "50%                   0.00             2,317.00         5,930,105.00  \n",
       "75%                   0.00             2,958.00         6,060,101.50  \n",
       "max               9,750.00             3,161.00         6,347,902.00  "
      ]
     },
     "execution_count": 8,
     "metadata": {},
     "output_type": "execute_result"
    }
   ],
   "source": [
    "df2016.describe()"
   ]
  },
  {
   "cell_type": "code",
   "execution_count": 9,
   "metadata": {},
   "outputs": [
    {
     "data": {
      "text/plain": [
       "txNomeParlamentar             object\n",
       "idecadastro                  float64\n",
       "nuCarteiraParlamentar        float64\n",
       "nuLegislatura                  int64\n",
       "sgUF                          object\n",
       "sgPartido                     object\n",
       "codLegislatura               float64\n",
       "numSubCota                     int64\n",
       "txtDescricao                  object\n",
       "numEspecificacaoSubCota        int64\n",
       "txtDescricaoEspecificacao     object\n",
       "txtFornecedor                 object\n",
       "txtCNPJCPF                    object\n",
       "txtNumero                     object\n",
       "indTipoDocumento               int64\n",
       "datEmissao                    object\n",
       "vlrDocumento                  object\n",
       "vlrGlosa                      object\n",
       "vlrLiquido                    object\n",
       "numMes                         int64\n",
       "numAno                         int64\n",
       "numParcela                     int64\n",
       "txtPassageiro                 object\n",
       "txtTrecho                     object\n",
       "numLote                        int64\n",
       "numRessarcimento             float64\n",
       "vlrRestituicao               float64\n",
       "nuDeputadoId                   int64\n",
       "ideDocumento                   int64\n",
       "dtype: object"
      ]
     },
     "execution_count": 9,
     "metadata": {},
     "output_type": "execute_result"
    }
   ],
   "source": [
    "df2016.dtypes"
   ]
  },
  {
   "cell_type": "markdown",
   "metadata": {},
   "source": [
    "### **B3. Arquivo do Ano de 2017**\n",
    "\n",
    "Análise básica de estatística descritiva, formato do data frame e tipo de dados de cada feature."
   ]
  },
  {
   "cell_type": "code",
   "execution_count": 10,
   "metadata": {},
   "outputs": [
    {
     "data": {
      "text/html": [
       "<div>\n",
       "<style scoped>\n",
       "    .dataframe tbody tr th:only-of-type {\n",
       "        vertical-align: middle;\n",
       "    }\n",
       "\n",
       "    .dataframe tbody tr th {\n",
       "        vertical-align: top;\n",
       "    }\n",
       "\n",
       "    .dataframe thead th {\n",
       "        text-align: right;\n",
       "    }\n",
       "</style>\n",
       "<table border=\"1\" class=\"dataframe\">\n",
       "  <thead>\n",
       "    <tr style=\"text-align: right;\">\n",
       "      <th></th>\n",
       "      <th>idecadastro</th>\n",
       "      <th>nuCarteiraParlamentar</th>\n",
       "      <th>nuLegislatura</th>\n",
       "      <th>codLegislatura</th>\n",
       "      <th>numSubCota</th>\n",
       "      <th>numEspecificacaoSubCota</th>\n",
       "      <th>indTipoDocumento</th>\n",
       "      <th>numMes</th>\n",
       "      <th>numAno</th>\n",
       "      <th>numParcela</th>\n",
       "      <th>numLote</th>\n",
       "      <th>numRessarcimento</th>\n",
       "      <th>vlrRestituicao</th>\n",
       "      <th>nuDeputadoId</th>\n",
       "      <th>ideDocumento</th>\n",
       "    </tr>\n",
       "  </thead>\n",
       "  <tbody>\n",
       "    <tr>\n",
       "      <th>count</th>\n",
       "      <td>340,295.00</td>\n",
       "      <td>340,295.00</td>\n",
       "      <td>341,223.00</td>\n",
       "      <td>340,295.00</td>\n",
       "      <td>341,223.00</td>\n",
       "      <td>341,223.00</td>\n",
       "      <td>341,223.00</td>\n",
       "      <td>341,223.00</td>\n",
       "      <td>341,223.00</td>\n",
       "      <td>341,223.00</td>\n",
       "      <td>341,223.00</td>\n",
       "      <td>341,112.00</td>\n",
       "      <td>341,223.00</td>\n",
       "      <td>341,223.00</td>\n",
       "      <td>341,223.00</td>\n",
       "    </tr>\n",
       "    <tr>\n",
       "      <th>mean</th>\n",
       "      <td>140,546.81</td>\n",
       "      <td>309.28</td>\n",
       "      <td>2,009.52</td>\n",
       "      <td>55.00</td>\n",
       "      <td>333.79</td>\n",
       "      <td>0.21</td>\n",
       "      <td>0.26</td>\n",
       "      <td>6.53</td>\n",
       "      <td>2,017.00</td>\n",
       "      <td>0.00</td>\n",
       "      <td>810,361.32</td>\n",
       "      <td>3,403.34</td>\n",
       "      <td>0.26</td>\n",
       "      <td>2,250.82</td>\n",
       "      <td>3,655,381.11</td>\n",
       "    </tr>\n",
       "    <tr>\n",
       "      <th>std</th>\n",
       "      <td>43,284.31</td>\n",
       "      <td>163.22</td>\n",
       "      <td>104.94</td>\n",
       "      <td>0.00</td>\n",
       "      <td>454.62</td>\n",
       "      <td>0.42</td>\n",
       "      <td>0.62</td>\n",
       "      <td>3.27</td>\n",
       "      <td>0.00</td>\n",
       "      <td>0.02</td>\n",
       "      <td>694,733.48</td>\n",
       "      <td>2,918.04</td>\n",
       "      <td>56.19</td>\n",
       "      <td>771.22</td>\n",
       "      <td>3,132,674.58</td>\n",
       "    </tr>\n",
       "    <tr>\n",
       "      <th>min</th>\n",
       "      <td>4,930.00</td>\n",
       "      <td>1.00</td>\n",
       "      <td>0.00</td>\n",
       "      <td>55.00</td>\n",
       "      <td>1.00</td>\n",
       "      <td>0.00</td>\n",
       "      <td>0.00</td>\n",
       "      <td>1.00</td>\n",
       "      <td>2,017.00</td>\n",
       "      <td>0.00</td>\n",
       "      <td>0.00</td>\n",
       "      <td>0.00</td>\n",
       "      <td>0.00</td>\n",
       "      <td>19.00</td>\n",
       "      <td>0.00</td>\n",
       "    </tr>\n",
       "    <tr>\n",
       "      <th>25%</th>\n",
       "      <td>74,856.00</td>\n",
       "      <td>181.00</td>\n",
       "      <td>2,015.00</td>\n",
       "      <td>55.00</td>\n",
       "      <td>3.00</td>\n",
       "      <td>0.00</td>\n",
       "      <td>0.00</td>\n",
       "      <td>4.00</td>\n",
       "      <td>2,017.00</td>\n",
       "      <td>0.00</td>\n",
       "      <td>0.00</td>\n",
       "      <td>0.00</td>\n",
       "      <td>0.00</td>\n",
       "      <td>1,758.00</td>\n",
       "      <td>0.00</td>\n",
       "    </tr>\n",
       "    <tr>\n",
       "      <th>50%</th>\n",
       "      <td>160,561.00</td>\n",
       "      <td>313.00</td>\n",
       "      <td>2,015.00</td>\n",
       "      <td>55.00</td>\n",
       "      <td>13.00</td>\n",
       "      <td>0.00</td>\n",
       "      <td>0.00</td>\n",
       "      <td>6.00</td>\n",
       "      <td>2,017.00</td>\n",
       "      <td>0.00</td>\n",
       "      <td>1,365,751.00</td>\n",
       "      <td>5,767.00</td>\n",
       "      <td>0.00</td>\n",
       "      <td>2,340.00</td>\n",
       "      <td>6,229,502.00</td>\n",
       "    </tr>\n",
       "    <tr>\n",
       "      <th>75%</th>\n",
       "      <td>178,885.00</td>\n",
       "      <td>455.00</td>\n",
       "      <td>2,015.00</td>\n",
       "      <td>55.00</td>\n",
       "      <td>999.00</td>\n",
       "      <td>0.00</td>\n",
       "      <td>0.00</td>\n",
       "      <td>9.00</td>\n",
       "      <td>2,017.00</td>\n",
       "      <td>0.00</td>\n",
       "      <td>1,412,142.00</td>\n",
       "      <td>5,929.00</td>\n",
       "      <td>0.00</td>\n",
       "      <td>2,967.00</td>\n",
       "      <td>6,357,983.50</td>\n",
       "    </tr>\n",
       "    <tr>\n",
       "      <th>max</th>\n",
       "      <td>199,809.00</td>\n",
       "      <td>607.00</td>\n",
       "      <td>2,015.00</td>\n",
       "      <td>55.00</td>\n",
       "      <td>999.00</td>\n",
       "      <td>4.00</td>\n",
       "      <td>4.00</td>\n",
       "      <td>12.00</td>\n",
       "      <td>2,017.00</td>\n",
       "      <td>1.00</td>\n",
       "      <td>1,484,725.00</td>\n",
       "      <td>6,252.00</td>\n",
       "      <td>28,450.00</td>\n",
       "      <td>3,176.00</td>\n",
       "      <td>6,553,207.00</td>\n",
       "    </tr>\n",
       "  </tbody>\n",
       "</table>\n",
       "</div>"
      ],
      "text/plain": [
       "               idecadastro  nuCarteiraParlamentar        nuLegislatura  \\\n",
       "count           340,295.00             340,295.00           341,223.00   \n",
       "mean            140,546.81                 309.28             2,009.52   \n",
       "std              43,284.31                 163.22               104.94   \n",
       "min               4,930.00                   1.00                 0.00   \n",
       "25%              74,856.00                 181.00             2,015.00   \n",
       "50%             160,561.00                 313.00             2,015.00   \n",
       "75%             178,885.00                 455.00             2,015.00   \n",
       "max             199,809.00                 607.00             2,015.00   \n",
       "\n",
       "            codLegislatura           numSubCota  numEspecificacaoSubCota  \\\n",
       "count           340,295.00           341,223.00               341,223.00   \n",
       "mean                 55.00               333.79                     0.21   \n",
       "std                   0.00               454.62                     0.42   \n",
       "min                  55.00                 1.00                     0.00   \n",
       "25%                  55.00                 3.00                     0.00   \n",
       "50%                  55.00                13.00                     0.00   \n",
       "75%                  55.00               999.00                     0.00   \n",
       "max                  55.00               999.00                     4.00   \n",
       "\n",
       "          indTipoDocumento               numMes               numAno  \\\n",
       "count           341,223.00           341,223.00           341,223.00   \n",
       "mean                  0.26                 6.53             2,017.00   \n",
       "std                   0.62                 3.27                 0.00   \n",
       "min                   0.00                 1.00             2,017.00   \n",
       "25%                   0.00                 4.00             2,017.00   \n",
       "50%                   0.00                 6.00             2,017.00   \n",
       "75%                   0.00                 9.00             2,017.00   \n",
       "max                   4.00                12.00             2,017.00   \n",
       "\n",
       "                numParcela              numLote     numRessarcimento  \\\n",
       "count           341,223.00           341,223.00           341,112.00   \n",
       "mean                  0.00           810,361.32             3,403.34   \n",
       "std                   0.02           694,733.48             2,918.04   \n",
       "min                   0.00                 0.00                 0.00   \n",
       "25%                   0.00                 0.00                 0.00   \n",
       "50%                   0.00         1,365,751.00             5,767.00   \n",
       "75%                   0.00         1,412,142.00             5,929.00   \n",
       "max                   1.00         1,484,725.00             6,252.00   \n",
       "\n",
       "            vlrRestituicao         nuDeputadoId         ideDocumento  \n",
       "count           341,223.00           341,223.00           341,223.00  \n",
       "mean                  0.26             2,250.82         3,655,381.11  \n",
       "std                  56.19               771.22         3,132,674.58  \n",
       "min                   0.00                19.00                 0.00  \n",
       "25%                   0.00             1,758.00                 0.00  \n",
       "50%                   0.00             2,340.00         6,229,502.00  \n",
       "75%                   0.00             2,967.00         6,357,983.50  \n",
       "max              28,450.00             3,176.00         6,553,207.00  "
      ]
     },
     "execution_count": 10,
     "metadata": {},
     "output_type": "execute_result"
    }
   ],
   "source": [
    "df2017.describe()"
   ]
  },
  {
   "cell_type": "code",
   "execution_count": 11,
   "metadata": {},
   "outputs": [
    {
     "data": {
      "text/plain": [
       "txNomeParlamentar             object\n",
       "idecadastro                  float64\n",
       "nuCarteiraParlamentar        float64\n",
       "nuLegislatura                  int64\n",
       "sgUF                          object\n",
       "sgPartido                     object\n",
       "codLegislatura               float64\n",
       "numSubCota                     int64\n",
       "txtDescricao                  object\n",
       "numEspecificacaoSubCota        int64\n",
       "txtDescricaoEspecificacao     object\n",
       "txtFornecedor                 object\n",
       "txtCNPJCPF                    object\n",
       "txtNumero                     object\n",
       "indTipoDocumento               int64\n",
       "datEmissao                    object\n",
       "vlrDocumento                  object\n",
       "vlrGlosa                      object\n",
       "vlrLiquido                    object\n",
       "numMes                         int64\n",
       "numAno                         int64\n",
       "numParcela                     int64\n",
       "txtPassageiro                 object\n",
       "txtTrecho                     object\n",
       "numLote                        int64\n",
       "numRessarcimento             float64\n",
       "vlrRestituicao               float64\n",
       "nuDeputadoId                   int64\n",
       "ideDocumento                   int64\n",
       "dtype: object"
      ]
     },
     "execution_count": 11,
     "metadata": {},
     "output_type": "execute_result"
    }
   ],
   "source": [
    "df2017.dtypes"
   ]
  },
  {
   "cell_type": "markdown",
   "metadata": {},
   "source": [
    "### **B4. Criando novo Data Frame concatenando os três datasets (2015, 2016 e 2017)**\n",
    "\n",
    "Será realizada a criação de um novo Data Frame chamado ** df_trienio** com o conteúdo formado pela fusão dos três arquivos de dados: df2015, df2016 e df2017."
   ]
  },
  {
   "cell_type": "code",
   "execution_count": 12,
   "metadata": {
    "scrolled": true
   },
   "outputs": [
    {
     "data": {
      "text/plain": [
       "(1076325, 29)"
      ]
     },
     "execution_count": 12,
     "metadata": {},
     "output_type": "execute_result"
    }
   ],
   "source": [
    "df_merged = pd.concat([df2015, df2016, df2017])\n",
    "df_merged.shape"
   ]
  },
  {
   "cell_type": "markdown",
   "metadata": {},
   "source": [
    "### **B5. Definindo as colunas (features) a serem removidas **\n",
    "Agora removeremos as colunas que não serão utilizadas na análise e deixaremos as seguintes colunas:\n",
    "\n",
    "| #                   |  Número da Coluna   | Elemento de Dado         |\n",
    "|:-------------------:|:-------------------:|:------------------------:|\n",
    "| 1                   | 1                   |txNomeParlamentar         |\n",
    "| 2                   | 5                   |sgUF                      |\n",
    "| 3                   | 6                   |sgPartido                 |\n",
    "| 4                   | 9                   |txtDescricao              |\n",
    "| 5                   | 17                  |vlrDocumento              |\n",
    "| 6                   | 20                  |numMes                    |\n",
    "| 7                   | 21                  |numAno                    |"
   ]
  },
  {
   "cell_type": "markdown",
   "metadata": {},
   "source": [
    "### **B6. Removendo as colunas desconsideradas**\n",
    "\n",
    "Na tabela abaixo a coluna **'Uso'** indicada as colunas consideradas relevantes para a análise do projeto pela indicação da letra **'S'**.\n",
    "Para realizar a permanência apenas dos features selecionados utilizou-se o método **'filter'** e a criação de novo data frame para este fim chamado **'df_trienio_filter'**.\n"
   ]
  },
  {
   "cell_type": "code",
   "execution_count": 13,
   "metadata": {},
   "outputs": [
    {
     "data": {
      "text/html": [
       "<b> TABELA 1 - Lista de features dos arquivos e sua seleção quanto a relevância.</b>\n",
       "<p></p>\n",
       "<img src = 'image/tabela.png', width = 1000, align = left>"
      ],
      "text/plain": [
       "<IPython.core.display.HTML object>"
      ]
     },
     "metadata": {},
     "output_type": "display_data"
    }
   ],
   "source": [
    "%%html\n",
    "<b> TABELA 1 - Lista de features dos arquivos e sua seleção quanto a relevância.</b>\n",
    "<p></p>\n",
    "<img src = 'image/tabela.png', width = 1000, align = left>"
   ]
  },
  {
   "cell_type": "code",
   "execution_count": 14,
   "metadata": {},
   "outputs": [
    {
     "data": {
      "text/plain": [
       "(1076325, 7)"
      ]
     },
     "execution_count": 14,
     "metadata": {},
     "output_type": "execute_result"
    }
   ],
   "source": [
    "## Ao invés de darmos 'drop' nos features que não desejamos, que são 21 features, \n",
    "## iremos selecionar as colunas desejadas, e inserindo os dados no novo dataframe pandas 'dft'.\n",
    "\n",
    "dft = df_merged.filter(items=['txNomeParlamentar', 'sgUF', 'sgPartido', 'txtDescricao', \\\n",
    "                              'vlrDocumento', 'numAno', 'numMes'])\n",
    "dft.shape"
   ]
  },
  {
   "cell_type": "code",
   "execution_count": 15,
   "metadata": {
    "scrolled": false
   },
   "outputs": [
    {
     "data": {
      "text/html": [
       "<div>\n",
       "<style scoped>\n",
       "    .dataframe tbody tr th:only-of-type {\n",
       "        vertical-align: middle;\n",
       "    }\n",
       "\n",
       "    .dataframe tbody tr th {\n",
       "        vertical-align: top;\n",
       "    }\n",
       "\n",
       "    .dataframe thead th {\n",
       "        text-align: right;\n",
       "    }\n",
       "</style>\n",
       "<table border=\"1\" class=\"dataframe\">\n",
       "  <thead>\n",
       "    <tr style=\"text-align: right;\">\n",
       "      <th></th>\n",
       "      <th>txNomeParlamentar</th>\n",
       "      <th>sgUF</th>\n",
       "      <th>sgPartido</th>\n",
       "      <th>txtDescricao</th>\n",
       "      <th>vlrDocumento</th>\n",
       "      <th>numAno</th>\n",
       "      <th>numMes</th>\n",
       "    </tr>\n",
       "  </thead>\n",
       "  <tbody>\n",
       "    <tr>\n",
       "      <th>0</th>\n",
       "      <td>ABEL MESQUITA JR.</td>\n",
       "      <td>RR</td>\n",
       "      <td>DEM</td>\n",
       "      <td>MANUTENÇÃO DE ESCRITÓRIO DE APOIO À ATIVIDADE ...</td>\n",
       "      <td>165,65</td>\n",
       "      <td>2015</td>\n",
       "      <td>11</td>\n",
       "    </tr>\n",
       "    <tr>\n",
       "      <th>1</th>\n",
       "      <td>ABEL MESQUITA JR.</td>\n",
       "      <td>RR</td>\n",
       "      <td>DEM</td>\n",
       "      <td>MANUTENÇÃO DE ESCRITÓRIO DE APOIO À ATIVIDADE ...</td>\n",
       "      <td>59,48</td>\n",
       "      <td>2015</td>\n",
       "      <td>12</td>\n",
       "    </tr>\n",
       "  </tbody>\n",
       "</table>\n",
       "</div>"
      ],
      "text/plain": [
       "   txNomeParlamentar sgUF sgPartido  \\\n",
       "0  ABEL MESQUITA JR.   RR       DEM   \n",
       "1  ABEL MESQUITA JR.   RR       DEM   \n",
       "\n",
       "                                        txtDescricao vlrDocumento  numAno  \\\n",
       "0  MANUTENÇÃO DE ESCRITÓRIO DE APOIO À ATIVIDADE ...       165,65    2015   \n",
       "1  MANUTENÇÃO DE ESCRITÓRIO DE APOIO À ATIVIDADE ...        59,48    2015   \n",
       "\n",
       "   numMes  \n",
       "0      11  \n",
       "1      12  "
      ]
     },
     "execution_count": 15,
     "metadata": {},
     "output_type": "execute_result"
    }
   ],
   "source": [
    "dft.head(2)"
   ]
  },
  {
   "cell_type": "markdown",
   "metadata": {},
   "source": [
    "> #### Comentário:\n",
    "> Filtramos com êxito as features desejadas."
   ]
  },
  {
   "cell_type": "markdown",
   "metadata": {},
   "source": [
    "### B.7 Alterando a notação financeira brasileira pela americana.\n",
    "Como não é possível trabalharmos com a notação financeira brasileira que utiliza vírgola (',') para notação decimal com ponto ('.'). "
   ]
  },
  {
   "cell_type": "code",
   "execution_count": 16,
   "metadata": {},
   "outputs": [
    {
     "data": {
      "text/plain": [
       "'Head:'"
      ]
     },
     "metadata": {},
     "output_type": "display_data"
    },
    {
     "data": {
      "text/html": [
       "<div>\n",
       "<style scoped>\n",
       "    .dataframe tbody tr th:only-of-type {\n",
       "        vertical-align: middle;\n",
       "    }\n",
       "\n",
       "    .dataframe tbody tr th {\n",
       "        vertical-align: top;\n",
       "    }\n",
       "\n",
       "    .dataframe thead th {\n",
       "        text-align: right;\n",
       "    }\n",
       "</style>\n",
       "<table border=\"1\" class=\"dataframe\">\n",
       "  <thead>\n",
       "    <tr style=\"text-align: right;\">\n",
       "      <th></th>\n",
       "      <th>txNomeParlamentar</th>\n",
       "      <th>sgUF</th>\n",
       "      <th>sgPartido</th>\n",
       "      <th>txtDescricao</th>\n",
       "      <th>vlrDocumento</th>\n",
       "      <th>numAno</th>\n",
       "      <th>numMes</th>\n",
       "    </tr>\n",
       "  </thead>\n",
       "  <tbody>\n",
       "    <tr>\n",
       "      <th>0</th>\n",
       "      <td>ABEL MESQUITA JR.</td>\n",
       "      <td>RR</td>\n",
       "      <td>DEM</td>\n",
       "      <td>MANUTENÇÃO DE ESCRITÓRIO DE APOIO À ATIVIDADE ...</td>\n",
       "      <td>165,65</td>\n",
       "      <td>2015</td>\n",
       "      <td>11</td>\n",
       "    </tr>\n",
       "  </tbody>\n",
       "</table>\n",
       "</div>"
      ],
      "text/plain": [
       "   txNomeParlamentar sgUF sgPartido  \\\n",
       "0  ABEL MESQUITA JR.   RR       DEM   \n",
       "\n",
       "                                        txtDescricao vlrDocumento  numAno  \\\n",
       "0  MANUTENÇÃO DE ESCRITÓRIO DE APOIO À ATIVIDADE ...       165,65    2015   \n",
       "\n",
       "   numMes  \n",
       "0      11  "
      ]
     },
     "metadata": {},
     "output_type": "display_data"
    },
    {
     "data": {
      "text/plain": [
       "'Shape:'"
      ]
     },
     "metadata": {},
     "output_type": "display_data"
    },
    {
     "data": {
      "text/plain": [
       "(1076325, 7)"
      ]
     },
     "metadata": {},
     "output_type": "display_data"
    }
   ],
   "source": [
    "display('Head:', dft.head(1), 'Shape:', dft.shape)"
   ]
  },
  {
   "cell_type": "code",
   "execution_count": 17,
   "metadata": {},
   "outputs": [
    {
     "data": {
      "text/html": [
       "<div>\n",
       "<style scoped>\n",
       "    .dataframe tbody tr th:only-of-type {\n",
       "        vertical-align: middle;\n",
       "    }\n",
       "\n",
       "    .dataframe tbody tr th {\n",
       "        vertical-align: top;\n",
       "    }\n",
       "\n",
       "    .dataframe thead th {\n",
       "        text-align: right;\n",
       "    }\n",
       "</style>\n",
       "<table border=\"1\" class=\"dataframe\">\n",
       "  <thead>\n",
       "    <tr style=\"text-align: right;\">\n",
       "      <th></th>\n",
       "      <th>txNomeParlamentar</th>\n",
       "      <th>sgUF</th>\n",
       "      <th>sgPartido</th>\n",
       "      <th>txtDescricao</th>\n",
       "      <th>vlrDocumento</th>\n",
       "      <th>numAno</th>\n",
       "      <th>numMes</th>\n",
       "    </tr>\n",
       "  </thead>\n",
       "  <tbody>\n",
       "    <tr>\n",
       "      <th>0</th>\n",
       "      <td>ABEL MESQUITA JR.</td>\n",
       "      <td>RR</td>\n",
       "      <td>DEM</td>\n",
       "      <td>MANUTENÇÃO DE ESCRITÓRIO DE APOIO À ATIVIDADE ...</td>\n",
       "      <td>165.65</td>\n",
       "      <td>2015</td>\n",
       "      <td>11</td>\n",
       "    </tr>\n",
       "    <tr>\n",
       "      <th>1</th>\n",
       "      <td>ABEL MESQUITA JR.</td>\n",
       "      <td>RR</td>\n",
       "      <td>DEM</td>\n",
       "      <td>MANUTENÇÃO DE ESCRITÓRIO DE APOIO À ATIVIDADE ...</td>\n",
       "      <td>59.48</td>\n",
       "      <td>2015</td>\n",
       "      <td>12</td>\n",
       "    </tr>\n",
       "  </tbody>\n",
       "</table>\n",
       "</div>"
      ],
      "text/plain": [
       "   txNomeParlamentar sgUF sgPartido  \\\n",
       "0  ABEL MESQUITA JR.   RR       DEM   \n",
       "1  ABEL MESQUITA JR.   RR       DEM   \n",
       "\n",
       "                                        txtDescricao         vlrDocumento  \\\n",
       "0  MANUTENÇÃO DE ESCRITÓRIO DE APOIO À ATIVIDADE ...               165.65   \n",
       "1  MANUTENÇÃO DE ESCRITÓRIO DE APOIO À ATIVIDADE ...                59.48   \n",
       "\n",
       "   numAno  numMes  \n",
       "0    2015      11  \n",
       "1    2015      12  "
      ]
     },
     "execution_count": 17,
     "metadata": {},
     "output_type": "execute_result"
    }
   ],
   "source": [
    "## Substituição das virgulas por pontos e transformando coluna em inteiro\n",
    "dft['vlrDocumento'] = dft['vlrDocumento'].str.replace(',', '.')\n",
    "dft['vlrDocumento'] = pd.to_numeric(dft['vlrDocumento'])\n",
    "\n",
    "dft.head(2)"
   ]
  },
  {
   "cell_type": "markdown",
   "metadata": {},
   "source": [
    "### B.8 Verificando se há algum dado de outros anos ou algum erro na inserção do ano."
   ]
  },
  {
   "cell_type": "code",
   "execution_count": 18,
   "metadata": {
    "scrolled": true
   },
   "outputs": [
    {
     "data": {
      "text/plain": [
       "txNomeParlamentar    0\n",
       "sgUF                 0\n",
       "sgPartido            0\n",
       "txtDescricao         0\n",
       "vlrDocumento         0\n",
       "numAno               0\n",
       "numMes               0\n",
       "dtype: int64"
      ]
     },
     "execution_count": 18,
     "metadata": {},
     "output_type": "execute_result"
    }
   ],
   "source": [
    "## Verificando se há dados de outros anos ou dado errado.\n",
    "\n",
    "dft[~dft['numAno'].isin([2015, 2016, 2017])].count()"
   ]
  },
  {
   "cell_type": "markdown",
   "metadata": {},
   "source": [
    "#### Comentário:\n",
    "> Não há entradas na coluna numAno que não sejam os anos de 2015, 2016 e 2017."
   ]
  },
  {
   "cell_type": "markdown",
   "metadata": {},
   "source": [
    "### B.9 Alterando os nome originais das colunas"
   ]
  },
  {
   "cell_type": "markdown",
   "metadata": {},
   "source": [
    " #### Alterando o nome das features para melhor representação em gráficos:\n",
    "\n",
    "> txNomeParlamentar => Nome\n",
    ">\n",
    "> sgUF .......................=> UF\n",
    ">\n",
    "> sgPartido ................=> Partido\n",
    ">\n",
    "> txtDescricao ...........=> Tipo\n",
    ">\n",
    "> vlrDocumento .........=> Valor\n",
    ">\n",
    "> numAno ..................=> Ano\n",
    ">\n",
    "> numMes .................=> Mes"
   ]
  },
  {
   "cell_type": "code",
   "execution_count": 19,
   "metadata": {},
   "outputs": [
    {
     "data": {
      "text/plain": [
       "Index(['txNomeParlamentar', 'sgUF', 'sgPartido', 'txtDescricao',\n",
       "       'vlrDocumento', 'numAno', 'numMes'],\n",
       "      dtype='object')"
      ]
     },
     "execution_count": 19,
     "metadata": {},
     "output_type": "execute_result"
    }
   ],
   "source": [
    "# listando o nome das colunas.\n",
    "dft.columns"
   ]
  },
  {
   "cell_type": "code",
   "execution_count": 20,
   "metadata": {},
   "outputs": [],
   "source": [
    "dft.rename(columns={'txNomeParlamentar':'Nome', 'sgUF':'UF', 'sgPartido':'Partido','txtDescricao':'Tipo',\\\n",
    "                                  'vlrDocumento':'Valor', 'numAno':'Ano', 'numMes':'Mes'}, inplace=True)"
   ]
  },
  {
   "cell_type": "code",
   "execution_count": 21,
   "metadata": {},
   "outputs": [
    {
     "data": {
      "text/plain": [
       "Index(['Nome', 'UF', 'Partido', 'Tipo', 'Valor', 'Ano', 'Mes'], dtype='object')"
      ]
     },
     "execution_count": 21,
     "metadata": {},
     "output_type": "execute_result"
    }
   ],
   "source": [
    "# Listando os nomes das colunas para verificar o êxito do comando.\n",
    "dft.columns"
   ]
  },
  {
   "cell_type": "markdown",
   "metadata": {},
   "source": [
    "### B.10 Alterando a descrição das entradas da coluna 'Tipo' para uniformização e simplificação."
   ]
  },
  {
   "cell_type": "code",
   "execution_count": 22,
   "metadata": {},
   "outputs": [
    {
     "data": {
      "text/plain": [
       "array(['MANUTENÇÃO DE ESCRITÓRIO DE APOIO À ATIVIDADE PARLAMENTAR',\n",
       "       'COMBUSTÍVEIS E LUBRIFICANTES.',\n",
       "       'CONSULTORIAS, PESQUISAS E TRABALHOS TÉCNICOS.',\n",
       "       'DIVULGAÇÃO DA ATIVIDADE PARLAMENTAR.',\n",
       "       'SERVIÇO DE SEGURANÇA PRESTADO POR EMPRESA ESPECIALIZADA.',\n",
       "       'PASSAGENS AÉREAS', 'TELEFONIA', 'SERVIÇOS POSTAIS',\n",
       "       'FORNECIMENTO DE ALIMENTAÇÃO DO PARLAMENTAR',\n",
       "       'LOCAÇÃO OU FRETAMENTO DE VEÍCULOS AUTOMOTORES',\n",
       "       'LOCAÇÃO OU FRETAMENTO DE EMBARCAÇÕES',\n",
       "       'SERVIÇO DE TÁXI, PEDÁGIO E ESTACIONAMENTO',\n",
       "       'Emissão Bilhete Aéreo',\n",
       "       'HOSPEDAGEM ,EXCETO DO PARLAMENTAR NO DISTRITO FEDERAL.',\n",
       "       'LOCAÇÃO OU FRETAMENTO DE AERONAVES',\n",
       "       'PASSAGENS TERRESTRES, MARÍTIMAS OU FLUVIAIS',\n",
       "       'ASSINATURA DE PUBLICAÇÕES',\n",
       "       'PARTICIPAÇÃO EM CURSO, PALESTRA OU EVENTO SIMILAR'], dtype=object)"
      ]
     },
     "execution_count": 22,
     "metadata": {},
     "output_type": "execute_result"
    }
   ],
   "source": [
    "## É necessário uniformizar as descrições dos feature 'Descrição'.\n",
    "## Para isto iremos substituir a atual descrição uma mais suscinta e representativa.\n",
    "## Utilizaremos o método 'unique' para identificar as descrições únicas existentes na coluna.\n",
    "\n",
    "dft['Tipo'].unique()"
   ]
  },
  {
   "cell_type": "code",
   "execution_count": 23,
   "metadata": {},
   "outputs": [],
   "source": [
    "dft['Tipo'] = dft['Tipo'].map({'MANUTENÇÃO DE ESCRITÓRIO DE APOIO À ATIVIDADE PARLAMENTAR':'Escritório',\n",
    "                                                                    'COMBUSTÍVEIS E LUBRIFICANTES.':'C&L',\n",
    "                                                                    'CONSULTORIAS, PESQUISAS E TRABALHOS TÉCNICOS.':'Consultorias',\n",
    "                                                                    'DIVULGAÇÃO DA ATIVIDADE PARLAMENTAR.':'Divulgação',\n",
    "                                                                    'SERVIÇO DE SEGURANÇA PRESTADO POR EMPRESA ESPECIALIZADA.':'Segurança',\n",
    "                                                                    'PASSAGENS AÉREAS':'Passagens Aéreas',\n",
    "                                                                    'TELEFONIA':'Telefonia',\n",
    "                                                                    'SERVIÇOS POSTAIS':'Correios',\n",
    "                                                                    'FORNECIMENTO DE ALIMENTAÇÃO DO PARLAMENTAR':'Alimentação',\n",
    "                                                                    'LOCAÇÃO OU FRETAMENTO DE VEÍCULOS AUTOMOTORES':'Locação de Carro',\n",
    "                                                                    'LOCAÇÃO OU FRETAMENTO DE EMBARCAÇÕES':'Locação de Embarcação',\n",
    "                                                                    'SERVIÇO DE TÁXI, PEDÁGIO E ESTACIONAMENTO':'Taxi',\n",
    "                                                                    'Emissão Bilhete Aéreo':'Passagens Aéreas',\n",
    "                                                                    'HOSPEDAGEM ,EXCETO DO PARLAMENTAR NO DISTRITO FEDERAL.':'Hospedagem'})"
   ]
  },
  {
   "cell_type": "code",
   "execution_count": 24,
   "metadata": {},
   "outputs": [
    {
     "data": {
      "text/plain": [
       "(1076325, 7)"
      ]
     },
     "execution_count": 24,
     "metadata": {},
     "output_type": "execute_result"
    }
   ],
   "source": [
    "dft.shape"
   ]
  },
  {
   "cell_type": "markdown",
   "metadata": {},
   "source": [
    "### B.11 Removendo valores negativos do feature Valor."
   ]
  },
  {
   "cell_type": "code",
   "execution_count": 25,
   "metadata": {
    "scrolled": true
   },
   "outputs": [
    {
     "data": {
      "text/html": [
       "<div>\n",
       "<style scoped>\n",
       "    .dataframe tbody tr th:only-of-type {\n",
       "        vertical-align: middle;\n",
       "    }\n",
       "\n",
       "    .dataframe tbody tr th {\n",
       "        vertical-align: top;\n",
       "    }\n",
       "\n",
       "    .dataframe thead th {\n",
       "        text-align: right;\n",
       "    }\n",
       "</style>\n",
       "<table border=\"1\" class=\"dataframe\">\n",
       "  <thead>\n",
       "    <tr style=\"text-align: right;\">\n",
       "      <th></th>\n",
       "      <th>Nome</th>\n",
       "      <th>UF</th>\n",
       "      <th>Partido</th>\n",
       "      <th>Tipo</th>\n",
       "      <th>Valor</th>\n",
       "      <th>Ano</th>\n",
       "      <th>Mes</th>\n",
       "    </tr>\n",
       "  </thead>\n",
       "  <tbody>\n",
       "    <tr>\n",
       "      <th>161</th>\n",
       "      <td>ABEL MESQUITA JR.</td>\n",
       "      <td>RR</td>\n",
       "      <td>DEM</td>\n",
       "      <td>Passagens Aéreas</td>\n",
       "      <td>-1,188.25</td>\n",
       "      <td>2015</td>\n",
       "      <td>8</td>\n",
       "    </tr>\n",
       "  </tbody>\n",
       "</table>\n",
       "</div>"
      ],
      "text/plain": [
       "                  Nome  UF Partido              Tipo                Valor  \\\n",
       "161  ABEL MESQUITA JR.  RR     DEM  Passagens Aéreas            -1,188.25   \n",
       "\n",
       "      Ano  Mes  \n",
       "161  2015    8  "
      ]
     },
     "execution_count": 25,
     "metadata": {},
     "output_type": "execute_result"
    }
   ],
   "source": [
    "valor_neg = dft[dft['Valor'] < 0].head(100)\n",
    "valor_neg.head(H)"
   ]
  },
  {
   "cell_type": "code",
   "execution_count": 26,
   "metadata": {},
   "outputs": [
    {
     "data": {
      "text/plain": [
       "(1076325, 7)"
      ]
     },
     "execution_count": 26,
     "metadata": {},
     "output_type": "execute_result"
    }
   ],
   "source": [
    "dft.shape"
   ]
  },
  {
   "cell_type": "code",
   "execution_count": 27,
   "metadata": {},
   "outputs": [],
   "source": [
    "# Removendo as linhas com valores negativos.\n",
    "dft = dft[dft['Valor'] > 0]"
   ]
  },
  {
   "cell_type": "code",
   "execution_count": 28,
   "metadata": {},
   "outputs": [
    {
     "data": {
      "text/plain": [
       "(1021465, 7)"
      ]
     },
     "execution_count": 28,
     "metadata": {},
     "output_type": "execute_result"
    }
   ],
   "source": [
    "dft.shape"
   ]
  },
  {
   "cell_type": "markdown",
   "metadata": {},
   "source": [
    "### **B12. Identificar colunas com NaN **"
   ]
  },
  {
   "cell_type": "code",
   "execution_count": 29,
   "metadata": {
    "scrolled": true
   },
   "outputs": [
    {
     "data": {
      "text/plain": [
       "Nome          0\n",
       "UF         2548\n",
       "Partido    2548\n",
       "Tipo       7116\n",
       "Valor         0\n",
       "Ano           0\n",
       "Mes           0\n",
       "dtype: int64"
      ]
     },
     "execution_count": 29,
     "metadata": {},
     "output_type": "execute_result"
    }
   ],
   "source": [
    "# Listando a quantidade de NaN identificado no Dataframe dft.\n",
    "dft.isnull().sum()"
   ]
  },
  {
   "cell_type": "code",
   "execution_count": 30,
   "metadata": {},
   "outputs": [],
   "source": [
    "# Substituindo valores NaN nas colunas UF, Partido por N/A (Não se Aplica)\n",
    "# e Tipo de gasto por S/D (Sem Descrição).\n",
    "# \n",
    "dft['UF'].fillna('N/A', inplace = True)\n",
    "dft['Partido'].fillna('N/A', inplace = True)\n",
    "dft['Tipo'].fillna('S/D', inplace = True)\n"
   ]
  },
  {
   "cell_type": "code",
   "execution_count": 31,
   "metadata": {
    "scrolled": false
   },
   "outputs": [
    {
     "data": {
      "text/plain": [
       "Nome       0\n",
       "UF         0\n",
       "Partido    0\n",
       "Tipo       0\n",
       "Valor      0\n",
       "Ano        0\n",
       "Mes        0\n",
       "dtype: int64"
      ]
     },
     "execution_count": 31,
     "metadata": {},
     "output_type": "execute_result"
    }
   ],
   "source": [
    "dft\n",
    "#df_trienio_filter[df_trienio_filter.isnull().any(axis=1)]\n",
    "dft.isnull().sum()"
   ]
  },
  {
   "cell_type": "markdown",
   "metadata": {},
   "source": [
    "## C. Exportação do Dataset limpo"
   ]
  },
  {
   "cell_type": "markdown",
   "metadata": {},
   "source": [
    "### C.1 Avaliando o dataset a ser exportado."
   ]
  },
  {
   "cell_type": "code",
   "execution_count": 32,
   "metadata": {},
   "outputs": [
    {
     "data": {
      "text/plain": [
       "(1021465, 7)"
      ]
     },
     "execution_count": 32,
     "metadata": {},
     "output_type": "execute_result"
    }
   ],
   "source": [
    "dft.shape"
   ]
  },
  {
   "cell_type": "code",
   "execution_count": 33,
   "metadata": {
    "scrolled": false
   },
   "outputs": [
    {
     "data": {
      "text/html": [
       "<div>\n",
       "<style scoped>\n",
       "    .dataframe tbody tr th:only-of-type {\n",
       "        vertical-align: middle;\n",
       "    }\n",
       "\n",
       "    .dataframe tbody tr th {\n",
       "        vertical-align: top;\n",
       "    }\n",
       "\n",
       "    .dataframe thead th {\n",
       "        text-align: right;\n",
       "    }\n",
       "</style>\n",
       "<table border=\"1\" class=\"dataframe\">\n",
       "  <thead>\n",
       "    <tr style=\"text-align: right;\">\n",
       "      <th></th>\n",
       "      <th>Nome</th>\n",
       "      <th>UF</th>\n",
       "      <th>Partido</th>\n",
       "      <th>Tipo</th>\n",
       "      <th>Valor</th>\n",
       "      <th>Ano</th>\n",
       "      <th>Mes</th>\n",
       "    </tr>\n",
       "  </thead>\n",
       "  <tbody>\n",
       "    <tr>\n",
       "      <th>0</th>\n",
       "      <td>ABEL MESQUITA JR.</td>\n",
       "      <td>RR</td>\n",
       "      <td>DEM</td>\n",
       "      <td>Escritório</td>\n",
       "      <td>165.65</td>\n",
       "      <td>2015</td>\n",
       "      <td>11</td>\n",
       "    </tr>\n",
       "    <tr>\n",
       "      <th>1</th>\n",
       "      <td>ABEL MESQUITA JR.</td>\n",
       "      <td>RR</td>\n",
       "      <td>DEM</td>\n",
       "      <td>Escritório</td>\n",
       "      <td>59.48</td>\n",
       "      <td>2015</td>\n",
       "      <td>12</td>\n",
       "    </tr>\n",
       "    <tr>\n",
       "      <th>2</th>\n",
       "      <td>ABEL MESQUITA JR.</td>\n",
       "      <td>RR</td>\n",
       "      <td>DEM</td>\n",
       "      <td>Escritório</td>\n",
       "      <td>130.95</td>\n",
       "      <td>2015</td>\n",
       "      <td>11</td>\n",
       "    </tr>\n",
       "    <tr>\n",
       "      <th>3</th>\n",
       "      <td>ABEL MESQUITA JR.</td>\n",
       "      <td>RR</td>\n",
       "      <td>DEM</td>\n",
       "      <td>Escritório</td>\n",
       "      <td>196.53</td>\n",
       "      <td>2015</td>\n",
       "      <td>12</td>\n",
       "    </tr>\n",
       "    <tr>\n",
       "      <th>4</th>\n",
       "      <td>ABEL MESQUITA JR.</td>\n",
       "      <td>RR</td>\n",
       "      <td>DEM</td>\n",
       "      <td>Escritório</td>\n",
       "      <td>310.25</td>\n",
       "      <td>2015</td>\n",
       "      <td>2</td>\n",
       "    </tr>\n",
       "  </tbody>\n",
       "</table>\n",
       "</div>"
      ],
      "text/plain": [
       "                Nome  UF Partido        Tipo                Valor   Ano  Mes\n",
       "0  ABEL MESQUITA JR.  RR     DEM  Escritório               165.65  2015   11\n",
       "1  ABEL MESQUITA JR.  RR     DEM  Escritório                59.48  2015   12\n",
       "2  ABEL MESQUITA JR.  RR     DEM  Escritório               130.95  2015   11\n",
       "3  ABEL MESQUITA JR.  RR     DEM  Escritório               196.53  2015   12\n",
       "4  ABEL MESQUITA JR.  RR     DEM  Escritório               310.25  2015    2"
      ]
     },
     "execution_count": 33,
     "metadata": {},
     "output_type": "execute_result"
    }
   ],
   "source": [
    "dft.head()"
   ]
  },
  {
   "cell_type": "code",
   "execution_count": 34,
   "metadata": {
    "scrolled": true
   },
   "outputs": [
    {
     "data": {
      "text/html": [
       "<div>\n",
       "<style scoped>\n",
       "    .dataframe tbody tr th:only-of-type {\n",
       "        vertical-align: middle;\n",
       "    }\n",
       "\n",
       "    .dataframe tbody tr th {\n",
       "        vertical-align: top;\n",
       "    }\n",
       "\n",
       "    .dataframe thead th {\n",
       "        text-align: right;\n",
       "    }\n",
       "</style>\n",
       "<table border=\"1\" class=\"dataframe\">\n",
       "  <thead>\n",
       "    <tr style=\"text-align: right;\">\n",
       "      <th></th>\n",
       "      <th>Valor</th>\n",
       "      <th>Ano</th>\n",
       "      <th>Mes</th>\n",
       "    </tr>\n",
       "  </thead>\n",
       "  <tbody>\n",
       "    <tr>\n",
       "      <th>count</th>\n",
       "      <td>1,021,465.00</td>\n",
       "      <td>1,021,465.00</td>\n",
       "      <td>1,021,465.00</td>\n",
       "    </tr>\n",
       "    <tr>\n",
       "      <th>mean</th>\n",
       "      <td>691.83</td>\n",
       "      <td>2,015.96</td>\n",
       "      <td>6.56</td>\n",
       "    </tr>\n",
       "    <tr>\n",
       "      <th>std</th>\n",
       "      <td>2,141.03</td>\n",
       "      <td>0.82</td>\n",
       "      <td>3.28</td>\n",
       "    </tr>\n",
       "    <tr>\n",
       "      <th>min</th>\n",
       "      <td>0.01</td>\n",
       "      <td>2,015.00</td>\n",
       "      <td>1.00</td>\n",
       "    </tr>\n",
       "    <tr>\n",
       "      <th>25%</th>\n",
       "      <td>55.09</td>\n",
       "      <td>2,015.00</td>\n",
       "      <td>4.00</td>\n",
       "    </tr>\n",
       "    <tr>\n",
       "      <th>50%</th>\n",
       "      <td>163.40</td>\n",
       "      <td>2,016.00</td>\n",
       "      <td>6.00</td>\n",
       "    </tr>\n",
       "    <tr>\n",
       "      <th>75%</th>\n",
       "      <td>574.53</td>\n",
       "      <td>2,017.00</td>\n",
       "      <td>9.00</td>\n",
       "    </tr>\n",
       "    <tr>\n",
       "      <th>max</th>\n",
       "      <td>189,600.00</td>\n",
       "      <td>2,017.00</td>\n",
       "      <td>12.00</td>\n",
       "    </tr>\n",
       "  </tbody>\n",
       "</table>\n",
       "</div>"
      ],
      "text/plain": [
       "                     Valor                  Ano                  Mes\n",
       "count         1,021,465.00         1,021,465.00         1,021,465.00\n",
       "mean                691.83             2,015.96                 6.56\n",
       "std               2,141.03                 0.82                 3.28\n",
       "min                   0.01             2,015.00                 1.00\n",
       "25%                  55.09             2,015.00                 4.00\n",
       "50%                 163.40             2,016.00                 6.00\n",
       "75%                 574.53             2,017.00                 9.00\n",
       "max             189,600.00             2,017.00                12.00"
      ]
     },
     "execution_count": 34,
     "metadata": {},
     "output_type": "execute_result"
    }
   ],
   "source": [
    "dft.describe()"
   ]
  },
  {
   "cell_type": "code",
   "execution_count": 35,
   "metadata": {
    "scrolled": false
   },
   "outputs": [
    {
     "data": {
      "image/png": "[encoded data removed]",
      "text/plain": [
       "<Figure size 432x288 with 1 Axes>"
      ]
     },
     "metadata": {},
     "output_type": "display_data"
    }
   ],
   "source": [
    "# Histograma com log\n",
    "plt.hist(dft['Valor'], bins = 100, histtype = 'stepfilled', align = 'mid', rwidth = 10, log = True, color = 'red')\n",
    "plt.suptitle(\"Histograma de distribuição da feature 'Valor' logarítmico\", fontsize = fonte)\n",
    "plt.xticks(rotation = 0)\n",
    "plt.xlabel('Valores')\n",
    "plt.ylabel('Frequência')\n",
    "plt.show()"
   ]
  },
  {
   "cell_type": "code",
   "execution_count": 36,
   "metadata": {
    "scrolled": true
   },
   "outputs": [
    {
     "data": {
      "image/png": "[encoded data removed]",
      "text/plain": [
       "<Figure size 432x288 with 1 Axes>"
      ]
     },
     "metadata": {},
     "output_type": "display_data"
    }
   ],
   "source": [
    "# Histograma com log\n",
    "plt.hist(dft['Valor'], bins = 100, histtype = 'stepfilled', align = 'mid', rwidth = 10, log = False, color = 'red')\n",
    "plt.suptitle(\"Histograma de distribuição da feature 'Valor'\", fontsize = fonte)\n",
    "plt.xlabel('Valores')\n",
    "plt.ylabel('Frequência')\n",
    "plt.xticks(rotation = 0)\n",
    "plt.show()"
   ]
  },
  {
   "cell_type": "code",
   "execution_count": 37,
   "metadata": {
    "scrolled": false
   },
   "outputs": [
    {
     "name": "stderr",
     "output_type": "stream",
     "text": [
      "/Users/tec/anaconda3/lib/python3.6/site-packages/matplotlib/axes/_axes.py:6462: UserWarning: The 'normed' kwarg is deprecated, and has been replaced by the 'density' kwarg.\n",
      "  warnings.warn(\"The 'normed' kwarg is deprecated, and has been \"\n"
     ]
    },
    {
     "data": {
      "image/png": "[encoded data removed]",
      "text/plain": [
       "<Figure size 432x288 with 1 Axes>"
      ]
     },
     "metadata": {},
     "output_type": "display_data"
    }
   ],
   "source": [
    "sns.distplot( dft[\"Valor\"], bins=20 , hist = True,  kde = True, norm_hist=True, color = 'red')\n",
    "plt.suptitle(\"Histograma de distribuição da feature 'Valor'\", fontsize = fonte)\n",
    "plt.xlabel('Valores')\n",
    "plt.ylabel('Frequência normalizada')\n",
    "plt.xlim(0,15000)\n",
    "plt.show()"
   ]
  },
  {
   "cell_type": "code",
   "execution_count": 38,
   "metadata": {
    "scrolled": false
   },
   "outputs": [
    {
     "data": {
      "image/png": "[encoded data removed]",
      "text/plain": [
       "<Figure size 432x288 with 1 Axes>"
      ]
     },
     "metadata": {},
     "output_type": "display_data"
    }
   ],
   "source": [
    "sns.kdeplot(dft['Valor'], color = 'red', shade = True);\n",
    "plt.xlabel('Valores')\n",
    "plt.ylabel('Frequência normalizada')\n",
    "plt.xlim(0,15000)\n",
    "plt.show()\n"
   ]
  },
  {
   "cell_type": "raw",
   "metadata": {},
   "source": [
    "sns.pairplot(dft)\n",
    "plt.show()"
   ]
  },
  {
   "cell_type": "markdown",
   "metadata": {},
   "source": [
    "### **C.2 Exportação do Data Frame com Dados Limpos para um arquivo CSV**\n",
    "\n",
    "Para iniciar a análise exploratória propriamente dita é exportado o resultado da limpeza de dados para um novo arquivo CSV **df_trienio_limpo.csv**"
   ]
  },
  {
   "cell_type": "code",
   "execution_count": 39,
   "metadata": {},
   "outputs": [],
   "source": [
    "dft.to_csv('./dataset/df_trienio_limpo.csv', index=False, sep=';', encoding = 'latin1')"
   ]
  }
 ],
 "metadata": {
  "kernelspec": {
   "display_name": "Python 3",
   "language": "python",
   "name": "python3"
  },
  "language_info": {
   "codemirror_mode": {
    "name": "ipython",
    "version": 3
   },
   "file_extension": ".py",
   "mimetype": "text/x-python",
   "name": "python",
   "nbconvert_exporter": "python",
   "pygments_lexer": "ipython3",
   "version": "3.6.5"
  }
 },
 "nbformat": 4,
 "nbformat_minor": 2
}
