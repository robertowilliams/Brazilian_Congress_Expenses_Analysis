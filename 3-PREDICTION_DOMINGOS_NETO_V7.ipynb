{
 "cells": [
  {
   "cell_type": "markdown",
   "metadata": {},
   "source": [
    "# **MACHINE LEARNING NANODEGREE**\n",
    "***\n",
    "## **PROJETO FINAL**\n",
    "***\n",
    "\n",
    "## **Análise Preditiva de Cota para Exercício Parlamentar (CEAP)**\n",
    "\n",
    "## ** PARTE 3 - Predição de Dados**\n",
    "***\n",
    "\n",
    "## ** DEPUTADO DOMINGOS NETO**\n",
    "\n",
    "***"
   ]
  },
  {
   "cell_type": "markdown",
   "metadata": {},
   "source": [
    "## ** INTRODUÇÃO **\n",
    "\n",
    "Realizaremos uma análise preditiva dos gastos para o ano de 2018 utilizando-se de algoritmo de aprendizado supervisionado.\n",
    "\n",
    "É importante ressaltar que um deputado, salvo reeleição, terá registro de apenas quatros anos de despezas da CEAP. O que acaba sendo relativamente poucos dados os três primeiros anos para previsão dos gastos do último ano do mandato. Esta característica do dataset pode causar overfitting e ter impactos negativos com outliers.\n",
    "\n",
    "Para contornar este problema devemos buscar utilizar algoritmos de menor complexidade, com menor número de parâmetros.\n",
    "Tendo em vista estes desafios iremos utilizar dois tipos de lagoritmo:\n",
    "> 1. LINEAR REGRESSION\n",
    "> 2. LASSO REGRESSION\n",
    "> 3. LARS LASSO REGRESSION\n",
    "> 4. RIDGE REGRESSION\n",
    "> 5. BAYESIAN RIDGE\n",
    "\n",
    "Referência: https://goo.gl/gRYnWW"
   ]
  },
  {
   "cell_type": "markdown",
   "metadata": {},
   "source": [
    "***\n",
    "\n",
    "## **A. Importação de Biblioteca Python**\n",
    "\n",
    "#### Serão utilizadas neste projeto as seguintes bibliotecas Python:\n",
    "\n",
    "> 1. Pandas\n",
    "> 2. Numpy\n",
    "> 3. Scikit Learn\n",
    "> 4. Seaborn\n"
   ]
  },
  {
   "cell_type": "code",
   "execution_count": 1,
   "metadata": {},
   "outputs": [
    {
     "name": "stderr",
     "output_type": "stream",
     "text": [
      "/Users/tec/anaconda3/lib/python3.6/site-packages/sklearn/cross_validation.py:41: DeprecationWarning: This module was deprecated in version 0.18 in favor of the model_selection module into which all the refactored classes and functions are moved. Also note that the interface of the new CV iterators are different from that of this module. This module will be removed in 0.20.\n",
      "  \"This module will be removed in 0.20.\", DeprecationWarning)\n"
     ]
    }
   ],
   "source": [
    "import pandas as pd\n",
    "import numpy as np\n",
    "import os\n",
    "import sklearn\n",
    "from sklearn.metrics import r2_score\n",
    "import sys\n",
    "import os\n",
    "import matplotlib.pyplot as plt\n",
    "import matplotlib.axes as axes\n",
    "import seaborn as sns\n",
    "\n",
    "# pre-processing\n",
    "#from sklearn.preprocessing import OneHotEncoder\n",
    "#from sklearn.preprocessing import LabelEncoder\n",
    "\n",
    "# Cross validation\n",
    "from sklearn.cross_validation import train_test_split\n",
    "from sklearn.cross_validation import ShuffleSplit\n",
    "from sklearn.model_selection import cross_val_predict\n",
    "\n",
    "# Model selection\n",
    "from sklearn.model_selection import train_test_split\n",
    "#from sklearn.model_selection import KFold\n",
    "\n",
    "# Machine learning\n",
    "\n",
    "from sklearn.linear_model import LinearRegression\n",
    "from sklearn import linear_model\n",
    "from sklearn.linear_model import Ridge\n",
    "#from sklearn.tree import DecisionTreeRegressor\n",
    "#from sklearn.grid_search import GridSearchCV\n",
    "\n",
    "# Métrica\n",
    "from sklearn.metrics import mean_squared_error, r2_score\n",
    "#from sklearn.metrics import make_scorer\n",
    "\n",
    "# definindo que a execução do código na linha de baixo.\n",
    "%matplotlib inline\n",
    "\n",
    "# Ajustando globalmente o impedimento de notação científica\n",
    "pd.options.display.float_format = '{:20,.2f}'.format\n",
    "\n",
    "# Variável para definir a amostragem para head() e Tail()\n",
    "H = 1"
   ]
  },
  {
   "cell_type": "markdown",
   "metadata": {},
   "source": [
    "***\n",
    "\n",
    "## **B. Preparação de Dataset**\n"
   ]
  },
  {
   "cell_type": "markdown",
   "metadata": {},
   "source": [
    "### B.1 Importando o dataset\n",
    "Será utilizado o dataset individual criado para o **Dep. Domingos Neto**:\n",
    "\n",
    "> - df_dom_con.csv.\n"
   ]
  },
  {
   "cell_type": "code",
   "execution_count": 2,
   "metadata": {},
   "outputs": [
    {
     "data": {
      "text/plain": [
       "['.DS_Store',\n",
       " 'Ano-2015.csv',\n",
       " 'Ano-2016.csv',\n",
       " 'Ano-2017.csv',\n",
       " 'df_dom_con.csv',\n",
       " 'df_fco_con.csv',\n",
       " 'df_roc_con.csv',\n",
       " 'df_trienio_limpo.csv']"
      ]
     },
     "metadata": {},
     "output_type": "display_data"
    }
   ],
   "source": [
    "display(os.listdir('dataset'))"
   ]
  },
  {
   "cell_type": "code",
   "execution_count": 3,
   "metadata": {
    "scrolled": false
   },
   "outputs": [],
   "source": [
    "# importando o dataset limpo.\n",
    "df = pd.read_csv('dataset/df_dom_con.csv', sep = ';', encoding='latin1')"
   ]
  },
  {
   "cell_type": "code",
   "execution_count": 4,
   "metadata": {
    "scrolled": false
   },
   "outputs": [
    {
     "data": {
      "text/plain": [
       "array(['C&L', 'Consultorias', 'Correios', 'Divulgação', 'Hospedagem',\n",
       "       'Passagens Aéreas', 'S/D', 'Telefonia', 'Escritório',\n",
       "       'Locação de Carro'], dtype=object)"
      ]
     },
     "execution_count": 4,
     "metadata": {},
     "output_type": "execute_result"
    }
   ],
   "source": [
    "df.Tipo.unique()"
   ]
  },
  {
   "cell_type": "markdown",
   "metadata": {},
   "source": [
    "***\n",
    "## C. DEPUTADO DOMINGOS NETO"
   ]
  },
  {
   "cell_type": "markdown",
   "metadata": {},
   "source": [
    "## C.1 CRIANDO X e y"
   ]
  },
  {
   "cell_type": "code",
   "execution_count": 5,
   "metadata": {},
   "outputs": [],
   "source": [
    "# Criação da variáveis X e y.\n",
    "X = df\n",
    "y = X.pop('Valor')"
   ]
  },
  {
   "cell_type": "code",
   "execution_count": 6,
   "metadata": {},
   "outputs": [
    {
     "data": {
      "text/html": [
       "<div>\n",
       "<style scoped>\n",
       "    .dataframe tbody tr th:only-of-type {\n",
       "        vertical-align: middle;\n",
       "    }\n",
       "\n",
       "    .dataframe tbody tr th {\n",
       "        vertical-align: top;\n",
       "    }\n",
       "\n",
       "    .dataframe thead th {\n",
       "        text-align: right;\n",
       "    }\n",
       "</style>\n",
       "<table border=\"1\" class=\"dataframe\">\n",
       "  <thead>\n",
       "    <tr style=\"text-align: right;\">\n",
       "      <th></th>\n",
       "      <th>Tipo</th>\n",
       "      <th>Ano</th>\n",
       "    </tr>\n",
       "  </thead>\n",
       "  <tbody>\n",
       "    <tr>\n",
       "      <th>0</th>\n",
       "      <td>C&amp;L</td>\n",
       "      <td>2015</td>\n",
       "    </tr>\n",
       "  </tbody>\n",
       "</table>\n",
       "</div>"
      ],
      "text/plain": [
       "  Tipo   Ano\n",
       "0  C&L  2015"
      ]
     },
     "execution_count": 6,
     "metadata": {},
     "output_type": "execute_result"
    }
   ],
   "source": [
    "X.head(H)"
   ]
  },
  {
   "cell_type": "code",
   "execution_count": 7,
   "metadata": {},
   "outputs": [
    {
     "data": {
      "text/plain": [
       "0              15,222.61\n",
       "Name: Valor, dtype: float64"
      ]
     },
     "execution_count": 7,
     "metadata": {},
     "output_type": "execute_result"
    }
   ],
   "source": [
    "y.head(H)"
   ]
  },
  {
   "cell_type": "code",
   "execution_count": 8,
   "metadata": {},
   "outputs": [
    {
     "data": {
      "text/plain": [
       "(24, 2)"
      ]
     },
     "execution_count": 8,
     "metadata": {},
     "output_type": "execute_result"
    }
   ],
   "source": [
    "X.shape"
   ]
  },
  {
   "cell_type": "markdown",
   "metadata": {},
   "source": [
    "## C.2 CRIANDO UM DATAFRAME PARA PREDIÇÃO DE 2018"
   ]
  },
  {
   "cell_type": "markdown",
   "metadata": {},
   "source": [
    "Antes de aplicarmos get_dummies na feature Tipo, precisamos listar todo o conteúdo único contido para criarmos o dataframe de predição para 2018."
   ]
  },
  {
   "cell_type": "code",
   "execution_count": 9,
   "metadata": {},
   "outputs": [
    {
     "data": {
      "text/html": [
       "<div>\n",
       "<style scoped>\n",
       "    .dataframe tbody tr th:only-of-type {\n",
       "        vertical-align: middle;\n",
       "    }\n",
       "\n",
       "    .dataframe tbody tr th {\n",
       "        vertical-align: top;\n",
       "    }\n",
       "\n",
       "    .dataframe thead th {\n",
       "        text-align: right;\n",
       "    }\n",
       "</style>\n",
       "<table border=\"1\" class=\"dataframe\">\n",
       "  <thead>\n",
       "    <tr style=\"text-align: right;\">\n",
       "      <th></th>\n",
       "      <th>Ano</th>\n",
       "      <th>Tipo_C&amp;L</th>\n",
       "      <th>Tipo_Consultorias</th>\n",
       "      <th>Tipo_Correios</th>\n",
       "      <th>Tipo_Divulgação</th>\n",
       "      <th>Tipo_Escritório</th>\n",
       "      <th>Tipo_Hospedagem</th>\n",
       "      <th>Tipo_Locação de Carro</th>\n",
       "      <th>Tipo_Passagens Aéreas</th>\n",
       "      <th>Tipo_S/D</th>\n",
       "      <th>Tipo_Telefonia</th>\n",
       "    </tr>\n",
       "  </thead>\n",
       "  <tbody>\n",
       "    <tr>\n",
       "      <th>0</th>\n",
       "      <td>2018</td>\n",
       "      <td>1</td>\n",
       "      <td>0</td>\n",
       "      <td>0</td>\n",
       "      <td>0</td>\n",
       "      <td>0</td>\n",
       "      <td>0</td>\n",
       "      <td>0</td>\n",
       "      <td>0</td>\n",
       "      <td>0</td>\n",
       "      <td>0</td>\n",
       "    </tr>\n",
       "    <tr>\n",
       "      <th>1</th>\n",
       "      <td>2018</td>\n",
       "      <td>0</td>\n",
       "      <td>1</td>\n",
       "      <td>0</td>\n",
       "      <td>0</td>\n",
       "      <td>0</td>\n",
       "      <td>0</td>\n",
       "      <td>0</td>\n",
       "      <td>0</td>\n",
       "      <td>0</td>\n",
       "      <td>0</td>\n",
       "    </tr>\n",
       "    <tr>\n",
       "      <th>2</th>\n",
       "      <td>2018</td>\n",
       "      <td>0</td>\n",
       "      <td>0</td>\n",
       "      <td>1</td>\n",
       "      <td>0</td>\n",
       "      <td>0</td>\n",
       "      <td>0</td>\n",
       "      <td>0</td>\n",
       "      <td>0</td>\n",
       "      <td>0</td>\n",
       "      <td>0</td>\n",
       "    </tr>\n",
       "    <tr>\n",
       "      <th>3</th>\n",
       "      <td>2018</td>\n",
       "      <td>0</td>\n",
       "      <td>0</td>\n",
       "      <td>0</td>\n",
       "      <td>1</td>\n",
       "      <td>0</td>\n",
       "      <td>0</td>\n",
       "      <td>0</td>\n",
       "      <td>0</td>\n",
       "      <td>0</td>\n",
       "      <td>0</td>\n",
       "    </tr>\n",
       "    <tr>\n",
       "      <th>4</th>\n",
       "      <td>2018</td>\n",
       "      <td>0</td>\n",
       "      <td>0</td>\n",
       "      <td>0</td>\n",
       "      <td>0</td>\n",
       "      <td>0</td>\n",
       "      <td>1</td>\n",
       "      <td>0</td>\n",
       "      <td>0</td>\n",
       "      <td>0</td>\n",
       "      <td>0</td>\n",
       "    </tr>\n",
       "    <tr>\n",
       "      <th>5</th>\n",
       "      <td>2018</td>\n",
       "      <td>0</td>\n",
       "      <td>0</td>\n",
       "      <td>0</td>\n",
       "      <td>0</td>\n",
       "      <td>0</td>\n",
       "      <td>0</td>\n",
       "      <td>0</td>\n",
       "      <td>1</td>\n",
       "      <td>0</td>\n",
       "      <td>0</td>\n",
       "    </tr>\n",
       "    <tr>\n",
       "      <th>6</th>\n",
       "      <td>2018</td>\n",
       "      <td>0</td>\n",
       "      <td>0</td>\n",
       "      <td>0</td>\n",
       "      <td>0</td>\n",
       "      <td>0</td>\n",
       "      <td>0</td>\n",
       "      <td>0</td>\n",
       "      <td>0</td>\n",
       "      <td>1</td>\n",
       "      <td>0</td>\n",
       "    </tr>\n",
       "    <tr>\n",
       "      <th>7</th>\n",
       "      <td>2018</td>\n",
       "      <td>0</td>\n",
       "      <td>0</td>\n",
       "      <td>0</td>\n",
       "      <td>0</td>\n",
       "      <td>0</td>\n",
       "      <td>0</td>\n",
       "      <td>0</td>\n",
       "      <td>0</td>\n",
       "      <td>0</td>\n",
       "      <td>1</td>\n",
       "    </tr>\n",
       "    <tr>\n",
       "      <th>8</th>\n",
       "      <td>2018</td>\n",
       "      <td>0</td>\n",
       "      <td>0</td>\n",
       "      <td>0</td>\n",
       "      <td>0</td>\n",
       "      <td>1</td>\n",
       "      <td>0</td>\n",
       "      <td>0</td>\n",
       "      <td>0</td>\n",
       "      <td>0</td>\n",
       "      <td>0</td>\n",
       "    </tr>\n",
       "    <tr>\n",
       "      <th>9</th>\n",
       "      <td>2018</td>\n",
       "      <td>0</td>\n",
       "      <td>0</td>\n",
       "      <td>0</td>\n",
       "      <td>0</td>\n",
       "      <td>0</td>\n",
       "      <td>0</td>\n",
       "      <td>1</td>\n",
       "      <td>0</td>\n",
       "      <td>0</td>\n",
       "      <td>0</td>\n",
       "    </tr>\n",
       "  </tbody>\n",
       "</table>\n",
       "</div>"
      ],
      "text/plain": [
       "    Ano  Tipo_C&L  Tipo_Consultorias  Tipo_Correios  Tipo_Divulgação  \\\n",
       "0  2018         1                  0              0                0   \n",
       "1  2018         0                  1              0                0   \n",
       "2  2018         0                  0              1                0   \n",
       "3  2018         0                  0              0                1   \n",
       "4  2018         0                  0              0                0   \n",
       "5  2018         0                  0              0                0   \n",
       "6  2018         0                  0              0                0   \n",
       "7  2018         0                  0              0                0   \n",
       "8  2018         0                  0              0                0   \n",
       "9  2018         0                  0              0                0   \n",
       "\n",
       "   Tipo_Escritório  Tipo_Hospedagem  Tipo_Locação de Carro  \\\n",
       "0                0                0                      0   \n",
       "1                0                0                      0   \n",
       "2                0                0                      0   \n",
       "3                0                0                      0   \n",
       "4                0                1                      0   \n",
       "5                0                0                      0   \n",
       "6                0                0                      0   \n",
       "7                0                0                      0   \n",
       "8                1                0                      0   \n",
       "9                0                0                      1   \n",
       "\n",
       "   Tipo_Passagens Aéreas  Tipo_S/D  Tipo_Telefonia  \n",
       "0                      0         0               0  \n",
       "1                      0         0               0  \n",
       "2                      0         0               0  \n",
       "3                      0         0               0  \n",
       "4                      0         0               0  \n",
       "5                      1         0               0  \n",
       "6                      0         1               0  \n",
       "7                      0         0               1  \n",
       "8                      0         0               0  \n",
       "9                      0         0               0  "
      ]
     },
     "execution_count": 9,
     "metadata": {},
     "output_type": "execute_result"
    }
   ],
   "source": [
    "uniq = X.Tipo.unique()\n",
    "#display(uniq)\n",
    "uniq = pd.DataFrame(uniq, columns=['Tipo'])\n",
    "#display(uniq)\n",
    "df_2018 = pd.get_dummies(uniq, columns = ['Tipo'])\n",
    "#display(df_tipo)\n",
    "df_2018['Ano'] = 2018\n",
    "#ano = df_2018.pop('Ano')\n",
    "#df_2018['Ano'] = ano\n",
    "df_2018.head(12)\n",
    "#ano = df_2018.pop('Ano')\n",
    "df_2018 = df_2018.drop('Ano', axis = 1)\n",
    "df_2018.insert(0, 'Ano', 2018)\n",
    "df_2018.head(20)"
   ]
  },
  {
   "cell_type": "markdown",
   "metadata": {},
   "source": [
    "## C.3 TRATANDO FEATURE COM CLASSIFICAÇÃO\n",
    "Tendo em vista que os algoritmos de machine learning da biblioteca Scikit Learn não tratam automáticamente com colunas com tipo de dados Objeto utilizaremos a função get_dummies do Pandas.\n",
    "Esta função irá criar colunas adicionais para representar cada tipo de gasto existente e indicará através de 0 e 1 se ela está presente na linha ou não.\n",
    "Maiores informações podem ser encontradas neste link: \n",
    "> - https://pandas.pydata.org/pandas-docs/stable/generated/pandas.get_dummies.html"
   ]
  },
  {
   "cell_type": "code",
   "execution_count": 10,
   "metadata": {},
   "outputs": [],
   "source": [
    "# Vamos utilizar get_dummies para tratar os dados não numéricos da feature 'Tipo'.\n",
    "X = pd.get_dummies(X, columns = ['Tipo'])"
   ]
  },
  {
   "cell_type": "code",
   "execution_count": 11,
   "metadata": {
    "scrolled": true
   },
   "outputs": [
    {
     "data": {
      "text/html": [
       "<div>\n",
       "<style scoped>\n",
       "    .dataframe tbody tr th:only-of-type {\n",
       "        vertical-align: middle;\n",
       "    }\n",
       "\n",
       "    .dataframe tbody tr th {\n",
       "        vertical-align: top;\n",
       "    }\n",
       "\n",
       "    .dataframe thead th {\n",
       "        text-align: right;\n",
       "    }\n",
       "</style>\n",
       "<table border=\"1\" class=\"dataframe\">\n",
       "  <thead>\n",
       "    <tr style=\"text-align: right;\">\n",
       "      <th></th>\n",
       "      <th>Ano</th>\n",
       "      <th>Tipo_C&amp;L</th>\n",
       "      <th>Tipo_Consultorias</th>\n",
       "      <th>Tipo_Correios</th>\n",
       "      <th>Tipo_Divulgação</th>\n",
       "      <th>Tipo_Escritório</th>\n",
       "      <th>Tipo_Hospedagem</th>\n",
       "      <th>Tipo_Locação de Carro</th>\n",
       "      <th>Tipo_Passagens Aéreas</th>\n",
       "      <th>Tipo_S/D</th>\n",
       "      <th>Tipo_Telefonia</th>\n",
       "    </tr>\n",
       "  </thead>\n",
       "  <tbody>\n",
       "    <tr>\n",
       "      <th>0</th>\n",
       "      <td>2015</td>\n",
       "      <td>1</td>\n",
       "      <td>0</td>\n",
       "      <td>0</td>\n",
       "      <td>0</td>\n",
       "      <td>0</td>\n",
       "      <td>0</td>\n",
       "      <td>0</td>\n",
       "      <td>0</td>\n",
       "      <td>0</td>\n",
       "      <td>0</td>\n",
       "    </tr>\n",
       "  </tbody>\n",
       "</table>\n",
       "</div>"
      ],
      "text/plain": [
       "    Ano  Tipo_C&L  Tipo_Consultorias  Tipo_Correios  Tipo_Divulgação  \\\n",
       "0  2015         1                  0              0                0   \n",
       "\n",
       "   Tipo_Escritório  Tipo_Hospedagem  Tipo_Locação de Carro  \\\n",
       "0                0                0                      0   \n",
       "\n",
       "   Tipo_Passagens Aéreas  Tipo_S/D  Tipo_Telefonia  \n",
       "0                      0         0               0  "
      ]
     },
     "execution_count": 11,
     "metadata": {},
     "output_type": "execute_result"
    }
   ],
   "source": [
    "X.head(H)"
   ]
  },
  {
   "cell_type": "code",
   "execution_count": 12,
   "metadata": {
    "scrolled": true
   },
   "outputs": [
    {
     "data": {
      "text/plain": [
       "(24, 11)"
      ]
     },
     "execution_count": 12,
     "metadata": {},
     "output_type": "execute_result"
    }
   ],
   "source": [
    "X.shape"
   ]
  },
  {
   "cell_type": "markdown",
   "metadata": {},
   "source": [
    "## C.4 'LOGARITMIZAÇÃO'"
   ]
  },
  {
   "cell_type": "code",
   "execution_count": 13,
   "metadata": {},
   "outputs": [],
   "source": [
    "# Aplicação de logaritmica\n",
    "    \n",
    "yl = np.log(y)\n",
    "Xl = X"
   ]
  },
  {
   "cell_type": "markdown",
   "metadata": {},
   "source": [
    "## C.5 DATA SPLIT\n",
    "\n",
    "Como estaremos realizando o uso dos dados de 2015, 2016 e 2017 para realizar a predição dos gastos de 2018 de três deputados, iremos então separar os dados de 2015 e 2016 para serem utilizados como train e os dados de 2017 para test.\n",
    "O splot de dados será realizado COM e SEM a aplicação de log em y."
   ]
  },
  {
   "cell_type": "code",
   "execution_count": 14,
   "metadata": {},
   "outputs": [],
   "source": [
    "# Test split percentual e random state.\n",
    "per = 0.20\n",
    "random = 7\n",
    "\n",
    "# data split SEM LOG.\n",
    "# Data split com 20% de dados para treinamento.\n",
    "X_train, X_test, y_train, y_test = train_test_split(X, y, test_size = per, random_state = random)\n",
    "\n",
    "# data split COM LOG.\n",
    "# Data split com 20% de dados para treinamento.\n",
    "Xl_train, Xl_test, yl_train, yl_test = train_test_split(Xl, yl, test_size = per, random_state = random)"
   ]
  },
  {
   "cell_type": "code",
   "execution_count": 15,
   "metadata": {
    "scrolled": true
   },
   "outputs": [
    {
     "data": {
      "text/html": [
       "<div>\n",
       "<style scoped>\n",
       "    .dataframe tbody tr th:only-of-type {\n",
       "        vertical-align: middle;\n",
       "    }\n",
       "\n",
       "    .dataframe tbody tr th {\n",
       "        vertical-align: top;\n",
       "    }\n",
       "\n",
       "    .dataframe thead th {\n",
       "        text-align: right;\n",
       "    }\n",
       "</style>\n",
       "<table border=\"1\" class=\"dataframe\">\n",
       "  <thead>\n",
       "    <tr style=\"text-align: right;\">\n",
       "      <th></th>\n",
       "      <th>Ano</th>\n",
       "      <th>Tipo_C&amp;L</th>\n",
       "      <th>Tipo_Consultorias</th>\n",
       "      <th>Tipo_Correios</th>\n",
       "      <th>Tipo_Divulgação</th>\n",
       "      <th>Tipo_Escritório</th>\n",
       "      <th>Tipo_Hospedagem</th>\n",
       "      <th>Tipo_Locação de Carro</th>\n",
       "      <th>Tipo_Passagens Aéreas</th>\n",
       "      <th>Tipo_S/D</th>\n",
       "      <th>Tipo_Telefonia</th>\n",
       "    </tr>\n",
       "  </thead>\n",
       "  <tbody>\n",
       "    <tr>\n",
       "      <th>21</th>\n",
       "      <td>2017</td>\n",
       "      <td>0</td>\n",
       "      <td>0</td>\n",
       "      <td>0</td>\n",
       "      <td>0</td>\n",
       "      <td>0</td>\n",
       "      <td>0</td>\n",
       "      <td>0</td>\n",
       "      <td>1</td>\n",
       "      <td>0</td>\n",
       "      <td>0</td>\n",
       "    </tr>\n",
       "  </tbody>\n",
       "</table>\n",
       "</div>"
      ],
      "text/plain": [
       "     Ano  Tipo_C&L  Tipo_Consultorias  Tipo_Correios  Tipo_Divulgação  \\\n",
       "21  2017         0                  0              0                0   \n",
       "\n",
       "    Tipo_Escritório  Tipo_Hospedagem  Tipo_Locação de Carro  \\\n",
       "21                0                0                      0   \n",
       "\n",
       "    Tipo_Passagens Aéreas  Tipo_S/D  Tipo_Telefonia  \n",
       "21                      1         0               0  "
      ]
     },
     "execution_count": 15,
     "metadata": {},
     "output_type": "execute_result"
    }
   ],
   "source": [
    "X_train.head(H)"
   ]
  },
  {
   "cell_type": "code",
   "execution_count": 16,
   "metadata": {},
   "outputs": [
    {
     "data": {
      "text/html": [
       "<div>\n",
       "<style scoped>\n",
       "    .dataframe tbody tr th:only-of-type {\n",
       "        vertical-align: middle;\n",
       "    }\n",
       "\n",
       "    .dataframe tbody tr th {\n",
       "        vertical-align: top;\n",
       "    }\n",
       "\n",
       "    .dataframe thead th {\n",
       "        text-align: right;\n",
       "    }\n",
       "</style>\n",
       "<table border=\"1\" class=\"dataframe\">\n",
       "  <thead>\n",
       "    <tr style=\"text-align: right;\">\n",
       "      <th></th>\n",
       "      <th>Ano</th>\n",
       "      <th>Tipo_C&amp;L</th>\n",
       "      <th>Tipo_Consultorias</th>\n",
       "      <th>Tipo_Correios</th>\n",
       "      <th>Tipo_Divulgação</th>\n",
       "      <th>Tipo_Escritório</th>\n",
       "      <th>Tipo_Hospedagem</th>\n",
       "      <th>Tipo_Locação de Carro</th>\n",
       "      <th>Tipo_Passagens Aéreas</th>\n",
       "      <th>Tipo_S/D</th>\n",
       "      <th>Tipo_Telefonia</th>\n",
       "    </tr>\n",
       "  </thead>\n",
       "  <tbody>\n",
       "    <tr>\n",
       "      <th>1</th>\n",
       "      <td>2015</td>\n",
       "      <td>0</td>\n",
       "      <td>1</td>\n",
       "      <td>0</td>\n",
       "      <td>0</td>\n",
       "      <td>0</td>\n",
       "      <td>0</td>\n",
       "      <td>0</td>\n",
       "      <td>0</td>\n",
       "      <td>0</td>\n",
       "      <td>0</td>\n",
       "    </tr>\n",
       "  </tbody>\n",
       "</table>\n",
       "</div>"
      ],
      "text/plain": [
       "    Ano  Tipo_C&L  Tipo_Consultorias  Tipo_Correios  Tipo_Divulgação  \\\n",
       "1  2015         0                  1              0                0   \n",
       "\n",
       "   Tipo_Escritório  Tipo_Hospedagem  Tipo_Locação de Carro  \\\n",
       "1                0                0                      0   \n",
       "\n",
       "   Tipo_Passagens Aéreas  Tipo_S/D  Tipo_Telefonia  \n",
       "1                      0         0               0  "
      ]
     },
     "execution_count": 16,
     "metadata": {},
     "output_type": "execute_result"
    }
   ],
   "source": [
    "X_test.head(H)"
   ]
  },
  {
   "cell_type": "code",
   "execution_count": 17,
   "metadata": {
    "scrolled": true
   },
   "outputs": [
    {
     "data": {
      "text/plain": [
       "21             134,878.66\n",
       "Name: Valor, dtype: float64"
      ]
     },
     "execution_count": 17,
     "metadata": {},
     "output_type": "execute_result"
    }
   ],
   "source": [
    "y_train.head(H)"
   ]
  },
  {
   "cell_type": "code",
   "execution_count": 18,
   "metadata": {},
   "outputs": [
    {
     "data": {
      "text/plain": [
       "21                  11.81\n",
       "Name: Valor, dtype: float64"
      ]
     },
     "execution_count": 18,
     "metadata": {},
     "output_type": "execute_result"
    }
   ],
   "source": [
    "yl_train.head(H)"
   ]
  },
  {
   "cell_type": "code",
   "execution_count": 19,
   "metadata": {
    "scrolled": true
   },
   "outputs": [
    {
     "data": {
      "text/plain": [
       "1             402,000.00\n",
       "Name: Valor, dtype: float64"
      ]
     },
     "execution_count": 19,
     "metadata": {},
     "output_type": "execute_result"
    }
   ],
   "source": [
    "y_test.head(H)"
   ]
  },
  {
   "cell_type": "code",
   "execution_count": 20,
   "metadata": {},
   "outputs": [
    {
     "data": {
      "text/plain": [
       "1                  12.90\n",
       "Name: Valor, dtype: float64"
      ]
     },
     "execution_count": 20,
     "metadata": {},
     "output_type": "execute_result"
    }
   ],
   "source": [
    "yl_test.head(H)"
   ]
  },
  {
   "cell_type": "markdown",
   "metadata": {},
   "source": [
    "## C.6 PREDIÇÃO POR REGRESSÃO LINEAR"
   ]
  },
  {
   "cell_type": "markdown",
   "metadata": {},
   "source": [
    "### CRIAÇÃO DE FUNÇÃO PARA CONSTRUÇÃO DE TABELA RESULTADO\n"
   ]
  },
  {
   "cell_type": "code",
   "execution_count": 21,
   "metadata": {},
   "outputs": [],
   "source": [
    "# Criando tabela com o resultado da regressão\n",
    "def tabela_resultado(modelo, df):\n",
    "    pr = modelo.predict(df)\n",
    "    pr = pd.DataFrame(data=pr)\n",
    "    #display(pr)\n",
    "    pr['Valor'] = pr\n",
    "    #display(pr)\n",
    "    pr = pr.pop('Valor')\n",
    "    #display(pr)\n",
    "    co = df_2018.columns\n",
    "    co = pd.DataFrame(data=co)\n",
    "    #display(co)\n",
    "    co.drop(0, axis = 0, inplace = True)\n",
    "    co['Tipo'] = co\n",
    "    co = co.pop('Tipo')\n",
    "    co = co.reset_index(drop=True)\n",
    "    #display(co)\n",
    "    results = pd.concat([co, pr], axis = 1)\n",
    "    return results\n",
    "    #display(results)"
   ]
  },
  {
   "cell_type": "markdown",
   "metadata": {},
   "source": [
    "### CRIAÇÃO DE DATAFRAME PARA PREDIÇÃO PARA 2018"
   ]
  },
  {
   "cell_type": "raw",
   "metadata": {
    "scrolled": false
   },
   "source": [
    "#ano = df_2018.pop('Ano')\n",
    "df_2018 = df_2018.drop('Ano', axis = 1)\n",
    "df_2018.insert(0, 'Ano', 2018)\n",
    "df_2018.head(20)"
   ]
  },
  {
   "cell_type": "markdown",
   "metadata": {},
   "source": [
    "***\n",
    "## D. LINEAR REGRESSION"
   ]
  },
  {
   "cell_type": "markdown",
   "metadata": {},
   "source": [
    "### D.1 SEM APLICAÇÃO DE  LOG"
   ]
  },
  {
   "cell_type": "code",
   "execution_count": 22,
   "metadata": {
    "scrolled": true
   },
   "outputs": [
    {
     "data": {
      "text/plain": [
       "'Score para train '"
      ]
     },
     "metadata": {},
     "output_type": "display_data"
    },
    {
     "data": {
      "text/plain": [
       "0.8993"
      ]
     },
     "metadata": {},
     "output_type": "display_data"
    },
    {
     "data": {
      "text/plain": [
       "'Score para test '"
      ]
     },
     "metadata": {},
     "output_type": "display_data"
    },
    {
     "data": {
      "text/plain": [
       "0.8026"
      ]
     },
     "metadata": {},
     "output_type": "display_data"
    }
   ],
   "source": [
    "lr = linear_model.LinearRegression()\n",
    "lr.fit(X_train,y_train)\n",
    "display('Score para train ', lr.score(X_train,y_train).round(4))\n",
    "display('Score para test ', lr.score(X_test,y_test).round(4))\n"
   ]
  },
  {
   "cell_type": "markdown",
   "metadata": {},
   "source": [
    "### D.2 PREDIÇÃO PARA 2018 SEM LOG"
   ]
  },
  {
   "cell_type": "code",
   "execution_count": 23,
   "metadata": {
    "scrolled": true
   },
   "outputs": [
    {
     "data": {
      "text/html": [
       "<div>\n",
       "<style scoped>\n",
       "    .dataframe tbody tr th:only-of-type {\n",
       "        vertical-align: middle;\n",
       "    }\n",
       "\n",
       "    .dataframe tbody tr th {\n",
       "        vertical-align: top;\n",
       "    }\n",
       "\n",
       "    .dataframe thead th {\n",
       "        text-align: right;\n",
       "    }\n",
       "</style>\n",
       "<table border=\"1\" class=\"dataframe\">\n",
       "  <thead>\n",
       "    <tr style=\"text-align: right;\">\n",
       "      <th></th>\n",
       "      <th>Tipo</th>\n",
       "      <th>Valor</th>\n",
       "    </tr>\n",
       "  </thead>\n",
       "  <tbody>\n",
       "    <tr>\n",
       "      <th>0</th>\n",
       "      <td>Tipo_C&amp;L</td>\n",
       "      <td>74,160.85</td>\n",
       "    </tr>\n",
       "    <tr>\n",
       "      <th>1</th>\n",
       "      <td>Tipo_Consultorias</td>\n",
       "      <td>370,114.64</td>\n",
       "    </tr>\n",
       "    <tr>\n",
       "      <th>2</th>\n",
       "      <td>Tipo_Correios</td>\n",
       "      <td>34,446.40</td>\n",
       "    </tr>\n",
       "    <tr>\n",
       "      <th>3</th>\n",
       "      <td>Tipo_Divulgação</td>\n",
       "      <td>93,746.19</td>\n",
       "    </tr>\n",
       "    <tr>\n",
       "      <th>4</th>\n",
       "      <td>Tipo_Escritório</td>\n",
       "      <td>68,935.82</td>\n",
       "    </tr>\n",
       "    <tr>\n",
       "      <th>5</th>\n",
       "      <td>Tipo_Hospedagem</td>\n",
       "      <td>133,444.86</td>\n",
       "    </tr>\n",
       "    <tr>\n",
       "      <th>6</th>\n",
       "      <td>Tipo_Locação de Carro</td>\n",
       "      <td>90,846.19</td>\n",
       "    </tr>\n",
       "    <tr>\n",
       "      <th>7</th>\n",
       "      <td>Tipo_Passagens Aéreas</td>\n",
       "      <td>51,048.07</td>\n",
       "    </tr>\n",
       "    <tr>\n",
       "      <th>8</th>\n",
       "      <td>Tipo_S/D</td>\n",
       "      <td>45,750.69</td>\n",
       "    </tr>\n",
       "    <tr>\n",
       "      <th>9</th>\n",
       "      <td>Tipo_Telefonia</td>\n",
       "      <td>106,943.75</td>\n",
       "    </tr>\n",
       "  </tbody>\n",
       "</table>\n",
       "</div>"
      ],
      "text/plain": [
       "                    Tipo                Valor\n",
       "0               Tipo_C&L            74,160.85\n",
       "1      Tipo_Consultorias           370,114.64\n",
       "2          Tipo_Correios            34,446.40\n",
       "3        Tipo_Divulgação            93,746.19\n",
       "4        Tipo_Escritório            68,935.82\n",
       "5        Tipo_Hospedagem           133,444.86\n",
       "6  Tipo_Locação de Carro            90,846.19\n",
       "7  Tipo_Passagens Aéreas            51,048.07\n",
       "8               Tipo_S/D            45,750.69\n",
       "9         Tipo_Telefonia           106,943.75"
      ]
     },
     "metadata": {},
     "output_type": "display_data"
    },
    {
     "data": {
      "text/plain": [
       "1069437.46"
      ]
     },
     "execution_count": 23,
     "metadata": {},
     "output_type": "execute_result"
    }
   ],
   "source": [
    "# Predição\n",
    "# Data recover\n",
    "resultado = tabela_resultado(lr, df_2018)\n",
    "#resultado['Valor']= np.exp(resultado['Valor'])\n",
    "display(resultado)\n",
    "resultado['Valor'].sum().round(2)"
   ]
  },
  {
   "cell_type": "markdown",
   "metadata": {},
   "source": [
    "***\n",
    "### D.3 COM APLICAÇÃO DE  LOG"
   ]
  },
  {
   "cell_type": "code",
   "execution_count": 24,
   "metadata": {
    "scrolled": true
   },
   "outputs": [
    {
     "data": {
      "text/plain": [
       "'Score para train '"
      ]
     },
     "metadata": {},
     "output_type": "display_data"
    },
    {
     "data": {
      "text/plain": [
       "0.9183"
      ]
     },
     "metadata": {},
     "output_type": "display_data"
    },
    {
     "data": {
      "text/plain": [
       "'Score para test '"
      ]
     },
     "metadata": {},
     "output_type": "display_data"
    },
    {
     "data": {
      "text/plain": [
       "0.9432"
      ]
     },
     "metadata": {},
     "output_type": "display_data"
    }
   ],
   "source": [
    "lrl = linear_model.LinearRegression()\n",
    "lrl.fit(Xl_train,yl_train)\n",
    "display('Score para train ', lrl.score(Xl_train,yl_train).round(4))\n",
    "display('Score para test ', lrl.score(Xl_test,yl_test).round(4))\n"
   ]
  },
  {
   "cell_type": "markdown",
   "metadata": {},
   "source": [
    "### D.4 PREDIÇÃO PARA 2018 COM LOG"
   ]
  },
  {
   "cell_type": "code",
   "execution_count": 25,
   "metadata": {
    "scrolled": true
   },
   "outputs": [
    {
     "data": {
      "text/html": [
       "<div>\n",
       "<style scoped>\n",
       "    .dataframe tbody tr th:only-of-type {\n",
       "        vertical-align: middle;\n",
       "    }\n",
       "\n",
       "    .dataframe tbody tr th {\n",
       "        vertical-align: top;\n",
       "    }\n",
       "\n",
       "    .dataframe thead th {\n",
       "        text-align: right;\n",
       "    }\n",
       "</style>\n",
       "<table border=\"1\" class=\"dataframe\">\n",
       "  <thead>\n",
       "    <tr style=\"text-align: right;\">\n",
       "      <th></th>\n",
       "      <th>Tipo</th>\n",
       "      <th>Valor</th>\n",
       "    </tr>\n",
       "  </thead>\n",
       "  <tbody>\n",
       "    <tr>\n",
       "      <th>0</th>\n",
       "      <td>Tipo_C&amp;L</td>\n",
       "      <td>59,336.39</td>\n",
       "    </tr>\n",
       "    <tr>\n",
       "      <th>1</th>\n",
       "      <td>Tipo_Consultorias</td>\n",
       "      <td>585,752.51</td>\n",
       "    </tr>\n",
       "    <tr>\n",
       "      <th>2</th>\n",
       "      <td>Tipo_Correios</td>\n",
       "      <td>562.71</td>\n",
       "    </tr>\n",
       "    <tr>\n",
       "      <th>3</th>\n",
       "      <td>Tipo_Divulgação</td>\n",
       "      <td>100,516.80</td>\n",
       "    </tr>\n",
       "    <tr>\n",
       "      <th>4</th>\n",
       "      <td>Tipo_Escritório</td>\n",
       "      <td>2,338.14</td>\n",
       "    </tr>\n",
       "    <tr>\n",
       "      <th>5</th>\n",
       "      <td>Tipo_Hospedagem</td>\n",
       "      <td>168,727.77</td>\n",
       "    </tr>\n",
       "    <tr>\n",
       "      <th>6</th>\n",
       "      <td>Tipo_Locação de Carro</td>\n",
       "      <td>48,240.95</td>\n",
       "    </tr>\n",
       "    <tr>\n",
       "      <th>7</th>\n",
       "      <td>Tipo_Passagens Aéreas</td>\n",
       "      <td>10,166.93</td>\n",
       "    </tr>\n",
       "    <tr>\n",
       "      <th>8</th>\n",
       "      <td>Tipo_S/D</td>\n",
       "      <td>587.37</td>\n",
       "    </tr>\n",
       "    <tr>\n",
       "      <th>9</th>\n",
       "      <td>Tipo_Telefonia</td>\n",
       "      <td>18,239.57</td>\n",
       "    </tr>\n",
       "  </tbody>\n",
       "</table>\n",
       "</div>"
      ],
      "text/plain": [
       "                    Tipo                Valor\n",
       "0               Tipo_C&L            59,336.39\n",
       "1      Tipo_Consultorias           585,752.51\n",
       "2          Tipo_Correios               562.71\n",
       "3        Tipo_Divulgação           100,516.80\n",
       "4        Tipo_Escritório             2,338.14\n",
       "5        Tipo_Hospedagem           168,727.77\n",
       "6  Tipo_Locação de Carro            48,240.95\n",
       "7  Tipo_Passagens Aéreas            10,166.93\n",
       "8               Tipo_S/D               587.37\n",
       "9         Tipo_Telefonia            18,239.57"
      ]
     },
     "metadata": {},
     "output_type": "display_data"
    },
    {
     "data": {
      "text/plain": [
       "994469.15"
      ]
     },
     "execution_count": 25,
     "metadata": {},
     "output_type": "execute_result"
    }
   ],
   "source": [
    "# Predição\n",
    "#tabela_resultado(lrl, df_2018)\n",
    "# Data recover\n",
    "resultado = tabela_resultado(lrl, df_2018)\n",
    "resultado['Valor']= np.exp(resultado['Valor'])\n",
    "display(resultado)\n",
    "resultado['Valor'].sum().round(2)"
   ]
  },
  {
   "cell_type": "markdown",
   "metadata": {},
   "source": [
    "***"
   ]
  },
  {
   "cell_type": "markdown",
   "metadata": {},
   "source": [
    "***\n",
    "## E. LASSO REGRESSION"
   ]
  },
  {
   "cell_type": "markdown",
   "metadata": {},
   "source": [
    "***"
   ]
  },
  {
   "cell_type": "markdown",
   "metadata": {},
   "source": [
    "### E.1 SEM APLICAÇÃO DE LOG"
   ]
  },
  {
   "cell_type": "code",
   "execution_count": 26,
   "metadata": {},
   "outputs": [
    {
     "data": {
      "text/plain": [
       "'Score para train '"
      ]
     },
     "metadata": {},
     "output_type": "display_data"
    },
    {
     "data": {
      "text/plain": [
       "0.8992"
      ]
     },
     "metadata": {},
     "output_type": "display_data"
    },
    {
     "data": {
      "text/plain": [
       "'Score para test '"
      ]
     },
     "metadata": {},
     "output_type": "display_data"
    },
    {
     "data": {
      "text/plain": [
       "0.8216"
      ]
     },
     "metadata": {},
     "output_type": "display_data"
    }
   ],
   "source": [
    "from sklearn import linear_model\n",
    "la = linear_model.Lasso(alpha = 100)\n",
    "la.fit(X_train,y_train)\n",
    "display('Score para train ', la.score(X_train,y_train).round(4))\n",
    "display('Score para test ', la.score(X_test,y_test).round(4))"
   ]
  },
  {
   "cell_type": "markdown",
   "metadata": {},
   "source": [
    "### E.2 PREDIÇÃO PARA 2018  SEM LOG"
   ]
  },
  {
   "cell_type": "code",
   "execution_count": 27,
   "metadata": {},
   "outputs": [
    {
     "data": {
      "text/html": [
       "<div>\n",
       "<style scoped>\n",
       "    .dataframe tbody tr th:only-of-type {\n",
       "        vertical-align: middle;\n",
       "    }\n",
       "\n",
       "    .dataframe tbody tr th {\n",
       "        vertical-align: top;\n",
       "    }\n",
       "\n",
       "    .dataframe thead th {\n",
       "        text-align: right;\n",
       "    }\n",
       "</style>\n",
       "<table border=\"1\" class=\"dataframe\">\n",
       "  <thead>\n",
       "    <tr style=\"text-align: right;\">\n",
       "      <th></th>\n",
       "      <th>Tipo</th>\n",
       "      <th>Valor</th>\n",
       "    </tr>\n",
       "  </thead>\n",
       "  <tbody>\n",
       "    <tr>\n",
       "      <th>0</th>\n",
       "      <td>Tipo_C&amp;L</td>\n",
       "      <td>74,409.05</td>\n",
       "    </tr>\n",
       "    <tr>\n",
       "      <th>1</th>\n",
       "      <td>Tipo_Consultorias</td>\n",
       "      <td>369,305.84</td>\n",
       "    </tr>\n",
       "    <tr>\n",
       "      <th>2</th>\n",
       "      <td>Tipo_Correios</td>\n",
       "      <td>35,540.27</td>\n",
       "    </tr>\n",
       "    <tr>\n",
       "      <th>3</th>\n",
       "      <td>Tipo_Divulgação</td>\n",
       "      <td>92,994.82</td>\n",
       "    </tr>\n",
       "    <tr>\n",
       "      <th>4</th>\n",
       "      <td>Tipo_Escritório</td>\n",
       "      <td>71,141.30</td>\n",
       "    </tr>\n",
       "    <tr>\n",
       "      <th>5</th>\n",
       "      <td>Tipo_Hospedagem</td>\n",
       "      <td>132,645.77</td>\n",
       "    </tr>\n",
       "    <tr>\n",
       "      <th>6</th>\n",
       "      <td>Tipo_Locação de Carro</td>\n",
       "      <td>90,419.17</td>\n",
       "    </tr>\n",
       "    <tr>\n",
       "      <th>7</th>\n",
       "      <td>Tipo_Passagens Aéreas</td>\n",
       "      <td>51,890.61</td>\n",
       "    </tr>\n",
       "    <tr>\n",
       "      <th>8</th>\n",
       "      <td>Tipo_S/D</td>\n",
       "      <td>47,850.51</td>\n",
       "    </tr>\n",
       "    <tr>\n",
       "      <th>9</th>\n",
       "      <td>Tipo_Telefonia</td>\n",
       "      <td>74,409.05</td>\n",
       "    </tr>\n",
       "  </tbody>\n",
       "</table>\n",
       "</div>"
      ],
      "text/plain": [
       "                    Tipo                Valor\n",
       "0               Tipo_C&L            74,409.05\n",
       "1      Tipo_Consultorias           369,305.84\n",
       "2          Tipo_Correios            35,540.27\n",
       "3        Tipo_Divulgação            92,994.82\n",
       "4        Tipo_Escritório            71,141.30\n",
       "5        Tipo_Hospedagem           132,645.77\n",
       "6  Tipo_Locação de Carro            90,419.17\n",
       "7  Tipo_Passagens Aéreas            51,890.61\n",
       "8               Tipo_S/D            47,850.51\n",
       "9         Tipo_Telefonia            74,409.05"
      ]
     },
     "metadata": {},
     "output_type": "display_data"
    },
    {
     "data": {
      "text/plain": [
       "1040606.4"
      ]
     },
     "execution_count": 27,
     "metadata": {},
     "output_type": "execute_result"
    }
   ],
   "source": [
    "resultado = tabela_resultado(la, df_2018)\n",
    "#resultado['Valor']= np.exp(resultado['Valor'])\n",
    "display(resultado)\n",
    "resultado['Valor'].sum().round(2)"
   ]
  },
  {
   "cell_type": "markdown",
   "metadata": {},
   "source": [
    "***"
   ]
  },
  {
   "cell_type": "markdown",
   "metadata": {},
   "source": [
    "### E.3 COM APLICAÇÃO DE LOG"
   ]
  },
  {
   "cell_type": "code",
   "execution_count": 28,
   "metadata": {
    "scrolled": true
   },
   "outputs": [
    {
     "data": {
      "text/plain": [
       "'Score para train '"
      ]
     },
     "metadata": {},
     "output_type": "display_data"
    },
    {
     "data": {
      "text/plain": [
       "0.0"
      ]
     },
     "metadata": {},
     "output_type": "display_data"
    },
    {
     "data": {
      "text/plain": [
       "'Score para test '"
      ]
     },
     "metadata": {},
     "output_type": "display_data"
    },
    {
     "data": {
      "text/plain": [
       "-0.052"
      ]
     },
     "metadata": {},
     "output_type": "display_data"
    }
   ],
   "source": [
    "from sklearn import linear_model\n",
    "lal = linear_model.Lasso(alpha = 100)\n",
    "lal.fit(Xl_train,yl_train)\n",
    "display('Score para train ', lal.score(Xl_train,yl_train).round(4))\n",
    "display('Score para test ', lal.score(Xl_test,yl_test).round(4))"
   ]
  },
  {
   "cell_type": "markdown",
   "metadata": {},
   "source": [
    "### E.4 PREDIÇÃO PARA 2018 COM LOG"
   ]
  },
  {
   "cell_type": "code",
   "execution_count": 29,
   "metadata": {},
   "outputs": [
    {
     "data": {
      "text/html": [
       "<div>\n",
       "<style scoped>\n",
       "    .dataframe tbody tr th:only-of-type {\n",
       "        vertical-align: middle;\n",
       "    }\n",
       "\n",
       "    .dataframe tbody tr th {\n",
       "        vertical-align: top;\n",
       "    }\n",
       "\n",
       "    .dataframe thead th {\n",
       "        text-align: right;\n",
       "    }\n",
       "</style>\n",
       "<table border=\"1\" class=\"dataframe\">\n",
       "  <thead>\n",
       "    <tr style=\"text-align: right;\">\n",
       "      <th></th>\n",
       "      <th>Tipo</th>\n",
       "      <th>Valor</th>\n",
       "    </tr>\n",
       "  </thead>\n",
       "  <tbody>\n",
       "    <tr>\n",
       "      <th>0</th>\n",
       "      <td>Tipo_C&amp;L</td>\n",
       "      <td>12,418.94</td>\n",
       "    </tr>\n",
       "    <tr>\n",
       "      <th>1</th>\n",
       "      <td>Tipo_Consultorias</td>\n",
       "      <td>12,418.94</td>\n",
       "    </tr>\n",
       "    <tr>\n",
       "      <th>2</th>\n",
       "      <td>Tipo_Correios</td>\n",
       "      <td>12,418.94</td>\n",
       "    </tr>\n",
       "    <tr>\n",
       "      <th>3</th>\n",
       "      <td>Tipo_Divulgação</td>\n",
       "      <td>12,418.94</td>\n",
       "    </tr>\n",
       "    <tr>\n",
       "      <th>4</th>\n",
       "      <td>Tipo_Escritório</td>\n",
       "      <td>12,418.94</td>\n",
       "    </tr>\n",
       "    <tr>\n",
       "      <th>5</th>\n",
       "      <td>Tipo_Hospedagem</td>\n",
       "      <td>12,418.94</td>\n",
       "    </tr>\n",
       "    <tr>\n",
       "      <th>6</th>\n",
       "      <td>Tipo_Locação de Carro</td>\n",
       "      <td>12,418.94</td>\n",
       "    </tr>\n",
       "    <tr>\n",
       "      <th>7</th>\n",
       "      <td>Tipo_Passagens Aéreas</td>\n",
       "      <td>12,418.94</td>\n",
       "    </tr>\n",
       "    <tr>\n",
       "      <th>8</th>\n",
       "      <td>Tipo_S/D</td>\n",
       "      <td>12,418.94</td>\n",
       "    </tr>\n",
       "    <tr>\n",
       "      <th>9</th>\n",
       "      <td>Tipo_Telefonia</td>\n",
       "      <td>12,418.94</td>\n",
       "    </tr>\n",
       "  </tbody>\n",
       "</table>\n",
       "</div>"
      ],
      "text/plain": [
       "                    Tipo                Valor\n",
       "0               Tipo_C&L            12,418.94\n",
       "1      Tipo_Consultorias            12,418.94\n",
       "2          Tipo_Correios            12,418.94\n",
       "3        Tipo_Divulgação            12,418.94\n",
       "4        Tipo_Escritório            12,418.94\n",
       "5        Tipo_Hospedagem            12,418.94\n",
       "6  Tipo_Locação de Carro            12,418.94\n",
       "7  Tipo_Passagens Aéreas            12,418.94\n",
       "8               Tipo_S/D            12,418.94\n",
       "9         Tipo_Telefonia            12,418.94"
      ]
     },
     "metadata": {},
     "output_type": "display_data"
    },
    {
     "data": {
      "text/plain": [
       "124189.42"
      ]
     },
     "execution_count": 29,
     "metadata": {},
     "output_type": "execute_result"
    }
   ],
   "source": [
    "resultado = tabela_resultado(lal, df_2018)\n",
    "resultado['Valor']= np.exp(resultado['Valor'])\n",
    "display(resultado)\n",
    "resultado['Valor'].sum().round(2)"
   ]
  },
  {
   "cell_type": "markdown",
   "metadata": {},
   "source": [
    "***"
   ]
  },
  {
   "cell_type": "markdown",
   "metadata": {},
   "source": [
    "***"
   ]
  },
  {
   "cell_type": "markdown",
   "metadata": {},
   "source": [
    "## F. LARS LASSO"
   ]
  },
  {
   "cell_type": "markdown",
   "metadata": {},
   "source": [
    "### F.1 SEM APLICAÇÃO DE LOG"
   ]
  },
  {
   "cell_type": "code",
   "execution_count": 30,
   "metadata": {},
   "outputs": [
    {
     "data": {
      "text/plain": [
       "'Score para train '"
      ]
     },
     "metadata": {},
     "output_type": "display_data"
    },
    {
     "data": {
      "text/plain": [
       "0.8993"
      ]
     },
     "metadata": {},
     "output_type": "display_data"
    },
    {
     "data": {
      "text/plain": [
       "'Score para test '"
      ]
     },
     "metadata": {},
     "output_type": "display_data"
    },
    {
     "data": {
      "text/plain": [
       "0.8255"
      ]
     },
     "metadata": {},
     "output_type": "display_data"
    }
   ],
   "source": [
    "from sklearn import linear_model\n",
    "ll = linear_model.LassoLars(alpha=.1)\n",
    "ll.fit(X_train,y_train)\n",
    "display('Score para train ', ll.score(X_train,y_train).round(4))\n",
    "display('Score para test ', ll.score(X_test,y_test).round(4))"
   ]
  },
  {
   "cell_type": "markdown",
   "metadata": {},
   "source": [
    "### F.2 PREDIÇÃO PARA 2018 SEM LOG"
   ]
  },
  {
   "cell_type": "code",
   "execution_count": 31,
   "metadata": {
    "scrolled": true
   },
   "outputs": [
    {
     "data": {
      "text/html": [
       "<div>\n",
       "<style scoped>\n",
       "    .dataframe tbody tr th:only-of-type {\n",
       "        vertical-align: middle;\n",
       "    }\n",
       "\n",
       "    .dataframe tbody tr th {\n",
       "        vertical-align: top;\n",
       "    }\n",
       "\n",
       "    .dataframe thead th {\n",
       "        text-align: right;\n",
       "    }\n",
       "</style>\n",
       "<table border=\"1\" class=\"dataframe\">\n",
       "  <thead>\n",
       "    <tr style=\"text-align: right;\">\n",
       "      <th></th>\n",
       "      <th>Tipo</th>\n",
       "      <th>Valor</th>\n",
       "    </tr>\n",
       "  </thead>\n",
       "  <tbody>\n",
       "    <tr>\n",
       "      <th>0</th>\n",
       "      <td>Tipo_C&amp;L</td>\n",
       "      <td>74,160.59</td>\n",
       "    </tr>\n",
       "    <tr>\n",
       "      <th>1</th>\n",
       "      <td>Tipo_Consultorias</td>\n",
       "      <td>370,112.83</td>\n",
       "    </tr>\n",
       "    <tr>\n",
       "      <th>2</th>\n",
       "      <td>Tipo_Correios</td>\n",
       "      <td>34,447.13</td>\n",
       "    </tr>\n",
       "    <tr>\n",
       "      <th>3</th>\n",
       "      <td>Tipo_Divulgação</td>\n",
       "      <td>93,744.20</td>\n",
       "    </tr>\n",
       "    <tr>\n",
       "      <th>4</th>\n",
       "      <td>Tipo_Escritório</td>\n",
       "      <td>68,936.60</td>\n",
       "    </tr>\n",
       "    <tr>\n",
       "      <th>5</th>\n",
       "      <td>Tipo_Hospedagem</td>\n",
       "      <td>133,443.05</td>\n",
       "    </tr>\n",
       "    <tr>\n",
       "      <th>6</th>\n",
       "      <td>Tipo_Locação de Carro</td>\n",
       "      <td>90,844.47</td>\n",
       "    </tr>\n",
       "    <tr>\n",
       "      <th>7</th>\n",
       "      <td>Tipo_Passagens Aéreas</td>\n",
       "      <td>51,048.36</td>\n",
       "    </tr>\n",
       "    <tr>\n",
       "      <th>8</th>\n",
       "      <td>Tipo_S/D</td>\n",
       "      <td>45,751.82</td>\n",
       "    </tr>\n",
       "    <tr>\n",
       "      <th>9</th>\n",
       "      <td>Tipo_Telefonia</td>\n",
       "      <td>74,160.59</td>\n",
       "    </tr>\n",
       "  </tbody>\n",
       "</table>\n",
       "</div>"
      ],
      "text/plain": [
       "                    Tipo                Valor\n",
       "0               Tipo_C&L            74,160.59\n",
       "1      Tipo_Consultorias           370,112.83\n",
       "2          Tipo_Correios            34,447.13\n",
       "3        Tipo_Divulgação            93,744.20\n",
       "4        Tipo_Escritório            68,936.60\n",
       "5        Tipo_Hospedagem           133,443.05\n",
       "6  Tipo_Locação de Carro            90,844.47\n",
       "7  Tipo_Passagens Aéreas            51,048.36\n",
       "8               Tipo_S/D            45,751.82\n",
       "9         Tipo_Telefonia            74,160.59"
      ]
     },
     "metadata": {},
     "output_type": "display_data"
    },
    {
     "data": {
      "text/plain": [
       "1036649.65"
      ]
     },
     "execution_count": 31,
     "metadata": {},
     "output_type": "execute_result"
    }
   ],
   "source": [
    "resultado = tabela_resultado(ll, df_2018)\n",
    "#resultado['Valor']= np.exp(resultado['Valor'])\n",
    "display(resultado)\n",
    "resultado['Valor'].sum().round(2)"
   ]
  },
  {
   "cell_type": "markdown",
   "metadata": {},
   "source": [
    "### F.3 COM APLICAÇÃO DE LOG"
   ]
  },
  {
   "cell_type": "code",
   "execution_count": 32,
   "metadata": {
    "scrolled": true
   },
   "outputs": [
    {
     "data": {
      "text/plain": [
       "'Score para train '"
      ]
     },
     "metadata": {},
     "output_type": "display_data"
    },
    {
     "data": {
      "text/plain": [
       "0.6775"
      ]
     },
     "metadata": {},
     "output_type": "display_data"
    },
    {
     "data": {
      "text/plain": [
       "'Score para test '"
      ]
     },
     "metadata": {},
     "output_type": "display_data"
    },
    {
     "data": {
      "text/plain": [
       "0.6799"
      ]
     },
     "metadata": {},
     "output_type": "display_data"
    }
   ],
   "source": [
    "from sklearn import linear_model\n",
    "lll = linear_model.LassoLars(alpha=.1)\n",
    "lll.fit(Xl_train,yl_train)\n",
    "display('Score para train ', lll.score(Xl_train,yl_train).round(4))\n",
    "display('Score para test ', lll.score(Xl_test,yl_test).round(4))"
   ]
  },
  {
   "cell_type": "markdown",
   "metadata": {},
   "source": [
    "### F.4 PREDIÇÃO PARA 2018 COM LOG"
   ]
  },
  {
   "cell_type": "code",
   "execution_count": 33,
   "metadata": {
    "scrolled": true
   },
   "outputs": [
    {
     "data": {
      "text/html": [
       "<div>\n",
       "<style scoped>\n",
       "    .dataframe tbody tr th:only-of-type {\n",
       "        vertical-align: middle;\n",
       "    }\n",
       "\n",
       "    .dataframe tbody tr th {\n",
       "        vertical-align: top;\n",
       "    }\n",
       "\n",
       "    .dataframe thead th {\n",
       "        text-align: right;\n",
       "    }\n",
       "</style>\n",
       "<table border=\"1\" class=\"dataframe\">\n",
       "  <thead>\n",
       "    <tr style=\"text-align: right;\">\n",
       "      <th></th>\n",
       "      <th>Tipo</th>\n",
       "      <th>Valor</th>\n",
       "    </tr>\n",
       "  </thead>\n",
       "  <tbody>\n",
       "    <tr>\n",
       "      <th>0</th>\n",
       "      <td>Tipo_C&amp;L</td>\n",
       "      <td>18,150.42</td>\n",
       "    </tr>\n",
       "    <tr>\n",
       "      <th>1</th>\n",
       "      <td>Tipo_Consultorias</td>\n",
       "      <td>96,029.18</td>\n",
       "    </tr>\n",
       "    <tr>\n",
       "      <th>2</th>\n",
       "      <td>Tipo_Correios</td>\n",
       "      <td>1,171.65</td>\n",
       "    </tr>\n",
       "    <tr>\n",
       "      <th>3</th>\n",
       "      <td>Tipo_Divulgação</td>\n",
       "      <td>18,150.42</td>\n",
       "    </tr>\n",
       "    <tr>\n",
       "      <th>4</th>\n",
       "      <td>Tipo_Escritório</td>\n",
       "      <td>5,072.54</td>\n",
       "    </tr>\n",
       "    <tr>\n",
       "      <th>5</th>\n",
       "      <td>Tipo_Hospedagem</td>\n",
       "      <td>27,661.50</td>\n",
       "    </tr>\n",
       "    <tr>\n",
       "      <th>6</th>\n",
       "      <td>Tipo_Locação de Carro</td>\n",
       "      <td>18,150.42</td>\n",
       "    </tr>\n",
       "    <tr>\n",
       "      <th>7</th>\n",
       "      <td>Tipo_Passagens Aéreas</td>\n",
       "      <td>13,588.54</td>\n",
       "    </tr>\n",
       "    <tr>\n",
       "      <th>8</th>\n",
       "      <td>Tipo_S/D</td>\n",
       "      <td>1,823.34</td>\n",
       "    </tr>\n",
       "    <tr>\n",
       "      <th>9</th>\n",
       "      <td>Tipo_Telefonia</td>\n",
       "      <td>18,150.42</td>\n",
       "    </tr>\n",
       "  </tbody>\n",
       "</table>\n",
       "</div>"
      ],
      "text/plain": [
       "                    Tipo                Valor\n",
       "0               Tipo_C&L            18,150.42\n",
       "1      Tipo_Consultorias            96,029.18\n",
       "2          Tipo_Correios             1,171.65\n",
       "3        Tipo_Divulgação            18,150.42\n",
       "4        Tipo_Escritório             5,072.54\n",
       "5        Tipo_Hospedagem            27,661.50\n",
       "6  Tipo_Locação de Carro            18,150.42\n",
       "7  Tipo_Passagens Aéreas            13,588.54\n",
       "8               Tipo_S/D             1,823.34\n",
       "9         Tipo_Telefonia            18,150.42"
      ]
     },
     "metadata": {},
     "output_type": "display_data"
    },
    {
     "data": {
      "text/plain": [
       "217948.41"
      ]
     },
     "execution_count": 33,
     "metadata": {},
     "output_type": "execute_result"
    }
   ],
   "source": [
    "resultado = tabela_resultado(lll, df_2018)\n",
    "resultado['Valor']= np.exp(resultado['Valor'])\n",
    "display(resultado)\n",
    "resultado['Valor'].sum().round(2)"
   ]
  },
  {
   "cell_type": "markdown",
   "metadata": {},
   "source": [
    "***"
   ]
  },
  {
   "cell_type": "markdown",
   "metadata": {},
   "source": [
    "***"
   ]
  },
  {
   "cell_type": "markdown",
   "metadata": {},
   "source": [
    "## G. RIDGE REGRESSION"
   ]
  },
  {
   "cell_type": "markdown",
   "metadata": {},
   "source": [
    "### G.1 SEM APLICAÇÃO DE LOG"
   ]
  },
  {
   "cell_type": "code",
   "execution_count": 34,
   "metadata": {},
   "outputs": [
    {
     "data": {
      "text/plain": [
       "'Score para train '"
      ]
     },
     "metadata": {},
     "output_type": "display_data"
    },
    {
     "data": {
      "text/plain": [
       "0.8659"
      ]
     },
     "metadata": {},
     "output_type": "display_data"
    },
    {
     "data": {
      "text/plain": [
       "'Score para test '"
      ]
     },
     "metadata": {},
     "output_type": "display_data"
    },
    {
     "data": {
      "text/plain": [
       "0.6562"
      ]
     },
     "metadata": {},
     "output_type": "display_data"
    }
   ],
   "source": [
    "from sklearn import linear_model\n",
    "ri = linear_model.Ridge (alpha = .5)\n",
    "ri.fit(X_train,y_train)\n",
    "display('Score para train ', ri.score(X_train,y_train).round(4))\n",
    "display('Score para test ', ri.score(X_test,y_test).round(4))"
   ]
  },
  {
   "cell_type": "markdown",
   "metadata": {},
   "source": [
    "### G.2 PREDIÇÃO PARA 2018 SEM LOG"
   ]
  },
  {
   "cell_type": "code",
   "execution_count": 35,
   "metadata": {},
   "outputs": [
    {
     "data": {
      "text/html": [
       "<div>\n",
       "<style scoped>\n",
       "    .dataframe tbody tr th:only-of-type {\n",
       "        vertical-align: middle;\n",
       "    }\n",
       "\n",
       "    .dataframe tbody tr th {\n",
       "        vertical-align: top;\n",
       "    }\n",
       "\n",
       "    .dataframe thead th {\n",
       "        text-align: right;\n",
       "    }\n",
       "</style>\n",
       "<table border=\"1\" class=\"dataframe\">\n",
       "  <thead>\n",
       "    <tr style=\"text-align: right;\">\n",
       "      <th></th>\n",
       "      <th>Tipo</th>\n",
       "      <th>Valor</th>\n",
       "    </tr>\n",
       "  </thead>\n",
       "  <tbody>\n",
       "    <tr>\n",
       "      <th>0</th>\n",
       "      <td>Tipo_C&amp;L</td>\n",
       "      <td>87,323.10</td>\n",
       "    </tr>\n",
       "    <tr>\n",
       "      <th>1</th>\n",
       "      <td>Tipo_Consultorias</td>\n",
       "      <td>324,324.03</td>\n",
       "    </tr>\n",
       "    <tr>\n",
       "      <th>2</th>\n",
       "      <td>Tipo_Correios</td>\n",
       "      <td>55,789.44</td>\n",
       "    </tr>\n",
       "    <tr>\n",
       "      <th>3</th>\n",
       "      <td>Tipo_Divulgação</td>\n",
       "      <td>104,904.94</td>\n",
       "    </tr>\n",
       "    <tr>\n",
       "      <th>4</th>\n",
       "      <td>Tipo_Escritório</td>\n",
       "      <td>93,011.08</td>\n",
       "    </tr>\n",
       "    <tr>\n",
       "      <th>5</th>\n",
       "      <td>Tipo_Hospedagem</td>\n",
       "      <td>134,988.21</td>\n",
       "    </tr>\n",
       "    <tr>\n",
       "      <th>6</th>\n",
       "      <td>Tipo_Locação de Carro</td>\n",
       "      <td>101,624.82</td>\n",
       "    </tr>\n",
       "    <tr>\n",
       "      <th>7</th>\n",
       "      <td>Tipo_Passagens Aéreas</td>\n",
       "      <td>67,512.15</td>\n",
       "    </tr>\n",
       "    <tr>\n",
       "      <th>8</th>\n",
       "      <td>Tipo_S/D</td>\n",
       "      <td>74,761.55</td>\n",
       "    </tr>\n",
       "    <tr>\n",
       "      <th>9</th>\n",
       "      <td>Tipo_Telefonia</td>\n",
       "      <td>116,026.59</td>\n",
       "    </tr>\n",
       "  </tbody>\n",
       "</table>\n",
       "</div>"
      ],
      "text/plain": [
       "                    Tipo                Valor\n",
       "0               Tipo_C&L            87,323.10\n",
       "1      Tipo_Consultorias           324,324.03\n",
       "2          Tipo_Correios            55,789.44\n",
       "3        Tipo_Divulgação           104,904.94\n",
       "4        Tipo_Escritório            93,011.08\n",
       "5        Tipo_Hospedagem           134,988.21\n",
       "6  Tipo_Locação de Carro           101,624.82\n",
       "7  Tipo_Passagens Aéreas            67,512.15\n",
       "8               Tipo_S/D            74,761.55\n",
       "9         Tipo_Telefonia           116,026.59"
      ]
     },
     "metadata": {},
     "output_type": "display_data"
    },
    {
     "data": {
      "text/plain": [
       "1160265.91"
      ]
     },
     "execution_count": 35,
     "metadata": {},
     "output_type": "execute_result"
    }
   ],
   "source": [
    "resultado = tabela_resultado(ri, df_2018)\n",
    "#resultado['Valor']= np.exp(resultado['Valor'])\n",
    "display(resultado)\n",
    "resultado['Valor'].sum().round(2)"
   ]
  },
  {
   "cell_type": "markdown",
   "metadata": {},
   "source": [
    "### G.3 COM APLICAÇÃO DE LOG"
   ]
  },
  {
   "cell_type": "code",
   "execution_count": 36,
   "metadata": {
    "scrolled": true
   },
   "outputs": [
    {
     "data": {
      "text/plain": [
       "'Score para train '"
      ]
     },
     "metadata": {},
     "output_type": "display_data"
    },
    {
     "data": {
      "text/plain": [
       "0.8717"
      ]
     },
     "metadata": {},
     "output_type": "display_data"
    },
    {
     "data": {
      "text/plain": [
       "'Score para test '"
      ]
     },
     "metadata": {},
     "output_type": "display_data"
    },
    {
     "data": {
      "text/plain": [
       "0.8348"
      ]
     },
     "metadata": {},
     "output_type": "display_data"
    }
   ],
   "source": [
    "from sklearn import linear_model\n",
    "ril = linear_model.Ridge (alpha = .5)\n",
    "ril.fit(Xl_train,yl_train)\n",
    "display('Score para train ', ril.score(Xl_train,yl_train).round(4))\n",
    "display('Score para test ', ril.score(Xl_test,yl_test).round(4))"
   ]
  },
  {
   "cell_type": "markdown",
   "metadata": {},
   "source": [
    "### G.4 PREDIÇÃO PARA 2018 COM LOG"
   ]
  },
  {
   "cell_type": "code",
   "execution_count": 37,
   "metadata": {},
   "outputs": [
    {
     "data": {
      "text/html": [
       "<div>\n",
       "<style scoped>\n",
       "    .dataframe tbody tr th:only-of-type {\n",
       "        vertical-align: middle;\n",
       "    }\n",
       "\n",
       "    .dataframe tbody tr th {\n",
       "        vertical-align: top;\n",
       "    }\n",
       "\n",
       "    .dataframe thead th {\n",
       "        text-align: right;\n",
       "    }\n",
       "</style>\n",
       "<table border=\"1\" class=\"dataframe\">\n",
       "  <thead>\n",
       "    <tr style=\"text-align: right;\">\n",
       "      <th></th>\n",
       "      <th>Tipo</th>\n",
       "      <th>Valor</th>\n",
       "    </tr>\n",
       "  </thead>\n",
       "  <tbody>\n",
       "    <tr>\n",
       "      <th>0</th>\n",
       "      <td>Tipo_C&amp;L</td>\n",
       "      <td>60,307.17</td>\n",
       "    </tr>\n",
       "    <tr>\n",
       "      <th>1</th>\n",
       "      <td>Tipo_Consultorias</td>\n",
       "      <td>342,476.01</td>\n",
       "    </tr>\n",
       "    <tr>\n",
       "      <th>2</th>\n",
       "      <td>Tipo_Correios</td>\n",
       "      <td>1,320.33</td>\n",
       "    </tr>\n",
       "    <tr>\n",
       "      <th>3</th>\n",
       "      <td>Tipo_Divulgação</td>\n",
       "      <td>86,484.95</td>\n",
       "    </tr>\n",
       "    <tr>\n",
       "      <th>4</th>\n",
       "      <td>Tipo_Escritório</td>\n",
       "      <td>6,025.75</td>\n",
       "    </tr>\n",
       "    <tr>\n",
       "      <th>5</th>\n",
       "      <td>Tipo_Hospedagem</td>\n",
       "      <td>126,534.24</td>\n",
       "    </tr>\n",
       "    <tr>\n",
       "      <th>6</th>\n",
       "      <td>Tipo_Locação de Carro</td>\n",
       "      <td>50,501.85</td>\n",
       "    </tr>\n",
       "    <tr>\n",
       "      <th>7</th>\n",
       "      <td>Tipo_Passagens Aéreas</td>\n",
       "      <td>13,294.90</td>\n",
       "    </tr>\n",
       "    <tr>\n",
       "      <th>8</th>\n",
       "      <td>Tipo_S/D</td>\n",
       "      <td>2,267.55</td>\n",
       "    </tr>\n",
       "    <tr>\n",
       "      <th>9</th>\n",
       "      <td>Tipo_Telefonia</td>\n",
       "      <td>24,095.30</td>\n",
       "    </tr>\n",
       "  </tbody>\n",
       "</table>\n",
       "</div>"
      ],
      "text/plain": [
       "                    Tipo                Valor\n",
       "0               Tipo_C&L            60,307.17\n",
       "1      Tipo_Consultorias           342,476.01\n",
       "2          Tipo_Correios             1,320.33\n",
       "3        Tipo_Divulgação            86,484.95\n",
       "4        Tipo_Escritório             6,025.75\n",
       "5        Tipo_Hospedagem           126,534.24\n",
       "6  Tipo_Locação de Carro            50,501.85\n",
       "7  Tipo_Passagens Aéreas            13,294.90\n",
       "8               Tipo_S/D             2,267.55\n",
       "9         Tipo_Telefonia            24,095.30"
      ]
     },
     "metadata": {},
     "output_type": "display_data"
    },
    {
     "data": {
      "text/plain": [
       "713308.06"
      ]
     },
     "execution_count": 37,
     "metadata": {},
     "output_type": "execute_result"
    }
   ],
   "source": [
    "resultado = tabela_resultado(ril, df_2018)\n",
    "resultado['Valor']= np.exp(resultado['Valor'])\n",
    "display(resultado)\n",
    "resultado['Valor'].sum().round(2)"
   ]
  },
  {
   "cell_type": "markdown",
   "metadata": {},
   "source": [
    "***"
   ]
  },
  {
   "cell_type": "markdown",
   "metadata": {},
   "source": [
    "***"
   ]
  },
  {
   "cell_type": "markdown",
   "metadata": {},
   "source": [
    "## H. BAYESIAN RIDGE"
   ]
  },
  {
   "cell_type": "markdown",
   "metadata": {},
   "source": [
    "### H.1 SEM APLICAÇÃO DE LOG"
   ]
  },
  {
   "cell_type": "code",
   "execution_count": 38,
   "metadata": {
    "scrolled": false
   },
   "outputs": [
    {
     "data": {
      "text/plain": [
       "'Score para train '"
      ]
     },
     "metadata": {},
     "output_type": "display_data"
    },
    {
     "data": {
      "text/plain": [
       "0.0"
      ]
     },
     "metadata": {},
     "output_type": "display_data"
    },
    {
     "data": {
      "text/plain": [
       "'Score para test '"
      ]
     },
     "metadata": {},
     "output_type": "display_data"
    },
    {
     "data": {
      "text/plain": [
       "-0.1961"
      ]
     },
     "metadata": {},
     "output_type": "display_data"
    }
   ],
   "source": [
    "br = linear_model.BayesianRidge()\n",
    "br.fit(X_train,y_train)\n",
    "display('Score para train ', br.score(X_train,y_train).round(4))\n",
    "display('Score para test ', br.score(X_test,y_test).round(4))"
   ]
  },
  {
   "cell_type": "markdown",
   "metadata": {},
   "source": [
    "### H.2 PREDIÇÃO PARA 2018 SEM LOG"
   ]
  },
  {
   "cell_type": "code",
   "execution_count": 39,
   "metadata": {},
   "outputs": [
    {
     "data": {
      "text/html": [
       "<div>\n",
       "<style scoped>\n",
       "    .dataframe tbody tr th:only-of-type {\n",
       "        vertical-align: middle;\n",
       "    }\n",
       "\n",
       "    .dataframe tbody tr th {\n",
       "        vertical-align: top;\n",
       "    }\n",
       "\n",
       "    .dataframe thead th {\n",
       "        text-align: right;\n",
       "    }\n",
       "</style>\n",
       "<table border=\"1\" class=\"dataframe\">\n",
       "  <thead>\n",
       "    <tr style=\"text-align: right;\">\n",
       "      <th></th>\n",
       "      <th>Tipo</th>\n",
       "      <th>Valor</th>\n",
       "    </tr>\n",
       "  </thead>\n",
       "  <tbody>\n",
       "    <tr>\n",
       "      <th>0</th>\n",
       "      <td>Tipo_C&amp;L</td>\n",
       "      <td>63,558.14</td>\n",
       "    </tr>\n",
       "    <tr>\n",
       "      <th>1</th>\n",
       "      <td>Tipo_Consultorias</td>\n",
       "      <td>63,558.14</td>\n",
       "    </tr>\n",
       "    <tr>\n",
       "      <th>2</th>\n",
       "      <td>Tipo_Correios</td>\n",
       "      <td>63,558.14</td>\n",
       "    </tr>\n",
       "    <tr>\n",
       "      <th>3</th>\n",
       "      <td>Tipo_Divulgação</td>\n",
       "      <td>63,558.14</td>\n",
       "    </tr>\n",
       "    <tr>\n",
       "      <th>4</th>\n",
       "      <td>Tipo_Escritório</td>\n",
       "      <td>63,558.14</td>\n",
       "    </tr>\n",
       "    <tr>\n",
       "      <th>5</th>\n",
       "      <td>Tipo_Hospedagem</td>\n",
       "      <td>63,558.14</td>\n",
       "    </tr>\n",
       "    <tr>\n",
       "      <th>6</th>\n",
       "      <td>Tipo_Locação de Carro</td>\n",
       "      <td>63,558.14</td>\n",
       "    </tr>\n",
       "    <tr>\n",
       "      <th>7</th>\n",
       "      <td>Tipo_Passagens Aéreas</td>\n",
       "      <td>63,558.14</td>\n",
       "    </tr>\n",
       "    <tr>\n",
       "      <th>8</th>\n",
       "      <td>Tipo_S/D</td>\n",
       "      <td>63,558.14</td>\n",
       "    </tr>\n",
       "    <tr>\n",
       "      <th>9</th>\n",
       "      <td>Tipo_Telefonia</td>\n",
       "      <td>63,558.14</td>\n",
       "    </tr>\n",
       "  </tbody>\n",
       "</table>\n",
       "</div>"
      ],
      "text/plain": [
       "                    Tipo                Valor\n",
       "0               Tipo_C&L            63,558.14\n",
       "1      Tipo_Consultorias            63,558.14\n",
       "2          Tipo_Correios            63,558.14\n",
       "3        Tipo_Divulgação            63,558.14\n",
       "4        Tipo_Escritório            63,558.14\n",
       "5        Tipo_Hospedagem            63,558.14\n",
       "6  Tipo_Locação de Carro            63,558.14\n",
       "7  Tipo_Passagens Aéreas            63,558.14\n",
       "8               Tipo_S/D            63,558.14\n",
       "9         Tipo_Telefonia            63,558.14"
      ]
     },
     "metadata": {},
     "output_type": "display_data"
    },
    {
     "data": {
      "text/plain": [
       "635581.37"
      ]
     },
     "execution_count": 39,
     "metadata": {},
     "output_type": "execute_result"
    }
   ],
   "source": [
    "resultado = tabela_resultado(br, df_2018)\n",
    "#resultado['Valor']= np.exp(resultado['Valor'])\n",
    "display(resultado)\n",
    "resultado['Valor'].sum().round(2)"
   ]
  },
  {
   "cell_type": "markdown",
   "metadata": {},
   "source": [
    "***"
   ]
  },
  {
   "cell_type": "markdown",
   "metadata": {},
   "source": [
    "### H.3 COM APLICAÇÃO DE LOG"
   ]
  },
  {
   "cell_type": "code",
   "execution_count": 40,
   "metadata": {
    "scrolled": false
   },
   "outputs": [
    {
     "data": {
      "text/plain": [
       "'Score para train '"
      ]
     },
     "metadata": {},
     "output_type": "display_data"
    },
    {
     "data": {
      "text/plain": [
       "0.911"
      ]
     },
     "metadata": {},
     "output_type": "display_data"
    },
    {
     "data": {
      "text/plain": [
       "'Score para test '"
      ]
     },
     "metadata": {},
     "output_type": "display_data"
    },
    {
     "data": {
      "text/plain": [
       "0.9087"
      ]
     },
     "metadata": {},
     "output_type": "display_data"
    }
   ],
   "source": [
    "brl = linear_model.BayesianRidge()\n",
    "brl.fit(Xl_train,yl_train)\n",
    "display('Score para train ', brl.score(Xl_train,yl_train).round(4))\n",
    "display('Score para test ', brl.score(Xl_test,yl_test).round(4))"
   ]
  },
  {
   "cell_type": "markdown",
   "metadata": {},
   "source": [
    "### H.4 PREDIÇÃO PARA 2018 COM LOG"
   ]
  },
  {
   "cell_type": "code",
   "execution_count": 41,
   "metadata": {
    "scrolled": true
   },
   "outputs": [
    {
     "data": {
      "text/html": [
       "<div>\n",
       "<style scoped>\n",
       "    .dataframe tbody tr th:only-of-type {\n",
       "        vertical-align: middle;\n",
       "    }\n",
       "\n",
       "    .dataframe tbody tr th {\n",
       "        vertical-align: top;\n",
       "    }\n",
       "\n",
       "    .dataframe thead th {\n",
       "        text-align: right;\n",
       "    }\n",
       "</style>\n",
       "<table border=\"1\" class=\"dataframe\">\n",
       "  <thead>\n",
       "    <tr style=\"text-align: right;\">\n",
       "      <th></th>\n",
       "      <th>Tipo</th>\n",
       "      <th>Valor</th>\n",
       "    </tr>\n",
       "  </thead>\n",
       "  <tbody>\n",
       "    <tr>\n",
       "      <th>0</th>\n",
       "      <td>Tipo_C&amp;L</td>\n",
       "      <td>60,498.61</td>\n",
       "    </tr>\n",
       "    <tr>\n",
       "      <th>1</th>\n",
       "      <td>Tipo_Consultorias</td>\n",
       "      <td>480,268.64</td>\n",
       "    </tr>\n",
       "    <tr>\n",
       "      <th>2</th>\n",
       "      <td>Tipo_Correios</td>\n",
       "      <td>779.55</td>\n",
       "    </tr>\n",
       "    <tr>\n",
       "      <th>3</th>\n",
       "      <td>Tipo_Divulgação</td>\n",
       "      <td>95,856.83</td>\n",
       "    </tr>\n",
       "    <tr>\n",
       "      <th>4</th>\n",
       "      <td>Tipo_Escritório</td>\n",
       "      <td>3,509.82</td>\n",
       "    </tr>\n",
       "    <tr>\n",
       "      <th>5</th>\n",
       "      <td>Tipo_Hospedagem</td>\n",
       "      <td>151,971.71</td>\n",
       "    </tr>\n",
       "    <tr>\n",
       "      <th>6</th>\n",
       "      <td>Tipo_Locação de Carro</td>\n",
       "      <td>49,714.36</td>\n",
       "    </tr>\n",
       "    <tr>\n",
       "      <th>7</th>\n",
       "      <td>Tipo_Passagens Aéreas</td>\n",
       "      <td>11,354.50</td>\n",
       "    </tr>\n",
       "    <tr>\n",
       "      <th>8</th>\n",
       "      <td>Tipo_S/D</td>\n",
       "      <td>1,035.15</td>\n",
       "    </tr>\n",
       "    <tr>\n",
       "      <th>9</th>\n",
       "      <td>Tipo_Telefonia</td>\n",
       "      <td>20,629.50</td>\n",
       "    </tr>\n",
       "  </tbody>\n",
       "</table>\n",
       "</div>"
      ],
      "text/plain": [
       "                    Tipo                Valor\n",
       "0               Tipo_C&L            60,498.61\n",
       "1      Tipo_Consultorias           480,268.64\n",
       "2          Tipo_Correios               779.55\n",
       "3        Tipo_Divulgação            95,856.83\n",
       "4        Tipo_Escritório             3,509.82\n",
       "5        Tipo_Hospedagem           151,971.71\n",
       "6  Tipo_Locação de Carro            49,714.36\n",
       "7  Tipo_Passagens Aéreas            11,354.50\n",
       "8               Tipo_S/D             1,035.15\n",
       "9         Tipo_Telefonia            20,629.50"
      ]
     },
     "metadata": {},
     "output_type": "display_data"
    },
    {
     "data": {
      "text/plain": [
       "875618.68"
      ]
     },
     "execution_count": 41,
     "metadata": {},
     "output_type": "execute_result"
    }
   ],
   "source": [
    "resultado = tabela_resultado(brl, df_2018)\n",
    "resultado['Valor']= np.exp(resultado['Valor'])\n",
    "display(resultado)\n",
    "resultado['Valor'].sum().round(2)"
   ]
  },
  {
   "cell_type": "markdown",
   "metadata": {},
   "source": [
    "Referências:\n",
    "> 1. https://www.analyticsvidhya.com/blog/2016/07/practical-guide-data-preprocessing-python-scikit-learn/\n",
    "> 2.  https://chrisalbon.com/machine_learning/preprocessing_structured_data/preprocessing_categorical_features/\n",
    "> 3. https://www.packtpub.com/mapt/book/big_data_and_business_intelligence/9781787286382/2/ch02lvl1sec23/working-with-categorical-variables\n",
    "> 4. http://scikit-learn.org/stable/auto_examples/linear_model/plot_ols.html\n",
    "> 5. http://scikit-learn.org/stable/auto_examples/plot_cv_predict.html#sphx-glr-auto-examples-plot-cv-predict-py\n",
    "> 6. http://fastml.com/how-to-use-pd-dot-get-dummies-with-the-test-set/\n",
    "> 7. Scikit-learn Cookbook - Second Edition - Julian Avila, Trent Hauck - November 2017 - https://www.packtpub.com/mapt/book/all_books/9781787286382\n",
    "> 8. scikit-learn : Machine Learning Simplified - Raúl Garreta, Guillermo Moncecchi, Trent Hauck, Gavin Hackeling - November 2017 - https://www.packtpub.com/mapt/book/all_books/9781788833479\n",
    "> 9. Mastering Machine Learning with scikit-learn - Second Edition - Gavin Hackeling - July 2017 - https://www.packtpub.com/mapt/book/all_books/9781788299879\n",
    "> \n",
    "> \n",
    "> \n",
    "> \n",
    "> \n",
    "> \n",
    "> \n",
    "> \n",
    "> \n",
    "> \n",
    "> \n",
    "> \n",
    "> \n",
    "> "
   ]
  }
 ],
 "metadata": {
  "kernelspec": {
   "display_name": "Python 3",
   "language": "python",
   "name": "python3"
  },
  "language_info": {
   "codemirror_mode": {
    "name": "ipython",
    "version": 3
   },
   "file_extension": ".py",
   "mimetype": "text/x-python",
   "name": "python",
   "nbconvert_exporter": "python",
   "pygments_lexer": "ipython3",
   "version": "3.6.5"
  }
 },
 "nbformat": 4,
 "nbformat_minor": 2
}
