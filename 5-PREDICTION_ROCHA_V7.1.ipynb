{
 "cells": [
  {
   "cell_type": "markdown",
   "metadata": {},
   "source": [
    "# **MACHINE LEARNING NANODEGREE**\n",
    "***\n",
    "## **PROJETO FINAL**\n",
    "***\n",
    "\n",
    "## **Análise Preditiva de Cota para Exercício Parlamentar (CEAP)**\n",
    "\n",
    "## ** PARTE 3 - Predição de Dados**\n",
    "***\n",
    "\n",
    "## ** DEPUTADO ROCHA**\n",
    "\n",
    "***"
   ]
  },
  {
   "cell_type": "markdown",
   "metadata": {},
   "source": [
    "## ** INTRODUÇÃO **\n",
    "\n",
    "Realizaremos uma análise preditiva dos gastos para o ano de 2018 utilizando-se de algoritmo de aprendizado supervisionado.\n",
    "\n",
    "É importante ressaltar que um deputado, salvo reeleição, terá registro de apenas quatros anos de despezas da CEAP. O que acaba sendo relativamente poucos dados os três primeiros anos para previsão dos gastos do último ano do mandato. Esta característica do dataset pode causar overfitting e ter impactos negativos com outliers.\n",
    "\n",
    "Para contornar este problema devemos buscar utilizar algoritmos de menor complexidade, com menor número de parâmetros.\n",
    "Tendo em vista estes desafios iremos utilizar dois tipos de lagoritmo:\n",
    "> 1. LINEAR REGRESSION\n",
    "> 2. LASSO REGRESSION\n",
    "> 3. LARS LASSO REGRESSION\n",
    "> 4. RIDGE REGRESSION\n",
    "> 5. BAYESIAN RIDGE\n",
    "\n",
    "Referência: https://goo.gl/gRYnWW"
   ]
  },
  {
   "cell_type": "markdown",
   "metadata": {},
   "source": [
    "***\n",
    "\n",
    "## **A. Importação de Biblioteca Python**\n",
    "\n",
    "#### Serão utilizadas neste projeto as seguintes bibliotecas Python:\n",
    "\n",
    "> 1. Pandas\n",
    "> 2. Numpy\n",
    "> 3. Scikit Learn\n",
    "> 4. Seaborn\n"
   ]
  },
  {
   "cell_type": "code",
   "execution_count": 1,
   "metadata": {},
   "outputs": [
    {
     "name": "stderr",
     "output_type": "stream",
     "text": [
      "/Users/tec/anaconda3/lib/python3.6/site-packages/sklearn/cross_validation.py:41: DeprecationWarning: This module was deprecated in version 0.18 in favor of the model_selection module into which all the refactored classes and functions are moved. Also note that the interface of the new CV iterators are different from that of this module. This module will be removed in 0.20.\n",
      "  \"This module will be removed in 0.20.\", DeprecationWarning)\n"
     ]
    }
   ],
   "source": [
    "import pandas as pd\n",
    "import numpy as np\n",
    "import os\n",
    "import sklearn\n",
    "from sklearn.metrics import r2_score\n",
    "import sys\n",
    "import os\n",
    "import matplotlib.pyplot as plt\n",
    "import matplotlib.axes as axes\n",
    "import seaborn as sns\n",
    "\n",
    "# pre-processing\n",
    "#from sklearn.preprocessing import OneHotEncoder\n",
    "#from sklearn.preprocessing import LabelEncoder\n",
    "\n",
    "# Cross validation\n",
    "from sklearn.cross_validation import train_test_split\n",
    "from sklearn.cross_validation import ShuffleSplit\n",
    "from sklearn.model_selection import cross_val_predict\n",
    "\n",
    "# Model selection\n",
    "from sklearn.model_selection import train_test_split\n",
    "#from sklearn.model_selection import KFold\n",
    "\n",
    "# Machine learning\n",
    "\n",
    "from sklearn.linear_model import LinearRegression\n",
    "from sklearn import linear_model\n",
    "from sklearn.linear_model import Ridge\n",
    "#from sklearn.tree import DecisionTreeRegressor\n",
    "#from sklearn.grid_search import GridSearchCV\n",
    "\n",
    "# Métrica\n",
    "from sklearn.metrics import mean_squared_error, r2_score\n",
    "#from sklearn.metrics import make_scorer\n",
    "\n",
    "# definindo que a execução do código na linha de baixo.\n",
    "%matplotlib inline\n",
    "\n",
    "# Ajustando globalmente o impedimento de notação científica\n",
    "pd.options.display.float_format = '{:20,.2f}'.format\n",
    "\n",
    "# Variável para definir a amostragem para head() e Tail()\n",
    "H = 1"
   ]
  },
  {
   "cell_type": "markdown",
   "metadata": {},
   "source": [
    "***\n",
    "\n",
    "## **B. Preparação de Dataset**\n"
   ]
  },
  {
   "cell_type": "markdown",
   "metadata": {},
   "source": [
    "### B.1 Importando o dataset\n",
    "Será utilizado o dataset individual criado para o **Dep. Domingos Neto**:\n",
    "\n",
    "> - df_roc_con.csv\n"
   ]
  },
  {
   "cell_type": "code",
   "execution_count": 2,
   "metadata": {},
   "outputs": [
    {
     "data": {
      "text/plain": [
       "['.DS_Store',\n",
       " 'Ano-2015.csv',\n",
       " 'Ano-2016.csv',\n",
       " 'Ano-2017.csv',\n",
       " 'df_dom_con.csv',\n",
       " 'df_fco_con.csv',\n",
       " 'df_roc_con.csv',\n",
       " 'df_trienio_limpo.csv']"
      ]
     },
     "metadata": {},
     "output_type": "display_data"
    }
   ],
   "source": [
    "display(os.listdir('dataset'))"
   ]
  },
  {
   "cell_type": "code",
   "execution_count": 3,
   "metadata": {
    "scrolled": false
   },
   "outputs": [],
   "source": [
    "# importando o dataset limpo.\n",
    "df = pd.read_csv('dataset/df_roc_con.csv', sep = ';', encoding='latin1')"
   ]
  },
  {
   "cell_type": "code",
   "execution_count": 4,
   "metadata": {
    "scrolled": false
   },
   "outputs": [
    {
     "data": {
      "text/plain": [
       "array(['Alimentação', 'C&L', 'Consultorias', 'Correios', 'Divulgação',\n",
       "       'Escritório', 'Hospedagem', 'Locação de Carro', 'Passagens Aéreas',\n",
       "       'S/D', 'Telefonia', 'Taxi'], dtype=object)"
      ]
     },
     "execution_count": 4,
     "metadata": {},
     "output_type": "execute_result"
    }
   ],
   "source": [
    "df.Tipo.unique()"
   ]
  },
  {
   "cell_type": "markdown",
   "metadata": {},
   "source": [
    "***\n",
    "## C. DEPUTADO ROCHA"
   ]
  },
  {
   "cell_type": "markdown",
   "metadata": {},
   "source": [
    "## C.1 CRIANDO X e y"
   ]
  },
  {
   "cell_type": "code",
   "execution_count": 5,
   "metadata": {},
   "outputs": [],
   "source": [
    "# Criação da variáveis X e y.\n",
    "X = df\n",
    "y = X.pop('Valor')"
   ]
  },
  {
   "cell_type": "code",
   "execution_count": 6,
   "metadata": {},
   "outputs": [
    {
     "data": {
      "text/html": [
       "<div>\n",
       "<style scoped>\n",
       "    .dataframe tbody tr th:only-of-type {\n",
       "        vertical-align: middle;\n",
       "    }\n",
       "\n",
       "    .dataframe tbody tr th {\n",
       "        vertical-align: top;\n",
       "    }\n",
       "\n",
       "    .dataframe thead th {\n",
       "        text-align: right;\n",
       "    }\n",
       "</style>\n",
       "<table border=\"1\" class=\"dataframe\">\n",
       "  <thead>\n",
       "    <tr style=\"text-align: right;\">\n",
       "      <th></th>\n",
       "      <th>Tipo</th>\n",
       "      <th>Ano</th>\n",
       "    </tr>\n",
       "  </thead>\n",
       "  <tbody>\n",
       "    <tr>\n",
       "      <th>0</th>\n",
       "      <td>Alimentação</td>\n",
       "      <td>2015</td>\n",
       "    </tr>\n",
       "  </tbody>\n",
       "</table>\n",
       "</div>"
      ],
      "text/plain": [
       "          Tipo   Ano\n",
       "0  Alimentação  2015"
      ]
     },
     "execution_count": 6,
     "metadata": {},
     "output_type": "execute_result"
    }
   ],
   "source": [
    "X.head(H)"
   ]
  },
  {
   "cell_type": "code",
   "execution_count": 7,
   "metadata": {},
   "outputs": [
    {
     "data": {
      "text/plain": [
       "0               7,207.45\n",
       "Name: Valor, dtype: float64"
      ]
     },
     "execution_count": 7,
     "metadata": {},
     "output_type": "execute_result"
    }
   ],
   "source": [
    "y.head(H)"
   ]
  },
  {
   "cell_type": "code",
   "execution_count": 8,
   "metadata": {},
   "outputs": [
    {
     "data": {
      "text/plain": [
       "(33, 2)"
      ]
     },
     "execution_count": 8,
     "metadata": {},
     "output_type": "execute_result"
    }
   ],
   "source": [
    "X.shape"
   ]
  },
  {
   "cell_type": "markdown",
   "metadata": {},
   "source": [
    "## C.2 CRIANDO UM DATAFRAME PARA PREDIÇÃO DE 2018"
   ]
  },
  {
   "cell_type": "markdown",
   "metadata": {},
   "source": [
    "Antes de aplicarmos get_dummies na feature Tipo, precisamos listar todo o conteúdo único contido para criarmos o dataframe de predição para 2018."
   ]
  },
  {
   "cell_type": "code",
   "execution_count": 9,
   "metadata": {},
   "outputs": [
    {
     "data": {
      "text/html": [
       "<div>\n",
       "<style scoped>\n",
       "    .dataframe tbody tr th:only-of-type {\n",
       "        vertical-align: middle;\n",
       "    }\n",
       "\n",
       "    .dataframe tbody tr th {\n",
       "        vertical-align: top;\n",
       "    }\n",
       "\n",
       "    .dataframe thead th {\n",
       "        text-align: right;\n",
       "    }\n",
       "</style>\n",
       "<table border=\"1\" class=\"dataframe\">\n",
       "  <thead>\n",
       "    <tr style=\"text-align: right;\">\n",
       "      <th></th>\n",
       "      <th>Ano</th>\n",
       "      <th>Tipo_Alimentação</th>\n",
       "      <th>Tipo_C&amp;L</th>\n",
       "      <th>Tipo_Consultorias</th>\n",
       "      <th>Tipo_Correios</th>\n",
       "      <th>Tipo_Divulgação</th>\n",
       "      <th>Tipo_Escritório</th>\n",
       "      <th>Tipo_Hospedagem</th>\n",
       "      <th>Tipo_Locação de Carro</th>\n",
       "      <th>Tipo_Passagens Aéreas</th>\n",
       "      <th>Tipo_S/D</th>\n",
       "      <th>Tipo_Taxi</th>\n",
       "      <th>Tipo_Telefonia</th>\n",
       "    </tr>\n",
       "  </thead>\n",
       "  <tbody>\n",
       "    <tr>\n",
       "      <th>0</th>\n",
       "      <td>2018</td>\n",
       "      <td>1</td>\n",
       "      <td>0</td>\n",
       "      <td>0</td>\n",
       "      <td>0</td>\n",
       "      <td>0</td>\n",
       "      <td>0</td>\n",
       "      <td>0</td>\n",
       "      <td>0</td>\n",
       "      <td>0</td>\n",
       "      <td>0</td>\n",
       "      <td>0</td>\n",
       "      <td>0</td>\n",
       "    </tr>\n",
       "    <tr>\n",
       "      <th>1</th>\n",
       "      <td>2018</td>\n",
       "      <td>0</td>\n",
       "      <td>1</td>\n",
       "      <td>0</td>\n",
       "      <td>0</td>\n",
       "      <td>0</td>\n",
       "      <td>0</td>\n",
       "      <td>0</td>\n",
       "      <td>0</td>\n",
       "      <td>0</td>\n",
       "      <td>0</td>\n",
       "      <td>0</td>\n",
       "      <td>0</td>\n",
       "    </tr>\n",
       "    <tr>\n",
       "      <th>2</th>\n",
       "      <td>2018</td>\n",
       "      <td>0</td>\n",
       "      <td>0</td>\n",
       "      <td>1</td>\n",
       "      <td>0</td>\n",
       "      <td>0</td>\n",
       "      <td>0</td>\n",
       "      <td>0</td>\n",
       "      <td>0</td>\n",
       "      <td>0</td>\n",
       "      <td>0</td>\n",
       "      <td>0</td>\n",
       "      <td>0</td>\n",
       "    </tr>\n",
       "    <tr>\n",
       "      <th>3</th>\n",
       "      <td>2018</td>\n",
       "      <td>0</td>\n",
       "      <td>0</td>\n",
       "      <td>0</td>\n",
       "      <td>1</td>\n",
       "      <td>0</td>\n",
       "      <td>0</td>\n",
       "      <td>0</td>\n",
       "      <td>0</td>\n",
       "      <td>0</td>\n",
       "      <td>0</td>\n",
       "      <td>0</td>\n",
       "      <td>0</td>\n",
       "    </tr>\n",
       "    <tr>\n",
       "      <th>4</th>\n",
       "      <td>2018</td>\n",
       "      <td>0</td>\n",
       "      <td>0</td>\n",
       "      <td>0</td>\n",
       "      <td>0</td>\n",
       "      <td>1</td>\n",
       "      <td>0</td>\n",
       "      <td>0</td>\n",
       "      <td>0</td>\n",
       "      <td>0</td>\n",
       "      <td>0</td>\n",
       "      <td>0</td>\n",
       "      <td>0</td>\n",
       "    </tr>\n",
       "    <tr>\n",
       "      <th>5</th>\n",
       "      <td>2018</td>\n",
       "      <td>0</td>\n",
       "      <td>0</td>\n",
       "      <td>0</td>\n",
       "      <td>0</td>\n",
       "      <td>0</td>\n",
       "      <td>1</td>\n",
       "      <td>0</td>\n",
       "      <td>0</td>\n",
       "      <td>0</td>\n",
       "      <td>0</td>\n",
       "      <td>0</td>\n",
       "      <td>0</td>\n",
       "    </tr>\n",
       "    <tr>\n",
       "      <th>6</th>\n",
       "      <td>2018</td>\n",
       "      <td>0</td>\n",
       "      <td>0</td>\n",
       "      <td>0</td>\n",
       "      <td>0</td>\n",
       "      <td>0</td>\n",
       "      <td>0</td>\n",
       "      <td>1</td>\n",
       "      <td>0</td>\n",
       "      <td>0</td>\n",
       "      <td>0</td>\n",
       "      <td>0</td>\n",
       "      <td>0</td>\n",
       "    </tr>\n",
       "    <tr>\n",
       "      <th>7</th>\n",
       "      <td>2018</td>\n",
       "      <td>0</td>\n",
       "      <td>0</td>\n",
       "      <td>0</td>\n",
       "      <td>0</td>\n",
       "      <td>0</td>\n",
       "      <td>0</td>\n",
       "      <td>0</td>\n",
       "      <td>1</td>\n",
       "      <td>0</td>\n",
       "      <td>0</td>\n",
       "      <td>0</td>\n",
       "      <td>0</td>\n",
       "    </tr>\n",
       "    <tr>\n",
       "      <th>8</th>\n",
       "      <td>2018</td>\n",
       "      <td>0</td>\n",
       "      <td>0</td>\n",
       "      <td>0</td>\n",
       "      <td>0</td>\n",
       "      <td>0</td>\n",
       "      <td>0</td>\n",
       "      <td>0</td>\n",
       "      <td>0</td>\n",
       "      <td>1</td>\n",
       "      <td>0</td>\n",
       "      <td>0</td>\n",
       "      <td>0</td>\n",
       "    </tr>\n",
       "    <tr>\n",
       "      <th>9</th>\n",
       "      <td>2018</td>\n",
       "      <td>0</td>\n",
       "      <td>0</td>\n",
       "      <td>0</td>\n",
       "      <td>0</td>\n",
       "      <td>0</td>\n",
       "      <td>0</td>\n",
       "      <td>0</td>\n",
       "      <td>0</td>\n",
       "      <td>0</td>\n",
       "      <td>1</td>\n",
       "      <td>0</td>\n",
       "      <td>0</td>\n",
       "    </tr>\n",
       "    <tr>\n",
       "      <th>10</th>\n",
       "      <td>2018</td>\n",
       "      <td>0</td>\n",
       "      <td>0</td>\n",
       "      <td>0</td>\n",
       "      <td>0</td>\n",
       "      <td>0</td>\n",
       "      <td>0</td>\n",
       "      <td>0</td>\n",
       "      <td>0</td>\n",
       "      <td>0</td>\n",
       "      <td>0</td>\n",
       "      <td>0</td>\n",
       "      <td>1</td>\n",
       "    </tr>\n",
       "    <tr>\n",
       "      <th>11</th>\n",
       "      <td>2018</td>\n",
       "      <td>0</td>\n",
       "      <td>0</td>\n",
       "      <td>0</td>\n",
       "      <td>0</td>\n",
       "      <td>0</td>\n",
       "      <td>0</td>\n",
       "      <td>0</td>\n",
       "      <td>0</td>\n",
       "      <td>0</td>\n",
       "      <td>0</td>\n",
       "      <td>1</td>\n",
       "      <td>0</td>\n",
       "    </tr>\n",
       "  </tbody>\n",
       "</table>\n",
       "</div>"
      ],
      "text/plain": [
       "     Ano  Tipo_Alimentação  Tipo_C&L  Tipo_Consultorias  Tipo_Correios  \\\n",
       "0   2018                 1         0                  0              0   \n",
       "1   2018                 0         1                  0              0   \n",
       "2   2018                 0         0                  1              0   \n",
       "3   2018                 0         0                  0              1   \n",
       "4   2018                 0         0                  0              0   \n",
       "5   2018                 0         0                  0              0   \n",
       "6   2018                 0         0                  0              0   \n",
       "7   2018                 0         0                  0              0   \n",
       "8   2018                 0         0                  0              0   \n",
       "9   2018                 0         0                  0              0   \n",
       "10  2018                 0         0                  0              0   \n",
       "11  2018                 0         0                  0              0   \n",
       "\n",
       "    Tipo_Divulgação  Tipo_Escritório  Tipo_Hospedagem  Tipo_Locação de Carro  \\\n",
       "0                 0                0                0                      0   \n",
       "1                 0                0                0                      0   \n",
       "2                 0                0                0                      0   \n",
       "3                 0                0                0                      0   \n",
       "4                 1                0                0                      0   \n",
       "5                 0                1                0                      0   \n",
       "6                 0                0                1                      0   \n",
       "7                 0                0                0                      1   \n",
       "8                 0                0                0                      0   \n",
       "9                 0                0                0                      0   \n",
       "10                0                0                0                      0   \n",
       "11                0                0                0                      0   \n",
       "\n",
       "    Tipo_Passagens Aéreas  Tipo_S/D  Tipo_Taxi  Tipo_Telefonia  \n",
       "0                       0         0          0               0  \n",
       "1                       0         0          0               0  \n",
       "2                       0         0          0               0  \n",
       "3                       0         0          0               0  \n",
       "4                       0         0          0               0  \n",
       "5                       0         0          0               0  \n",
       "6                       0         0          0               0  \n",
       "7                       0         0          0               0  \n",
       "8                       1         0          0               0  \n",
       "9                       0         1          0               0  \n",
       "10                      0         0          0               1  \n",
       "11                      0         0          1               0  "
      ]
     },
     "execution_count": 9,
     "metadata": {},
     "output_type": "execute_result"
    }
   ],
   "source": [
    "uniq = X.Tipo.unique()\n",
    "#display(uniq)\n",
    "uniq = pd.DataFrame(uniq, columns=['Tipo'])\n",
    "#display(uniq)\n",
    "df_2018 = pd.get_dummies(uniq, columns = ['Tipo'])\n",
    "#display(df_tipo)\n",
    "df_2018['Ano'] = 2018\n",
    "#ano = df_2018.pop('Ano')\n",
    "#df_2018['Ano'] = ano\n",
    "df_2018.head(12)\n",
    "#ano = df_2018.pop('Ano')\n",
    "df_2018 = df_2018.drop('Ano', axis = 1)\n",
    "df_2018.insert(0, 'Ano', 2018)\n",
    "df_2018.head(20)"
   ]
  },
  {
   "cell_type": "markdown",
   "metadata": {},
   "source": [
    "## C.3 TRATANDO FEATURE COM CLASSIFICAÇÃO\n",
    "Tendo em vista que os algoritmos de machine learning da biblioteca Scikit Learn não tratam automáticamente com colunas com tipo de dados Objeto utilizaremos a função get_dummies do Pandas.\n",
    "Esta função irá criar colunas adicionais para representar cada tipo de gasto existente e indicará através de 0 e 1 se ela está presente na linha ou não.\n",
    "Maiores informações podem ser encontradas neste link: \n",
    "> - https://pandas.pydata.org/pandas-docs/stable/generated/pandas.get_dummies.html"
   ]
  },
  {
   "cell_type": "code",
   "execution_count": 10,
   "metadata": {},
   "outputs": [],
   "source": [
    "# Vamos utilizar get_dummies para tratar os dados não numéricos da feature 'Tipo'.\n",
    "X = pd.get_dummies(X, columns = ['Tipo'])"
   ]
  },
  {
   "cell_type": "code",
   "execution_count": 11,
   "metadata": {
    "scrolled": true
   },
   "outputs": [
    {
     "data": {
      "text/html": [
       "<div>\n",
       "<style scoped>\n",
       "    .dataframe tbody tr th:only-of-type {\n",
       "        vertical-align: middle;\n",
       "    }\n",
       "\n",
       "    .dataframe tbody tr th {\n",
       "        vertical-align: top;\n",
       "    }\n",
       "\n",
       "    .dataframe thead th {\n",
       "        text-align: right;\n",
       "    }\n",
       "</style>\n",
       "<table border=\"1\" class=\"dataframe\">\n",
       "  <thead>\n",
       "    <tr style=\"text-align: right;\">\n",
       "      <th></th>\n",
       "      <th>Ano</th>\n",
       "      <th>Tipo_Alimentação</th>\n",
       "      <th>Tipo_C&amp;L</th>\n",
       "      <th>Tipo_Consultorias</th>\n",
       "      <th>Tipo_Correios</th>\n",
       "      <th>Tipo_Divulgação</th>\n",
       "      <th>Tipo_Escritório</th>\n",
       "      <th>Tipo_Hospedagem</th>\n",
       "      <th>Tipo_Locação de Carro</th>\n",
       "      <th>Tipo_Passagens Aéreas</th>\n",
       "      <th>Tipo_S/D</th>\n",
       "      <th>Tipo_Taxi</th>\n",
       "      <th>Tipo_Telefonia</th>\n",
       "    </tr>\n",
       "  </thead>\n",
       "  <tbody>\n",
       "    <tr>\n",
       "      <th>0</th>\n",
       "      <td>2015</td>\n",
       "      <td>1</td>\n",
       "      <td>0</td>\n",
       "      <td>0</td>\n",
       "      <td>0</td>\n",
       "      <td>0</td>\n",
       "      <td>0</td>\n",
       "      <td>0</td>\n",
       "      <td>0</td>\n",
       "      <td>0</td>\n",
       "      <td>0</td>\n",
       "      <td>0</td>\n",
       "      <td>0</td>\n",
       "    </tr>\n",
       "  </tbody>\n",
       "</table>\n",
       "</div>"
      ],
      "text/plain": [
       "    Ano  Tipo_Alimentação  Tipo_C&L  Tipo_Consultorias  Tipo_Correios  \\\n",
       "0  2015                 1         0                  0              0   \n",
       "\n",
       "   Tipo_Divulgação  Tipo_Escritório  Tipo_Hospedagem  Tipo_Locação de Carro  \\\n",
       "0                0                0                0                      0   \n",
       "\n",
       "   Tipo_Passagens Aéreas  Tipo_S/D  Tipo_Taxi  Tipo_Telefonia  \n",
       "0                      0         0          0               0  "
      ]
     },
     "execution_count": 11,
     "metadata": {},
     "output_type": "execute_result"
    }
   ],
   "source": [
    "X.head(H)"
   ]
  },
  {
   "cell_type": "code",
   "execution_count": 12,
   "metadata": {
    "scrolled": true
   },
   "outputs": [
    {
     "data": {
      "text/plain": [
       "(33, 13)"
      ]
     },
     "execution_count": 12,
     "metadata": {},
     "output_type": "execute_result"
    }
   ],
   "source": [
    "X.shape"
   ]
  },
  {
   "cell_type": "markdown",
   "metadata": {},
   "source": [
    "## C.4 'LOGARITMIZAÇÃO'"
   ]
  },
  {
   "cell_type": "code",
   "execution_count": 13,
   "metadata": {},
   "outputs": [],
   "source": [
    "# Aplicação de logaritmica\n",
    "    \n",
    "yl = np.log(y)\n",
    "Xl = X"
   ]
  },
  {
   "cell_type": "markdown",
   "metadata": {},
   "source": [
    "## C.5 DATA SPLIT\n",
    "\n",
    "Como estaremos realizando o uso dos dados de 2015, 2016 e 2017 para realizar a predição dos gastos de 2018 de três deputados, iremos então separar os dados de 2015 e 2016 para serem utilizados como train e os dados de 2017 para test.\n",
    "O splot de dados será realizado COM e SEM a aplicação de log em y."
   ]
  },
  {
   "cell_type": "code",
   "execution_count": 14,
   "metadata": {},
   "outputs": [],
   "source": [
    "# Test split percentual e random state.\n",
    "per = 0.20\n",
    "random = None\n",
    "\n",
    "# data split SEM LOG.\n",
    "# Data split com 20% de dados para treinamento.\n",
    "X_train, X_test, y_train, y_test = train_test_split(X, y, test_size = per, random_state = random)\n",
    "\n",
    "# data split COM LOG.\n",
    "# Data split com 20% de dados para treinamento.\n",
    "Xl_train, Xl_test, yl_train, yl_test = train_test_split(Xl, yl, test_size = per, random_state = random)"
   ]
  },
  {
   "cell_type": "code",
   "execution_count": 15,
   "metadata": {
    "scrolled": true
   },
   "outputs": [
    {
     "data": {
      "text/html": [
       "<div>\n",
       "<style scoped>\n",
       "    .dataframe tbody tr th:only-of-type {\n",
       "        vertical-align: middle;\n",
       "    }\n",
       "\n",
       "    .dataframe tbody tr th {\n",
       "        vertical-align: top;\n",
       "    }\n",
       "\n",
       "    .dataframe thead th {\n",
       "        text-align: right;\n",
       "    }\n",
       "</style>\n",
       "<table border=\"1\" class=\"dataframe\">\n",
       "  <thead>\n",
       "    <tr style=\"text-align: right;\">\n",
       "      <th></th>\n",
       "      <th>Ano</th>\n",
       "      <th>Tipo_Alimentação</th>\n",
       "      <th>Tipo_C&amp;L</th>\n",
       "      <th>Tipo_Consultorias</th>\n",
       "      <th>Tipo_Correios</th>\n",
       "      <th>Tipo_Divulgação</th>\n",
       "      <th>Tipo_Escritório</th>\n",
       "      <th>Tipo_Hospedagem</th>\n",
       "      <th>Tipo_Locação de Carro</th>\n",
       "      <th>Tipo_Passagens Aéreas</th>\n",
       "      <th>Tipo_S/D</th>\n",
       "      <th>Tipo_Taxi</th>\n",
       "      <th>Tipo_Telefonia</th>\n",
       "    </tr>\n",
       "  </thead>\n",
       "  <tbody>\n",
       "    <tr>\n",
       "      <th>21</th>\n",
       "      <td>2016</td>\n",
       "      <td>0</td>\n",
       "      <td>0</td>\n",
       "      <td>0</td>\n",
       "      <td>0</td>\n",
       "      <td>0</td>\n",
       "      <td>0</td>\n",
       "      <td>0</td>\n",
       "      <td>0</td>\n",
       "      <td>0</td>\n",
       "      <td>0</td>\n",
       "      <td>0</td>\n",
       "      <td>1</td>\n",
       "    </tr>\n",
       "  </tbody>\n",
       "</table>\n",
       "</div>"
      ],
      "text/plain": [
       "     Ano  Tipo_Alimentação  Tipo_C&L  Tipo_Consultorias  Tipo_Correios  \\\n",
       "21  2016                 0         0                  0              0   \n",
       "\n",
       "    Tipo_Divulgação  Tipo_Escritório  Tipo_Hospedagem  Tipo_Locação de Carro  \\\n",
       "21                0                0                0                      0   \n",
       "\n",
       "    Tipo_Passagens Aéreas  Tipo_S/D  Tipo_Taxi  Tipo_Telefonia  \n",
       "21                      0         0          0               1  "
      ]
     },
     "execution_count": 15,
     "metadata": {},
     "output_type": "execute_result"
    }
   ],
   "source": [
    "X_train.head(H)"
   ]
  },
  {
   "cell_type": "code",
   "execution_count": 16,
   "metadata": {},
   "outputs": [
    {
     "data": {
      "text/html": [
       "<div>\n",
       "<style scoped>\n",
       "    .dataframe tbody tr th:only-of-type {\n",
       "        vertical-align: middle;\n",
       "    }\n",
       "\n",
       "    .dataframe tbody tr th {\n",
       "        vertical-align: top;\n",
       "    }\n",
       "\n",
       "    .dataframe thead th {\n",
       "        text-align: right;\n",
       "    }\n",
       "</style>\n",
       "<table border=\"1\" class=\"dataframe\">\n",
       "  <thead>\n",
       "    <tr style=\"text-align: right;\">\n",
       "      <th></th>\n",
       "      <th>Ano</th>\n",
       "      <th>Tipo_Alimentação</th>\n",
       "      <th>Tipo_C&amp;L</th>\n",
       "      <th>Tipo_Consultorias</th>\n",
       "      <th>Tipo_Correios</th>\n",
       "      <th>Tipo_Divulgação</th>\n",
       "      <th>Tipo_Escritório</th>\n",
       "      <th>Tipo_Hospedagem</th>\n",
       "      <th>Tipo_Locação de Carro</th>\n",
       "      <th>Tipo_Passagens Aéreas</th>\n",
       "      <th>Tipo_S/D</th>\n",
       "      <th>Tipo_Taxi</th>\n",
       "      <th>Tipo_Telefonia</th>\n",
       "    </tr>\n",
       "  </thead>\n",
       "  <tbody>\n",
       "    <tr>\n",
       "      <th>8</th>\n",
       "      <td>2015</td>\n",
       "      <td>0</td>\n",
       "      <td>0</td>\n",
       "      <td>0</td>\n",
       "      <td>0</td>\n",
       "      <td>0</td>\n",
       "      <td>0</td>\n",
       "      <td>0</td>\n",
       "      <td>0</td>\n",
       "      <td>1</td>\n",
       "      <td>0</td>\n",
       "      <td>0</td>\n",
       "      <td>0</td>\n",
       "    </tr>\n",
       "  </tbody>\n",
       "</table>\n",
       "</div>"
      ],
      "text/plain": [
       "    Ano  Tipo_Alimentação  Tipo_C&L  Tipo_Consultorias  Tipo_Correios  \\\n",
       "8  2015                 0         0                  0              0   \n",
       "\n",
       "   Tipo_Divulgação  Tipo_Escritório  Tipo_Hospedagem  Tipo_Locação de Carro  \\\n",
       "8                0                0                0                      0   \n",
       "\n",
       "   Tipo_Passagens Aéreas  Tipo_S/D  Tipo_Taxi  Tipo_Telefonia  \n",
       "8                      1         0          0               0  "
      ]
     },
     "execution_count": 16,
     "metadata": {},
     "output_type": "execute_result"
    }
   ],
   "source": [
    "X_test.head(H)"
   ]
  },
  {
   "cell_type": "code",
   "execution_count": 17,
   "metadata": {
    "scrolled": true
   },
   "outputs": [
    {
     "data": {
      "text/plain": [
       "21              17,552.88\n",
       "Name: Valor, dtype: float64"
      ]
     },
     "execution_count": 17,
     "metadata": {},
     "output_type": "execute_result"
    }
   ],
   "source": [
    "y_train.head(H)"
   ]
  },
  {
   "cell_type": "code",
   "execution_count": 18,
   "metadata": {},
   "outputs": [
    {
     "data": {
      "text/plain": [
       "21                   9.77\n",
       "Name: Valor, dtype: float64"
      ]
     },
     "execution_count": 18,
     "metadata": {},
     "output_type": "execute_result"
    }
   ],
   "source": [
    "yl_train.head(H)"
   ]
  },
  {
   "cell_type": "code",
   "execution_count": 19,
   "metadata": {
    "scrolled": true
   },
   "outputs": [
    {
     "data": {
      "text/plain": [
       "8             173,054.25\n",
       "Name: Valor, dtype: float64"
      ]
     },
     "execution_count": 19,
     "metadata": {},
     "output_type": "execute_result"
    }
   ],
   "source": [
    "y_test.head(H)"
   ]
  },
  {
   "cell_type": "code",
   "execution_count": 20,
   "metadata": {},
   "outputs": [
    {
     "data": {
      "text/plain": [
       "26                  12.39\n",
       "Name: Valor, dtype: float64"
      ]
     },
     "execution_count": 20,
     "metadata": {},
     "output_type": "execute_result"
    }
   ],
   "source": [
    "yl_test.head(H)"
   ]
  },
  {
   "cell_type": "markdown",
   "metadata": {},
   "source": [
    "## C.6 PREDIÇÃO POR REGRESSÃO LINEAR"
   ]
  },
  {
   "cell_type": "markdown",
   "metadata": {},
   "source": [
    "### CRIAÇÃO DE FUNÇÃO PARA CONSTRUÇÃO DE TABELA RESULTADO\n"
   ]
  },
  {
   "cell_type": "code",
   "execution_count": 21,
   "metadata": {},
   "outputs": [],
   "source": [
    "# Criando tabela com o resultado da regressão\n",
    "def tabela_resultado(modelo, df):\n",
    "    pr = modelo.predict(df)\n",
    "    pr = pd.DataFrame(data=pr)\n",
    "    #display(pr)\n",
    "    pr['Valor'] = pr\n",
    "    #display(pr)\n",
    "    pr = pr.pop('Valor')\n",
    "    #display(pr)\n",
    "    co = df_2018.columns\n",
    "    co = pd.DataFrame(data=co)\n",
    "    #display(co)\n",
    "    co.drop(0, axis = 0, inplace = True)\n",
    "    co['Tipo'] = co\n",
    "    co = co.pop('Tipo')\n",
    "    co = co.reset_index(drop=True)\n",
    "    #display(co)\n",
    "    results = pd.concat([co, pr], axis = 1)\n",
    "    return results\n",
    "    #display(results)"
   ]
  },
  {
   "cell_type": "markdown",
   "metadata": {},
   "source": [
    "### CRIAÇÃO DE DATAFRAME PARA PREDIÇÃO PARA 2018"
   ]
  },
  {
   "cell_type": "raw",
   "metadata": {
    "scrolled": false
   },
   "source": [
    "#ano = df_2018.pop('Ano')\n",
    "df_2018 = df_2018.drop('Ano', axis = 1)\n",
    "df_2018.insert(0, 'Ano', 2018)\n",
    "df_2018.head(20)"
   ]
  },
  {
   "cell_type": "markdown",
   "metadata": {},
   "source": [
    "***\n",
    "## D. LINEAR REGRESSION"
   ]
  },
  {
   "cell_type": "markdown",
   "metadata": {},
   "source": [
    "### D.1 SEM APLICAÇÃO DE  LOG"
   ]
  },
  {
   "cell_type": "code",
   "execution_count": 22,
   "metadata": {
    "scrolled": true
   },
   "outputs": [
    {
     "data": {
      "text/plain": [
       "'Score para train '"
      ]
     },
     "metadata": {},
     "output_type": "display_data"
    },
    {
     "data": {
      "text/plain": [
       "0.9659"
      ]
     },
     "metadata": {},
     "output_type": "display_data"
    },
    {
     "data": {
      "text/plain": [
       "'Score para test '"
      ]
     },
     "metadata": {},
     "output_type": "display_data"
    },
    {
     "data": {
      "text/plain": [
       "0.8468"
      ]
     },
     "metadata": {},
     "output_type": "display_data"
    }
   ],
   "source": [
    "lr = linear_model.LinearRegression()\n",
    "lr.fit(X_train,y_train)\n",
    "display('Score para train ', lr.score(X_train,y_train).round(4))\n",
    "display('Score para test ', lr.score(X_test,y_test).round(4))\n"
   ]
  },
  {
   "cell_type": "code",
   "execution_count": 23,
   "metadata": {},
   "outputs": [
    {
     "data": {
      "text/plain": [
       "8              173,054.25\n",
       "30             218,674.23\n",
       "20                 738.28\n",
       "19              17,471.07\n",
       "4              165,993.33\n",
       "14             310,900.00\n",
       "22                 926.06\n",
       "Name: Valor, dtype: float64"
      ]
     },
     "execution_count": 23,
     "metadata": {},
     "output_type": "execute_result"
    }
   ],
   "source": [
    "y_test"
   ]
  },
  {
   "cell_type": "markdown",
   "metadata": {},
   "source": [
    "### D.2 PREDIÇÃO PARA 2018 SEM LOG"
   ]
  },
  {
   "cell_type": "code",
   "execution_count": 24,
   "metadata": {
    "scrolled": false
   },
   "outputs": [
    {
     "data": {
      "text/html": [
       "<div>\n",
       "<style scoped>\n",
       "    .dataframe tbody tr th:only-of-type {\n",
       "        vertical-align: middle;\n",
       "    }\n",
       "\n",
       "    .dataframe tbody tr th {\n",
       "        vertical-align: top;\n",
       "    }\n",
       "\n",
       "    .dataframe thead th {\n",
       "        text-align: right;\n",
       "    }\n",
       "</style>\n",
       "<table border=\"1\" class=\"dataframe\">\n",
       "  <thead>\n",
       "    <tr style=\"text-align: right;\">\n",
       "      <th></th>\n",
       "      <th>Tipo</th>\n",
       "      <th>Valor</th>\n",
       "    </tr>\n",
       "  </thead>\n",
       "  <tbody>\n",
       "    <tr>\n",
       "      <th>0</th>\n",
       "      <td>Tipo_Alimentação</td>\n",
       "      <td>16,184.72</td>\n",
       "    </tr>\n",
       "    <tr>\n",
       "      <th>1</th>\n",
       "      <td>Tipo_C&amp;L</td>\n",
       "      <td>56,519.80</td>\n",
       "    </tr>\n",
       "    <tr>\n",
       "      <th>2</th>\n",
       "      <td>Tipo_Consultorias</td>\n",
       "      <td>14,862.71</td>\n",
       "    </tr>\n",
       "    <tr>\n",
       "      <th>3</th>\n",
       "      <td>Tipo_Correios</td>\n",
       "      <td>11,229.70</td>\n",
       "    </tr>\n",
       "    <tr>\n",
       "      <th>4</th>\n",
       "      <td>Tipo_Divulgação</td>\n",
       "      <td>245,051.35</td>\n",
       "    </tr>\n",
       "    <tr>\n",
       "      <th>5</th>\n",
       "      <td>Tipo_Escritório</td>\n",
       "      <td>18,038.36</td>\n",
       "    </tr>\n",
       "    <tr>\n",
       "      <th>6</th>\n",
       "      <td>Tipo_Hospedagem</td>\n",
       "      <td>18,407.42</td>\n",
       "    </tr>\n",
       "    <tr>\n",
       "      <th>7</th>\n",
       "      <td>Tipo_Locação de Carro</td>\n",
       "      <td>68,352.24</td>\n",
       "    </tr>\n",
       "    <tr>\n",
       "      <th>8</th>\n",
       "      <td>Tipo_Passagens Aéreas</td>\n",
       "      <td>208,942.16</td>\n",
       "    </tr>\n",
       "    <tr>\n",
       "      <th>9</th>\n",
       "      <td>Tipo_S/D</td>\n",
       "      <td>21,037.71</td>\n",
       "    </tr>\n",
       "    <tr>\n",
       "      <th>10</th>\n",
       "      <td>Tipo_Taxi</td>\n",
       "      <td>22,968.30</td>\n",
       "    </tr>\n",
       "    <tr>\n",
       "      <th>11</th>\n",
       "      <td>Tipo_Telefonia</td>\n",
       "      <td>63,781.32</td>\n",
       "    </tr>\n",
       "  </tbody>\n",
       "</table>\n",
       "</div>"
      ],
      "text/plain": [
       "                     Tipo                Valor\n",
       "0        Tipo_Alimentação            16,184.72\n",
       "1                Tipo_C&L            56,519.80\n",
       "2       Tipo_Consultorias            14,862.71\n",
       "3           Tipo_Correios            11,229.70\n",
       "4         Tipo_Divulgação           245,051.35\n",
       "5         Tipo_Escritório            18,038.36\n",
       "6         Tipo_Hospedagem            18,407.42\n",
       "7   Tipo_Locação de Carro            68,352.24\n",
       "8   Tipo_Passagens Aéreas           208,942.16\n",
       "9                Tipo_S/D            21,037.71\n",
       "10              Tipo_Taxi            22,968.30\n",
       "11         Tipo_Telefonia            63,781.32"
      ]
     },
     "metadata": {},
     "output_type": "display_data"
    },
    {
     "data": {
      "text/plain": [
       "765375.79"
      ]
     },
     "execution_count": 24,
     "metadata": {},
     "output_type": "execute_result"
    }
   ],
   "source": [
    "# Predição\n",
    "# Data recover\n",
    "resultado = tabela_resultado(lr, df_2018)\n",
    "#resultado['Valor']= np.exp(resultado['Valor'])\n",
    "display(resultado)\n",
    "resultado['Valor'].sum().round(2)"
   ]
  },
  {
   "cell_type": "markdown",
   "metadata": {},
   "source": [
    "***\n",
    "### D.3 COM APLICAÇÃO DE  LOG"
   ]
  },
  {
   "cell_type": "code",
   "execution_count": 25,
   "metadata": {
    "scrolled": true
   },
   "outputs": [
    {
     "data": {
      "text/plain": [
       "'Score para train '"
      ]
     },
     "metadata": {},
     "output_type": "display_data"
    },
    {
     "data": {
      "text/plain": [
       "0.887"
      ]
     },
     "metadata": {},
     "output_type": "display_data"
    },
    {
     "data": {
      "text/plain": [
       "'Score para test '"
      ]
     },
     "metadata": {},
     "output_type": "display_data"
    },
    {
     "data": {
      "text/plain": [
       "0.8776"
      ]
     },
     "metadata": {},
     "output_type": "display_data"
    }
   ],
   "source": [
    "lrl = linear_model.LinearRegression()\n",
    "lrl.fit(Xl_train,yl_train)\n",
    "display('Score para train ', lrl.score(Xl_train,yl_train).round(4))\n",
    "display('Score para test ', lrl.score(Xl_test,yl_test).round(4))\n"
   ]
  },
  {
   "cell_type": "markdown",
   "metadata": {},
   "source": [
    "### D.4 PREDIÇÃO PARA 2018 COM LOG"
   ]
  },
  {
   "cell_type": "code",
   "execution_count": 26,
   "metadata": {
    "scrolled": false
   },
   "outputs": [
    {
     "data": {
      "text/html": [
       "<div>\n",
       "<style scoped>\n",
       "    .dataframe tbody tr th:only-of-type {\n",
       "        vertical-align: middle;\n",
       "    }\n",
       "\n",
       "    .dataframe tbody tr th {\n",
       "        vertical-align: top;\n",
       "    }\n",
       "\n",
       "    .dataframe thead th {\n",
       "        text-align: right;\n",
       "    }\n",
       "</style>\n",
       "<table border=\"1\" class=\"dataframe\">\n",
       "  <thead>\n",
       "    <tr style=\"text-align: right;\">\n",
       "      <th></th>\n",
       "      <th>Tipo</th>\n",
       "      <th>Valor</th>\n",
       "    </tr>\n",
       "  </thead>\n",
       "  <tbody>\n",
       "    <tr>\n",
       "      <th>0</th>\n",
       "      <td>Tipo_Alimentação</td>\n",
       "      <td>4,663.71</td>\n",
       "    </tr>\n",
       "    <tr>\n",
       "      <th>1</th>\n",
       "      <td>Tipo_C&amp;L</td>\n",
       "      <td>44,999.93</td>\n",
       "    </tr>\n",
       "    <tr>\n",
       "      <th>2</th>\n",
       "      <td>Tipo_Consultorias</td>\n",
       "      <td>2,506.12</td>\n",
       "    </tr>\n",
       "    <tr>\n",
       "      <th>3</th>\n",
       "      <td>Tipo_Correios</td>\n",
       "      <td>1,655.12</td>\n",
       "    </tr>\n",
       "    <tr>\n",
       "      <th>4</th>\n",
       "      <td>Tipo_Divulgação</td>\n",
       "      <td>210,784.23</td>\n",
       "    </tr>\n",
       "    <tr>\n",
       "      <th>5</th>\n",
       "      <td>Tipo_Escritório</td>\n",
       "      <td>7,870.63</td>\n",
       "    </tr>\n",
       "    <tr>\n",
       "      <th>6</th>\n",
       "      <td>Tipo_Hospedagem</td>\n",
       "      <td>10,135.18</td>\n",
       "    </tr>\n",
       "    <tr>\n",
       "      <th>7</th>\n",
       "      <td>Tipo_Locação de Carro</td>\n",
       "      <td>44,701.57</td>\n",
       "    </tr>\n",
       "    <tr>\n",
       "      <th>8</th>\n",
       "      <td>Tipo_Passagens Aéreas</td>\n",
       "      <td>212,222.09</td>\n",
       "    </tr>\n",
       "    <tr>\n",
       "      <th>9</th>\n",
       "      <td>Tipo_S/D</td>\n",
       "      <td>13,039.31</td>\n",
       "    </tr>\n",
       "    <tr>\n",
       "      <th>10</th>\n",
       "      <td>Tipo_Taxi</td>\n",
       "      <td>13,130.20</td>\n",
       "    </tr>\n",
       "    <tr>\n",
       "      <th>11</th>\n",
       "      <td>Tipo_Telefonia</td>\n",
       "      <td>695.36</td>\n",
       "    </tr>\n",
       "  </tbody>\n",
       "</table>\n",
       "</div>"
      ],
      "text/plain": [
       "                     Tipo                Valor\n",
       "0        Tipo_Alimentação             4,663.71\n",
       "1                Tipo_C&L            44,999.93\n",
       "2       Tipo_Consultorias             2,506.12\n",
       "3           Tipo_Correios             1,655.12\n",
       "4         Tipo_Divulgação           210,784.23\n",
       "5         Tipo_Escritório             7,870.63\n",
       "6         Tipo_Hospedagem            10,135.18\n",
       "7   Tipo_Locação de Carro            44,701.57\n",
       "8   Tipo_Passagens Aéreas           212,222.09\n",
       "9                Tipo_S/D            13,039.31\n",
       "10              Tipo_Taxi            13,130.20\n",
       "11         Tipo_Telefonia               695.36"
      ]
     },
     "metadata": {},
     "output_type": "display_data"
    },
    {
     "data": {
      "text/plain": [
       "566403.44"
      ]
     },
     "execution_count": 26,
     "metadata": {},
     "output_type": "execute_result"
    }
   ],
   "source": [
    "# Predição\n",
    "#tabela_resultado(lrl, df_2018)\n",
    "# Data recover\n",
    "resultado = tabela_resultado(lrl, df_2018)\n",
    "resultado['Valor']= np.exp(resultado['Valor'])\n",
    "display(resultado)\n",
    "resultado['Valor'].sum().round(2)"
   ]
  },
  {
   "cell_type": "markdown",
   "metadata": {},
   "source": [
    "***"
   ]
  },
  {
   "cell_type": "markdown",
   "metadata": {},
   "source": [
    "***\n",
    "## E. LASSO REGRESSION"
   ]
  },
  {
   "cell_type": "markdown",
   "metadata": {},
   "source": [
    "***"
   ]
  },
  {
   "cell_type": "markdown",
   "metadata": {},
   "source": [
    "### E.1 SEM APLICAÇÃO DE LOG"
   ]
  },
  {
   "cell_type": "code",
   "execution_count": 27,
   "metadata": {},
   "outputs": [
    {
     "data": {
      "text/plain": [
       "'Score para train '"
      ]
     },
     "metadata": {},
     "output_type": "display_data"
    },
    {
     "data": {
      "text/plain": [
       "0.9655"
      ]
     },
     "metadata": {},
     "output_type": "display_data"
    },
    {
     "data": {
      "text/plain": [
       "'Score para test '"
      ]
     },
     "metadata": {},
     "output_type": "display_data"
    },
    {
     "data": {
      "text/plain": [
       "0.8778"
      ]
     },
     "metadata": {},
     "output_type": "display_data"
    }
   ],
   "source": [
    "from sklearn import linear_model\n",
    "la = linear_model.Lasso(alpha = 100)\n",
    "la.fit(X_train,y_train)\n",
    "display('Score para train ', la.score(X_train,y_train).round(4))\n",
    "display('Score para test ', la.score(X_test,y_test).round(4))"
   ]
  },
  {
   "cell_type": "markdown",
   "metadata": {},
   "source": [
    "### E.2 PREDIÇÃO PARA 2018  SEM LOG"
   ]
  },
  {
   "cell_type": "code",
   "execution_count": 28,
   "metadata": {},
   "outputs": [
    {
     "data": {
      "text/html": [
       "<div>\n",
       "<style scoped>\n",
       "    .dataframe tbody tr th:only-of-type {\n",
       "        vertical-align: middle;\n",
       "    }\n",
       "\n",
       "    .dataframe tbody tr th {\n",
       "        vertical-align: top;\n",
       "    }\n",
       "\n",
       "    .dataframe thead th {\n",
       "        text-align: right;\n",
       "    }\n",
       "</style>\n",
       "<table border=\"1\" class=\"dataframe\">\n",
       "  <thead>\n",
       "    <tr style=\"text-align: right;\">\n",
       "      <th></th>\n",
       "      <th>Tipo</th>\n",
       "      <th>Valor</th>\n",
       "    </tr>\n",
       "  </thead>\n",
       "  <tbody>\n",
       "    <tr>\n",
       "      <th>0</th>\n",
       "      <td>Tipo_Alimentação</td>\n",
       "      <td>17,673.40</td>\n",
       "    </tr>\n",
       "    <tr>\n",
       "      <th>1</th>\n",
       "      <td>Tipo_C&amp;L</td>\n",
       "      <td>55,803.66</td>\n",
       "    </tr>\n",
       "    <tr>\n",
       "      <th>2</th>\n",
       "      <td>Tipo_Consultorias</td>\n",
       "      <td>16,313.97</td>\n",
       "    </tr>\n",
       "    <tr>\n",
       "      <th>3</th>\n",
       "      <td>Tipo_Correios</td>\n",
       "      <td>12,248.71</td>\n",
       "    </tr>\n",
       "    <tr>\n",
       "      <th>4</th>\n",
       "      <td>Tipo_Divulgação</td>\n",
       "      <td>242,525.51</td>\n",
       "    </tr>\n",
       "    <tr>\n",
       "      <th>5</th>\n",
       "      <td>Tipo_Escritório</td>\n",
       "      <td>19,058.78</td>\n",
       "    </tr>\n",
       "    <tr>\n",
       "      <th>6</th>\n",
       "      <td>Tipo_Hospedagem</td>\n",
       "      <td>19,428.86</td>\n",
       "    </tr>\n",
       "    <tr>\n",
       "      <th>7</th>\n",
       "      <td>Tipo_Locação de Carro</td>\n",
       "      <td>67,641.36</td>\n",
       "    </tr>\n",
       "    <tr>\n",
       "      <th>8</th>\n",
       "      <td>Tipo_Passagens Aéreas</td>\n",
       "      <td>206,498.27</td>\n",
       "    </tr>\n",
       "    <tr>\n",
       "      <th>9</th>\n",
       "      <td>Tipo_S/D</td>\n",
       "      <td>21,238.40</td>\n",
       "    </tr>\n",
       "    <tr>\n",
       "      <th>10</th>\n",
       "      <td>Tipo_Taxi</td>\n",
       "      <td>22,258.72</td>\n",
       "    </tr>\n",
       "    <tr>\n",
       "      <th>11</th>\n",
       "      <td>Tipo_Telefonia</td>\n",
       "      <td>21,238.40</td>\n",
       "    </tr>\n",
       "  </tbody>\n",
       "</table>\n",
       "</div>"
      ],
      "text/plain": [
       "                     Tipo                Valor\n",
       "0        Tipo_Alimentação            17,673.40\n",
       "1                Tipo_C&L            55,803.66\n",
       "2       Tipo_Consultorias            16,313.97\n",
       "3           Tipo_Correios            12,248.71\n",
       "4         Tipo_Divulgação           242,525.51\n",
       "5         Tipo_Escritório            19,058.78\n",
       "6         Tipo_Hospedagem            19,428.86\n",
       "7   Tipo_Locação de Carro            67,641.36\n",
       "8   Tipo_Passagens Aéreas           206,498.27\n",
       "9                Tipo_S/D            21,238.40\n",
       "10              Tipo_Taxi            22,258.72\n",
       "11         Tipo_Telefonia            21,238.40"
      ]
     },
     "metadata": {},
     "output_type": "display_data"
    },
    {
     "data": {
      "text/plain": [
       "721928.04"
      ]
     },
     "execution_count": 28,
     "metadata": {},
     "output_type": "execute_result"
    }
   ],
   "source": [
    "resultado = tabela_resultado(la, df_2018)\n",
    "#resultado['Valor']= np.exp(resultado['Valor'])\n",
    "display(resultado)\n",
    "resultado['Valor'].sum().round(2)"
   ]
  },
  {
   "cell_type": "markdown",
   "metadata": {},
   "source": [
    "***"
   ]
  },
  {
   "cell_type": "markdown",
   "metadata": {},
   "source": [
    "### E.3 COM APLICAÇÃO DE LOG"
   ]
  },
  {
   "cell_type": "code",
   "execution_count": 29,
   "metadata": {
    "scrolled": true
   },
   "outputs": [
    {
     "data": {
      "text/plain": [
       "'Score para train '"
      ]
     },
     "metadata": {},
     "output_type": "display_data"
    },
    {
     "data": {
      "text/plain": [
       "0.0"
      ]
     },
     "metadata": {},
     "output_type": "display_data"
    },
    {
     "data": {
      "text/plain": [
       "'Score para test '"
      ]
     },
     "metadata": {},
     "output_type": "display_data"
    },
    {
     "data": {
      "text/plain": [
       "-0.0378"
      ]
     },
     "metadata": {},
     "output_type": "display_data"
    }
   ],
   "source": [
    "from sklearn import linear_model\n",
    "lal = linear_model.Lasso(alpha = 100)\n",
    "lal.fit(Xl_train,yl_train)\n",
    "display('Score para train ', lal.score(Xl_train,yl_train).round(4))\n",
    "display('Score para test ', lal.score(Xl_test,yl_test).round(4))"
   ]
  },
  {
   "cell_type": "markdown",
   "metadata": {},
   "source": [
    "### E.4 PREDIÇÃO PARA 2018 COM LOG"
   ]
  },
  {
   "cell_type": "code",
   "execution_count": 30,
   "metadata": {},
   "outputs": [
    {
     "data": {
      "text/html": [
       "<div>\n",
       "<style scoped>\n",
       "    .dataframe tbody tr th:only-of-type {\n",
       "        vertical-align: middle;\n",
       "    }\n",
       "\n",
       "    .dataframe tbody tr th {\n",
       "        vertical-align: top;\n",
       "    }\n",
       "\n",
       "    .dataframe thead th {\n",
       "        text-align: right;\n",
       "    }\n",
       "</style>\n",
       "<table border=\"1\" class=\"dataframe\">\n",
       "  <thead>\n",
       "    <tr style=\"text-align: right;\">\n",
       "      <th></th>\n",
       "      <th>Tipo</th>\n",
       "      <th>Valor</th>\n",
       "    </tr>\n",
       "  </thead>\n",
       "  <tbody>\n",
       "    <tr>\n",
       "      <th>0</th>\n",
       "      <td>Tipo_Alimentação</td>\n",
       "      <td>14,871.24</td>\n",
       "    </tr>\n",
       "    <tr>\n",
       "      <th>1</th>\n",
       "      <td>Tipo_C&amp;L</td>\n",
       "      <td>14,871.24</td>\n",
       "    </tr>\n",
       "    <tr>\n",
       "      <th>2</th>\n",
       "      <td>Tipo_Consultorias</td>\n",
       "      <td>14,871.24</td>\n",
       "    </tr>\n",
       "    <tr>\n",
       "      <th>3</th>\n",
       "      <td>Tipo_Correios</td>\n",
       "      <td>14,871.24</td>\n",
       "    </tr>\n",
       "    <tr>\n",
       "      <th>4</th>\n",
       "      <td>Tipo_Divulgação</td>\n",
       "      <td>14,871.24</td>\n",
       "    </tr>\n",
       "    <tr>\n",
       "      <th>5</th>\n",
       "      <td>Tipo_Escritório</td>\n",
       "      <td>14,871.24</td>\n",
       "    </tr>\n",
       "    <tr>\n",
       "      <th>6</th>\n",
       "      <td>Tipo_Hospedagem</td>\n",
       "      <td>14,871.24</td>\n",
       "    </tr>\n",
       "    <tr>\n",
       "      <th>7</th>\n",
       "      <td>Tipo_Locação de Carro</td>\n",
       "      <td>14,871.24</td>\n",
       "    </tr>\n",
       "    <tr>\n",
       "      <th>8</th>\n",
       "      <td>Tipo_Passagens Aéreas</td>\n",
       "      <td>14,871.24</td>\n",
       "    </tr>\n",
       "    <tr>\n",
       "      <th>9</th>\n",
       "      <td>Tipo_S/D</td>\n",
       "      <td>14,871.24</td>\n",
       "    </tr>\n",
       "    <tr>\n",
       "      <th>10</th>\n",
       "      <td>Tipo_Taxi</td>\n",
       "      <td>14,871.24</td>\n",
       "    </tr>\n",
       "    <tr>\n",
       "      <th>11</th>\n",
       "      <td>Tipo_Telefonia</td>\n",
       "      <td>14,871.24</td>\n",
       "    </tr>\n",
       "  </tbody>\n",
       "</table>\n",
       "</div>"
      ],
      "text/plain": [
       "                     Tipo                Valor\n",
       "0        Tipo_Alimentação            14,871.24\n",
       "1                Tipo_C&L            14,871.24\n",
       "2       Tipo_Consultorias            14,871.24\n",
       "3           Tipo_Correios            14,871.24\n",
       "4         Tipo_Divulgação            14,871.24\n",
       "5         Tipo_Escritório            14,871.24\n",
       "6         Tipo_Hospedagem            14,871.24\n",
       "7   Tipo_Locação de Carro            14,871.24\n",
       "8   Tipo_Passagens Aéreas            14,871.24\n",
       "9                Tipo_S/D            14,871.24\n",
       "10              Tipo_Taxi            14,871.24\n",
       "11         Tipo_Telefonia            14,871.24"
      ]
     },
     "metadata": {},
     "output_type": "display_data"
    },
    {
     "data": {
      "text/plain": [
       "178454.92"
      ]
     },
     "execution_count": 30,
     "metadata": {},
     "output_type": "execute_result"
    }
   ],
   "source": [
    "resultado = tabela_resultado(lal, df_2018)\n",
    "resultado['Valor']= np.exp(resultado['Valor'])\n",
    "display(resultado)\n",
    "resultado['Valor'].sum().round(2)"
   ]
  },
  {
   "cell_type": "markdown",
   "metadata": {},
   "source": [
    "***"
   ]
  },
  {
   "cell_type": "markdown",
   "metadata": {},
   "source": [
    "***"
   ]
  },
  {
   "cell_type": "markdown",
   "metadata": {},
   "source": [
    "## F. LARS LASSO"
   ]
  },
  {
   "cell_type": "markdown",
   "metadata": {},
   "source": [
    "### F.1 SEM APLICAÇÃO DE LOG"
   ]
  },
  {
   "cell_type": "code",
   "execution_count": 31,
   "metadata": {},
   "outputs": [
    {
     "data": {
      "text/plain": [
       "'Score para train '"
      ]
     },
     "metadata": {},
     "output_type": "display_data"
    },
    {
     "data": {
      "text/plain": [
       "0.9659"
      ]
     },
     "metadata": {},
     "output_type": "display_data"
    },
    {
     "data": {
      "text/plain": [
       "'Score para test '"
      ]
     },
     "metadata": {},
     "output_type": "display_data"
    },
    {
     "data": {
      "text/plain": [
       "0.8783"
      ]
     },
     "metadata": {},
     "output_type": "display_data"
    }
   ],
   "source": [
    "from sklearn import linear_model\n",
    "ll = linear_model.LassoLars(alpha=.1)\n",
    "ll.fit(X_train,y_train)\n",
    "display('Score para train ', ll.score(X_train,y_train).round(4))\n",
    "display('Score para test ', ll.score(X_test,y_test).round(4))"
   ]
  },
  {
   "cell_type": "markdown",
   "metadata": {},
   "source": [
    "### F.2 PREDIÇÃO PARA 2018 SEM LOG"
   ]
  },
  {
   "cell_type": "code",
   "execution_count": 32,
   "metadata": {
    "scrolled": false
   },
   "outputs": [
    {
     "data": {
      "text/html": [
       "<div>\n",
       "<style scoped>\n",
       "    .dataframe tbody tr th:only-of-type {\n",
       "        vertical-align: middle;\n",
       "    }\n",
       "\n",
       "    .dataframe tbody tr th {\n",
       "        vertical-align: top;\n",
       "    }\n",
       "\n",
       "    .dataframe thead th {\n",
       "        text-align: right;\n",
       "    }\n",
       "</style>\n",
       "<table border=\"1\" class=\"dataframe\">\n",
       "  <thead>\n",
       "    <tr style=\"text-align: right;\">\n",
       "      <th></th>\n",
       "      <th>Tipo</th>\n",
       "      <th>Valor</th>\n",
       "    </tr>\n",
       "  </thead>\n",
       "  <tbody>\n",
       "    <tr>\n",
       "      <th>0</th>\n",
       "      <td>Tipo_Alimentação</td>\n",
       "      <td>16,185.47</td>\n",
       "    </tr>\n",
       "    <tr>\n",
       "      <th>1</th>\n",
       "      <td>Tipo_C&amp;L</td>\n",
       "      <td>56,517.58</td>\n",
       "    </tr>\n",
       "    <tr>\n",
       "      <th>2</th>\n",
       "      <td>Tipo_Consultorias</td>\n",
       "      <td>14,863.66</td>\n",
       "    </tr>\n",
       "    <tr>\n",
       "      <th>3</th>\n",
       "      <td>Tipo_Correios</td>\n",
       "      <td>11,230.30</td>\n",
       "    </tr>\n",
       "    <tr>\n",
       "      <th>4</th>\n",
       "      <td>Tipo_Divulgação</td>\n",
       "      <td>245,048.40</td>\n",
       "    </tr>\n",
       "    <tr>\n",
       "      <th>5</th>\n",
       "      <td>Tipo_Escritório</td>\n",
       "      <td>18,038.96</td>\n",
       "    </tr>\n",
       "    <tr>\n",
       "      <th>6</th>\n",
       "      <td>Tipo_Hospedagem</td>\n",
       "      <td>18,408.02</td>\n",
       "    </tr>\n",
       "    <tr>\n",
       "      <th>7</th>\n",
       "      <td>Tipo_Locação de Carro</td>\n",
       "      <td>68,350.02</td>\n",
       "    </tr>\n",
       "    <tr>\n",
       "      <th>8</th>\n",
       "      <td>Tipo_Passagens Aéreas</td>\n",
       "      <td>208,938.79</td>\n",
       "    </tr>\n",
       "    <tr>\n",
       "      <th>9</th>\n",
       "      <td>Tipo_S/D</td>\n",
       "      <td>21,035.91</td>\n",
       "    </tr>\n",
       "    <tr>\n",
       "      <th>10</th>\n",
       "      <td>Tipo_Taxi</td>\n",
       "      <td>22,966.08</td>\n",
       "    </tr>\n",
       "    <tr>\n",
       "      <th>11</th>\n",
       "      <td>Tipo_Telefonia</td>\n",
       "      <td>21,035.91</td>\n",
       "    </tr>\n",
       "  </tbody>\n",
       "</table>\n",
       "</div>"
      ],
      "text/plain": [
       "                     Tipo                Valor\n",
       "0        Tipo_Alimentação            16,185.47\n",
       "1                Tipo_C&L            56,517.58\n",
       "2       Tipo_Consultorias            14,863.66\n",
       "3           Tipo_Correios            11,230.30\n",
       "4         Tipo_Divulgação           245,048.40\n",
       "5         Tipo_Escritório            18,038.96\n",
       "6         Tipo_Hospedagem            18,408.02\n",
       "7   Tipo_Locação de Carro            68,350.02\n",
       "8   Tipo_Passagens Aéreas           208,938.79\n",
       "9                Tipo_S/D            21,035.91\n",
       "10              Tipo_Taxi            22,966.08\n",
       "11         Tipo_Telefonia            21,035.91"
      ]
     },
     "metadata": {},
     "output_type": "display_data"
    },
    {
     "data": {
      "text/plain": [
       "722619.08"
      ]
     },
     "execution_count": 32,
     "metadata": {},
     "output_type": "execute_result"
    }
   ],
   "source": [
    "resultado = tabela_resultado(ll, df_2018)\n",
    "#resultado['Valor']= np.exp(resultado['Valor'])\n",
    "display(resultado)\n",
    "resultado['Valor'].sum().round(2)"
   ]
  },
  {
   "cell_type": "markdown",
   "metadata": {},
   "source": [
    "### F.3 COM APLICAÇÃO DE LOG"
   ]
  },
  {
   "cell_type": "code",
   "execution_count": 33,
   "metadata": {
    "scrolled": true
   },
   "outputs": [
    {
     "data": {
      "text/plain": [
       "'Score para train '"
      ]
     },
     "metadata": {},
     "output_type": "display_data"
    },
    {
     "data": {
      "text/plain": [
       "0.2278"
      ]
     },
     "metadata": {},
     "output_type": "display_data"
    },
    {
     "data": {
      "text/plain": [
       "'Score para test '"
      ]
     },
     "metadata": {},
     "output_type": "display_data"
    },
    {
     "data": {
      "text/plain": [
       "0.1989"
      ]
     },
     "metadata": {},
     "output_type": "display_data"
    }
   ],
   "source": [
    "from sklearn import linear_model\n",
    "lll = linear_model.LassoLars(alpha=.1)\n",
    "lll.fit(Xl_train,yl_train)\n",
    "display('Score para train ', lll.score(Xl_train,yl_train).round(4))\n",
    "display('Score para test ', lll.score(Xl_test,yl_test).round(4))"
   ]
  },
  {
   "cell_type": "markdown",
   "metadata": {},
   "source": [
    "### F.4 PREDIÇÃO PARA 2018 COM LOG"
   ]
  },
  {
   "cell_type": "code",
   "execution_count": 34,
   "metadata": {
    "scrolled": false
   },
   "outputs": [
    {
     "data": {
      "text/html": [
       "<div>\n",
       "<style scoped>\n",
       "    .dataframe tbody tr th:only-of-type {\n",
       "        vertical-align: middle;\n",
       "    }\n",
       "\n",
       "    .dataframe tbody tr th {\n",
       "        vertical-align: top;\n",
       "    }\n",
       "\n",
       "    .dataframe thead th {\n",
       "        text-align: right;\n",
       "    }\n",
       "</style>\n",
       "<table border=\"1\" class=\"dataframe\">\n",
       "  <thead>\n",
       "    <tr style=\"text-align: right;\">\n",
       "      <th></th>\n",
       "      <th>Tipo</th>\n",
       "      <th>Valor</th>\n",
       "    </tr>\n",
       "  </thead>\n",
       "  <tbody>\n",
       "    <tr>\n",
       "      <th>0</th>\n",
       "      <td>Tipo_Alimentação</td>\n",
       "      <td>14,240.68</td>\n",
       "    </tr>\n",
       "    <tr>\n",
       "      <th>1</th>\n",
       "      <td>Tipo_C&amp;L</td>\n",
       "      <td>14,240.68</td>\n",
       "    </tr>\n",
       "    <tr>\n",
       "      <th>2</th>\n",
       "      <td>Tipo_Consultorias</td>\n",
       "      <td>14,240.68</td>\n",
       "    </tr>\n",
       "    <tr>\n",
       "      <th>3</th>\n",
       "      <td>Tipo_Correios</td>\n",
       "      <td>10,279.23</td>\n",
       "    </tr>\n",
       "    <tr>\n",
       "      <th>4</th>\n",
       "      <td>Tipo_Divulgação</td>\n",
       "      <td>38,836.37</td>\n",
       "    </tr>\n",
       "    <tr>\n",
       "      <th>5</th>\n",
       "      <td>Tipo_Escritório</td>\n",
       "      <td>14,240.68</td>\n",
       "    </tr>\n",
       "    <tr>\n",
       "      <th>6</th>\n",
       "      <td>Tipo_Hospedagem</td>\n",
       "      <td>14,240.68</td>\n",
       "    </tr>\n",
       "    <tr>\n",
       "      <th>7</th>\n",
       "      <td>Tipo_Locação de Carro</td>\n",
       "      <td>14,240.68</td>\n",
       "    </tr>\n",
       "    <tr>\n",
       "      <th>8</th>\n",
       "      <td>Tipo_Passagens Aéreas</td>\n",
       "      <td>17,082.82</td>\n",
       "    </tr>\n",
       "    <tr>\n",
       "      <th>9</th>\n",
       "      <td>Tipo_S/D</td>\n",
       "      <td>14,240.68</td>\n",
       "    </tr>\n",
       "    <tr>\n",
       "      <th>10</th>\n",
       "      <td>Tipo_Taxi</td>\n",
       "      <td>14,240.68</td>\n",
       "    </tr>\n",
       "    <tr>\n",
       "      <th>11</th>\n",
       "      <td>Tipo_Telefonia</td>\n",
       "      <td>9,450.59</td>\n",
       "    </tr>\n",
       "  </tbody>\n",
       "</table>\n",
       "</div>"
      ],
      "text/plain": [
       "                     Tipo                Valor\n",
       "0        Tipo_Alimentação            14,240.68\n",
       "1                Tipo_C&L            14,240.68\n",
       "2       Tipo_Consultorias            14,240.68\n",
       "3           Tipo_Correios            10,279.23\n",
       "4         Tipo_Divulgação            38,836.37\n",
       "5         Tipo_Escritório            14,240.68\n",
       "6         Tipo_Hospedagem            14,240.68\n",
       "7   Tipo_Locação de Carro            14,240.68\n",
       "8   Tipo_Passagens Aéreas            17,082.82\n",
       "9                Tipo_S/D            14,240.68\n",
       "10              Tipo_Taxi            14,240.68\n",
       "11         Tipo_Telefonia             9,450.59"
      ]
     },
     "metadata": {},
     "output_type": "display_data"
    },
    {
     "data": {
      "text/plain": [
       "189574.43"
      ]
     },
     "execution_count": 34,
     "metadata": {},
     "output_type": "execute_result"
    }
   ],
   "source": [
    "resultado = tabela_resultado(lll, df_2018)\n",
    "resultado['Valor']= np.exp(resultado['Valor'])\n",
    "display(resultado)\n",
    "resultado['Valor'].sum().round(2)"
   ]
  },
  {
   "cell_type": "markdown",
   "metadata": {},
   "source": [
    "***"
   ]
  },
  {
   "cell_type": "markdown",
   "metadata": {},
   "source": [
    "***"
   ]
  },
  {
   "cell_type": "markdown",
   "metadata": {},
   "source": [
    "## G. RIDGE REGRESSION"
   ]
  },
  {
   "cell_type": "markdown",
   "metadata": {},
   "source": [
    "### G.1 SEM APLICAÇÃO DE LOG"
   ]
  },
  {
   "cell_type": "code",
   "execution_count": 35,
   "metadata": {},
   "outputs": [
    {
     "data": {
      "text/plain": [
       "'Score para train '"
      ]
     },
     "metadata": {},
     "output_type": "display_data"
    },
    {
     "data": {
      "text/plain": [
       "0.8827"
      ]
     },
     "metadata": {},
     "output_type": "display_data"
    },
    {
     "data": {
      "text/plain": [
       "'Score para test '"
      ]
     },
     "metadata": {},
     "output_type": "display_data"
    },
    {
     "data": {
      "text/plain": [
       "0.6978"
      ]
     },
     "metadata": {},
     "output_type": "display_data"
    }
   ],
   "source": [
    "from sklearn import linear_model\n",
    "ri = linear_model.Ridge (alpha = .5)\n",
    "ri.fit(X_train,y_train)\n",
    "display('Score para train ', ri.score(X_train,y_train).round(4))\n",
    "display('Score para test ', ri.score(X_test,y_test).round(4))"
   ]
  },
  {
   "cell_type": "markdown",
   "metadata": {},
   "source": [
    "### G.2 PREDIÇÃO PARA 2018 SEM LOG"
   ]
  },
  {
   "cell_type": "code",
   "execution_count": 36,
   "metadata": {},
   "outputs": [
    {
     "data": {
      "text/html": [
       "<div>\n",
       "<style scoped>\n",
       "    .dataframe tbody tr th:only-of-type {\n",
       "        vertical-align: middle;\n",
       "    }\n",
       "\n",
       "    .dataframe tbody tr th {\n",
       "        vertical-align: top;\n",
       "    }\n",
       "\n",
       "    .dataframe thead th {\n",
       "        text-align: right;\n",
       "    }\n",
       "</style>\n",
       "<table border=\"1\" class=\"dataframe\">\n",
       "  <thead>\n",
       "    <tr style=\"text-align: right;\">\n",
       "      <th></th>\n",
       "      <th>Tipo</th>\n",
       "      <th>Valor</th>\n",
       "    </tr>\n",
       "  </thead>\n",
       "  <tbody>\n",
       "    <tr>\n",
       "      <th>0</th>\n",
       "      <td>Tipo_Alimentação</td>\n",
       "      <td>33,903.68</td>\n",
       "    </tr>\n",
       "    <tr>\n",
       "      <th>1</th>\n",
       "      <td>Tipo_C&amp;L</td>\n",
       "      <td>64,538.44</td>\n",
       "    </tr>\n",
       "    <tr>\n",
       "      <th>2</th>\n",
       "      <td>Tipo_Consultorias</td>\n",
       "      <td>31,271.90</td>\n",
       "    </tr>\n",
       "    <tr>\n",
       "      <th>3</th>\n",
       "      <td>Tipo_Correios</td>\n",
       "      <td>25,718.36</td>\n",
       "    </tr>\n",
       "    <tr>\n",
       "      <th>4</th>\n",
       "      <td>Tipo_Divulgação</td>\n",
       "      <td>187,799.66</td>\n",
       "    </tr>\n",
       "    <tr>\n",
       "      <th>5</th>\n",
       "      <td>Tipo_Escritório</td>\n",
       "      <td>31,554.35</td>\n",
       "    </tr>\n",
       "    <tr>\n",
       "      <th>6</th>\n",
       "      <td>Tipo_Hospedagem</td>\n",
       "      <td>31,870.69</td>\n",
       "    </tr>\n",
       "    <tr>\n",
       "      <th>7</th>\n",
       "      <td>Tipo_Locação de Carro</td>\n",
       "      <td>74,680.54</td>\n",
       "    </tr>\n",
       "    <tr>\n",
       "      <th>8</th>\n",
       "      <td>Tipo_Passagens Aéreas</td>\n",
       "      <td>166,350.46</td>\n",
       "    </tr>\n",
       "    <tr>\n",
       "      <th>9</th>\n",
       "      <td>Tipo_S/D</td>\n",
       "      <td>36,211.90</td>\n",
       "    </tr>\n",
       "    <tr>\n",
       "      <th>10</th>\n",
       "      <td>Tipo_Taxi</td>\n",
       "      <td>35,780.02</td>\n",
       "    </tr>\n",
       "    <tr>\n",
       "      <th>11</th>\n",
       "      <td>Tipo_Telefonia</td>\n",
       "      <td>65,425.45</td>\n",
       "    </tr>\n",
       "  </tbody>\n",
       "</table>\n",
       "</div>"
      ],
      "text/plain": [
       "                     Tipo                Valor\n",
       "0        Tipo_Alimentação            33,903.68\n",
       "1                Tipo_C&L            64,538.44\n",
       "2       Tipo_Consultorias            31,271.90\n",
       "3           Tipo_Correios            25,718.36\n",
       "4         Tipo_Divulgação           187,799.66\n",
       "5         Tipo_Escritório            31,554.35\n",
       "6         Tipo_Hospedagem            31,870.69\n",
       "7   Tipo_Locação de Carro            74,680.54\n",
       "8   Tipo_Passagens Aéreas           166,350.46\n",
       "9                Tipo_S/D            36,211.90\n",
       "10              Tipo_Taxi            35,780.02\n",
       "11         Tipo_Telefonia            65,425.45"
      ]
     },
     "metadata": {},
     "output_type": "display_data"
    },
    {
     "data": {
      "text/plain": [
       "785105.45"
      ]
     },
     "execution_count": 36,
     "metadata": {},
     "output_type": "execute_result"
    }
   ],
   "source": [
    "resultado = tabela_resultado(ri, df_2018)\n",
    "#resultado['Valor']= np.exp(resultado['Valor'])\n",
    "display(resultado)\n",
    "resultado['Valor'].sum().round(2)"
   ]
  },
  {
   "cell_type": "markdown",
   "metadata": {},
   "source": [
    "### G.3 COM APLICAÇÃO DE LOG"
   ]
  },
  {
   "cell_type": "code",
   "execution_count": 37,
   "metadata": {
    "scrolled": true
   },
   "outputs": [
    {
     "data": {
      "text/plain": [
       "'Score para train '"
      ]
     },
     "metadata": {},
     "output_type": "display_data"
    },
    {
     "data": {
      "text/plain": [
       "0.8362"
      ]
     },
     "metadata": {},
     "output_type": "display_data"
    },
    {
     "data": {
      "text/plain": [
       "'Score para test '"
      ]
     },
     "metadata": {},
     "output_type": "display_data"
    },
    {
     "data": {
      "text/plain": [
       "0.8155"
      ]
     },
     "metadata": {},
     "output_type": "display_data"
    }
   ],
   "source": [
    "from sklearn import linear_model\n",
    "ril = linear_model.Ridge (alpha = .5)\n",
    "ril.fit(Xl_train,yl_train)\n",
    "display('Score para train ', ril.score(Xl_train,yl_train).round(4))\n",
    "display('Score para test ', ril.score(Xl_test,yl_test).round(4))"
   ]
  },
  {
   "cell_type": "markdown",
   "metadata": {},
   "source": [
    "### G.4 PREDIÇÃO PARA 2018 COM LOG"
   ]
  },
  {
   "cell_type": "code",
   "execution_count": 38,
   "metadata": {},
   "outputs": [
    {
     "data": {
      "text/html": [
       "<div>\n",
       "<style scoped>\n",
       "    .dataframe tbody tr th:only-of-type {\n",
       "        vertical-align: middle;\n",
       "    }\n",
       "\n",
       "    .dataframe tbody tr th {\n",
       "        vertical-align: top;\n",
       "    }\n",
       "\n",
       "    .dataframe thead th {\n",
       "        text-align: right;\n",
       "    }\n",
       "</style>\n",
       "<table border=\"1\" class=\"dataframe\">\n",
       "  <thead>\n",
       "    <tr style=\"text-align: right;\">\n",
       "      <th></th>\n",
       "      <th>Tipo</th>\n",
       "      <th>Valor</th>\n",
       "    </tr>\n",
       "  </thead>\n",
       "  <tbody>\n",
       "    <tr>\n",
       "      <th>0</th>\n",
       "      <td>Tipo_Alimentação</td>\n",
       "      <td>6,178.03</td>\n",
       "    </tr>\n",
       "    <tr>\n",
       "      <th>1</th>\n",
       "      <td>Tipo_C&amp;L</td>\n",
       "      <td>40,167.01</td>\n",
       "    </tr>\n",
       "    <tr>\n",
       "      <th>2</th>\n",
       "      <td>Tipo_Consultorias</td>\n",
       "      <td>3,709.95</td>\n",
       "    </tr>\n",
       "    <tr>\n",
       "      <th>3</th>\n",
       "      <td>Tipo_Correios</td>\n",
       "      <td>2,662.13</td>\n",
       "    </tr>\n",
       "    <tr>\n",
       "      <th>4</th>\n",
       "      <td>Tipo_Divulgação</td>\n",
       "      <td>130,297.17</td>\n",
       "    </tr>\n",
       "    <tr>\n",
       "      <th>5</th>\n",
       "      <td>Tipo_Escritório</td>\n",
       "      <td>9,267.73</td>\n",
       "    </tr>\n",
       "    <tr>\n",
       "      <th>6</th>\n",
       "      <td>Tipo_Hospedagem</td>\n",
       "      <td>11,197.78</td>\n",
       "    </tr>\n",
       "    <tr>\n",
       "      <th>7</th>\n",
       "      <td>Tipo_Locação de Carro</td>\n",
       "      <td>39,938.64</td>\n",
       "    </tr>\n",
       "    <tr>\n",
       "      <th>8</th>\n",
       "      <td>Tipo_Passagens Aéreas</td>\n",
       "      <td>87,024.83</td>\n",
       "    </tr>\n",
       "    <tr>\n",
       "      <th>9</th>\n",
       "      <td>Tipo_S/D</td>\n",
       "      <td>13,891.95</td>\n",
       "    </tr>\n",
       "    <tr>\n",
       "      <th>10</th>\n",
       "      <td>Tipo_Taxi</td>\n",
       "      <td>13,974.92</td>\n",
       "    </tr>\n",
       "    <tr>\n",
       "      <th>11</th>\n",
       "      <td>Tipo_Telefonia</td>\n",
       "      <td>1,962.24</td>\n",
       "    </tr>\n",
       "  </tbody>\n",
       "</table>\n",
       "</div>"
      ],
      "text/plain": [
       "                     Tipo                Valor\n",
       "0        Tipo_Alimentação             6,178.03\n",
       "1                Tipo_C&L            40,167.01\n",
       "2       Tipo_Consultorias             3,709.95\n",
       "3           Tipo_Correios             2,662.13\n",
       "4         Tipo_Divulgação           130,297.17\n",
       "5         Tipo_Escritório             9,267.73\n",
       "6         Tipo_Hospedagem            11,197.78\n",
       "7   Tipo_Locação de Carro            39,938.64\n",
       "8   Tipo_Passagens Aéreas            87,024.83\n",
       "9                Tipo_S/D            13,891.95\n",
       "10              Tipo_Taxi            13,974.92\n",
       "11         Tipo_Telefonia             1,962.24"
      ]
     },
     "metadata": {},
     "output_type": "display_data"
    },
    {
     "data": {
      "text/plain": [
       "360272.38"
      ]
     },
     "execution_count": 38,
     "metadata": {},
     "output_type": "execute_result"
    }
   ],
   "source": [
    "resultado = tabela_resultado(ril, df_2018)\n",
    "resultado['Valor']= np.exp(resultado['Valor'])\n",
    "display(resultado)\n",
    "resultado['Valor'].sum().round(2)"
   ]
  },
  {
   "cell_type": "markdown",
   "metadata": {},
   "source": [
    "***"
   ]
  },
  {
   "cell_type": "markdown",
   "metadata": {},
   "source": [
    "***"
   ]
  },
  {
   "cell_type": "markdown",
   "metadata": {},
   "source": [
    "## H. BAYESIAN RIDGE"
   ]
  },
  {
   "cell_type": "markdown",
   "metadata": {},
   "source": [
    "### H.1 SEM APLICAÇÃO DE LOG"
   ]
  },
  {
   "cell_type": "code",
   "execution_count": 39,
   "metadata": {
    "scrolled": false
   },
   "outputs": [
    {
     "data": {
      "text/plain": [
       "'Score para train '"
      ]
     },
     "metadata": {},
     "output_type": "display_data"
    },
    {
     "data": {
      "text/plain": [
       "0.0"
      ]
     },
     "metadata": {},
     "output_type": "display_data"
    },
    {
     "data": {
      "text/plain": [
       "'Score para test '"
      ]
     },
     "metadata": {},
     "output_type": "display_data"
    },
    {
     "data": {
      "text/plain": [
       "-0.6528"
      ]
     },
     "metadata": {},
     "output_type": "display_data"
    }
   ],
   "source": [
    "br = linear_model.BayesianRidge()\n",
    "br.fit(X_train,y_train)\n",
    "display('Score para train ', br.score(X_train,y_train).round(4))\n",
    "display('Score para test ', br.score(X_test,y_test).round(4))"
   ]
  },
  {
   "cell_type": "markdown",
   "metadata": {},
   "source": [
    "### H.2 PREDIÇÃO PARA 2018 SEM LOG"
   ]
  },
  {
   "cell_type": "code",
   "execution_count": 40,
   "metadata": {},
   "outputs": [
    {
     "data": {
      "text/html": [
       "<div>\n",
       "<style scoped>\n",
       "    .dataframe tbody tr th:only-of-type {\n",
       "        vertical-align: middle;\n",
       "    }\n",
       "\n",
       "    .dataframe tbody tr th {\n",
       "        vertical-align: top;\n",
       "    }\n",
       "\n",
       "    .dataframe thead th {\n",
       "        text-align: right;\n",
       "    }\n",
       "</style>\n",
       "<table border=\"1\" class=\"dataframe\">\n",
       "  <thead>\n",
       "    <tr style=\"text-align: right;\">\n",
       "      <th></th>\n",
       "      <th>Tipo</th>\n",
       "      <th>Valor</th>\n",
       "    </tr>\n",
       "  </thead>\n",
       "  <tbody>\n",
       "    <tr>\n",
       "      <th>0</th>\n",
       "      <td>Tipo_Alimentação</td>\n",
       "      <td>35,364.65</td>\n",
       "    </tr>\n",
       "    <tr>\n",
       "      <th>1</th>\n",
       "      <td>Tipo_C&amp;L</td>\n",
       "      <td>35,364.65</td>\n",
       "    </tr>\n",
       "    <tr>\n",
       "      <th>2</th>\n",
       "      <td>Tipo_Consultorias</td>\n",
       "      <td>35,364.65</td>\n",
       "    </tr>\n",
       "    <tr>\n",
       "      <th>3</th>\n",
       "      <td>Tipo_Correios</td>\n",
       "      <td>35,364.65</td>\n",
       "    </tr>\n",
       "    <tr>\n",
       "      <th>4</th>\n",
       "      <td>Tipo_Divulgação</td>\n",
       "      <td>35,364.65</td>\n",
       "    </tr>\n",
       "    <tr>\n",
       "      <th>5</th>\n",
       "      <td>Tipo_Escritório</td>\n",
       "      <td>35,364.65</td>\n",
       "    </tr>\n",
       "    <tr>\n",
       "      <th>6</th>\n",
       "      <td>Tipo_Hospedagem</td>\n",
       "      <td>35,364.65</td>\n",
       "    </tr>\n",
       "    <tr>\n",
       "      <th>7</th>\n",
       "      <td>Tipo_Locação de Carro</td>\n",
       "      <td>35,364.65</td>\n",
       "    </tr>\n",
       "    <tr>\n",
       "      <th>8</th>\n",
       "      <td>Tipo_Passagens Aéreas</td>\n",
       "      <td>35,364.65</td>\n",
       "    </tr>\n",
       "    <tr>\n",
       "      <th>9</th>\n",
       "      <td>Tipo_S/D</td>\n",
       "      <td>35,364.65</td>\n",
       "    </tr>\n",
       "    <tr>\n",
       "      <th>10</th>\n",
       "      <td>Tipo_Taxi</td>\n",
       "      <td>35,364.65</td>\n",
       "    </tr>\n",
       "    <tr>\n",
       "      <th>11</th>\n",
       "      <td>Tipo_Telefonia</td>\n",
       "      <td>35,364.65</td>\n",
       "    </tr>\n",
       "  </tbody>\n",
       "</table>\n",
       "</div>"
      ],
      "text/plain": [
       "                     Tipo                Valor\n",
       "0        Tipo_Alimentação            35,364.65\n",
       "1                Tipo_C&L            35,364.65\n",
       "2       Tipo_Consultorias            35,364.65\n",
       "3           Tipo_Correios            35,364.65\n",
       "4         Tipo_Divulgação            35,364.65\n",
       "5         Tipo_Escritório            35,364.65\n",
       "6         Tipo_Hospedagem            35,364.65\n",
       "7   Tipo_Locação de Carro            35,364.65\n",
       "8   Tipo_Passagens Aéreas            35,364.65\n",
       "9                Tipo_S/D            35,364.65\n",
       "10              Tipo_Taxi            35,364.65\n",
       "11         Tipo_Telefonia            35,364.65"
      ]
     },
     "metadata": {},
     "output_type": "display_data"
    },
    {
     "data": {
      "text/plain": [
       "424375.78"
      ]
     },
     "execution_count": 40,
     "metadata": {},
     "output_type": "execute_result"
    }
   ],
   "source": [
    "resultado = tabela_resultado(br, df_2018)\n",
    "#resultado['Valor']= np.exp(resultado['Valor'])\n",
    "display(resultado)\n",
    "resultado['Valor'].sum().round(2)"
   ]
  },
  {
   "cell_type": "markdown",
   "metadata": {},
   "source": [
    "***"
   ]
  },
  {
   "cell_type": "markdown",
   "metadata": {},
   "source": [
    "### H.3 COM APLICAÇÃO DE LOG"
   ]
  },
  {
   "cell_type": "code",
   "execution_count": 41,
   "metadata": {
    "scrolled": false
   },
   "outputs": [
    {
     "data": {
      "text/plain": [
       "'Score para train '"
      ]
     },
     "metadata": {},
     "output_type": "display_data"
    },
    {
     "data": {
      "text/plain": [
       "0.8731"
      ]
     },
     "metadata": {},
     "output_type": "display_data"
    },
    {
     "data": {
      "text/plain": [
       "'Score para test '"
      ]
     },
     "metadata": {},
     "output_type": "display_data"
    },
    {
     "data": {
      "text/plain": [
       "0.8646"
      ]
     },
     "metadata": {},
     "output_type": "display_data"
    }
   ],
   "source": [
    "brl = linear_model.BayesianRidge()\n",
    "brl.fit(Xl_train,yl_train)\n",
    "display('Score para train ', brl.score(Xl_train,yl_train).round(4))\n",
    "display('Score para test ', brl.score(Xl_test,yl_test).round(4))"
   ]
  },
  {
   "cell_type": "markdown",
   "metadata": {},
   "source": [
    "### H.4 PREDIÇÃO PARA 2018 COM LOG"
   ]
  },
  {
   "cell_type": "code",
   "execution_count": 42,
   "metadata": {
    "scrolled": false
   },
   "outputs": [
    {
     "data": {
      "text/html": [
       "<div>\n",
       "<style scoped>\n",
       "    .dataframe tbody tr th:only-of-type {\n",
       "        vertical-align: middle;\n",
       "    }\n",
       "\n",
       "    .dataframe tbody tr th {\n",
       "        vertical-align: top;\n",
       "    }\n",
       "\n",
       "    .dataframe thead th {\n",
       "        text-align: right;\n",
       "    }\n",
       "</style>\n",
       "<table border=\"1\" class=\"dataframe\">\n",
       "  <thead>\n",
       "    <tr style=\"text-align: right;\">\n",
       "      <th></th>\n",
       "      <th>Tipo</th>\n",
       "      <th>Valor</th>\n",
       "    </tr>\n",
       "  </thead>\n",
       "  <tbody>\n",
       "    <tr>\n",
       "      <th>0</th>\n",
       "      <td>Tipo_Alimentação</td>\n",
       "      <td>5,406.45</td>\n",
       "    </tr>\n",
       "    <tr>\n",
       "      <th>1</th>\n",
       "      <td>Tipo_C&amp;L</td>\n",
       "      <td>42,910.89</td>\n",
       "    </tr>\n",
       "    <tr>\n",
       "      <th>2</th>\n",
       "      <td>Tipo_Consultorias</td>\n",
       "      <td>3,063.34</td>\n",
       "    </tr>\n",
       "    <tr>\n",
       "      <th>3</th>\n",
       "      <td>Tipo_Correios</td>\n",
       "      <td>2,108.37</td>\n",
       "    </tr>\n",
       "    <tr>\n",
       "      <th>4</th>\n",
       "      <td>Tipo_Divulgação</td>\n",
       "      <td>167,246.61</td>\n",
       "    </tr>\n",
       "    <tr>\n",
       "      <th>5</th>\n",
       "      <td>Tipo_Escritório</td>\n",
       "      <td>8,585.31</td>\n",
       "    </tr>\n",
       "    <tr>\n",
       "      <th>6</th>\n",
       "      <td>Tipo_Hospedagem</td>\n",
       "      <td>10,686.34</td>\n",
       "    </tr>\n",
       "    <tr>\n",
       "      <th>7</th>\n",
       "      <td>Tipo_Locação de Carro</td>\n",
       "      <td>42,645.84</td>\n",
       "    </tr>\n",
       "    <tr>\n",
       "      <th>8</th>\n",
       "      <td>Tipo_Passagens Aéreas</td>\n",
       "      <td>130,515.77</td>\n",
       "    </tr>\n",
       "    <tr>\n",
       "      <th>9</th>\n",
       "      <td>Tipo_S/D</td>\n",
       "      <td>13,536.73</td>\n",
       "    </tr>\n",
       "    <tr>\n",
       "      <th>10</th>\n",
       "      <td>Tipo_Taxi</td>\n",
       "      <td>13,624.60</td>\n",
       "    </tr>\n",
       "    <tr>\n",
       "      <th>11</th>\n",
       "      <td>Tipo_Telefonia</td>\n",
       "      <td>1,223.68</td>\n",
       "    </tr>\n",
       "  </tbody>\n",
       "</table>\n",
       "</div>"
      ],
      "text/plain": [
       "                     Tipo                Valor\n",
       "0        Tipo_Alimentação             5,406.45\n",
       "1                Tipo_C&L            42,910.89\n",
       "2       Tipo_Consultorias             3,063.34\n",
       "3           Tipo_Correios             2,108.37\n",
       "4         Tipo_Divulgação           167,246.61\n",
       "5         Tipo_Escritório             8,585.31\n",
       "6         Tipo_Hospedagem            10,686.34\n",
       "7   Tipo_Locação de Carro            42,645.84\n",
       "8   Tipo_Passagens Aéreas           130,515.77\n",
       "9                Tipo_S/D            13,536.73\n",
       "10              Tipo_Taxi            13,624.60\n",
       "11         Tipo_Telefonia             1,223.68"
      ]
     },
     "metadata": {},
     "output_type": "display_data"
    },
    {
     "data": {
      "text/plain": [
       "441553.92"
      ]
     },
     "execution_count": 42,
     "metadata": {},
     "output_type": "execute_result"
    }
   ],
   "source": [
    "resultado = tabela_resultado(brl, df_2018)\n",
    "resultado['Valor']= np.exp(resultado['Valor'])\n",
    "display(resultado)\n",
    "resultado['Valor'].sum().round(2)"
   ]
  },
  {
   "cell_type": "markdown",
   "metadata": {},
   "source": [
    "Referências:\n",
    "> 1. https://www.analyticsvidhya.com/blog/2016/07/practical-guide-data-preprocessing-python-scikit-learn/\n",
    "> 2.  https://chrisalbon.com/machine_learning/preprocessing_structured_data/preprocessing_categorical_features/\n",
    "> 3. https://www.packtpub.com/mapt/book/big_data_and_business_intelligence/9781787286382/2/ch02lvl1sec23/working-with-categorical-variables\n",
    "> 4. http://scikit-learn.org/stable/auto_examples/linear_model/plot_ols.html\n",
    "> 5. http://scikit-learn.org/stable/auto_examples/plot_cv_predict.html#sphx-glr-auto-examples-plot-cv-predict-py\n",
    "> 6. http://fastml.com/how-to-use-pd-dot-get-dummies-with-the-test-set/\n",
    "> 7. Scikit-learn Cookbook - Second Edition - Julian Avila, Trent Hauck - November 2017 - https://www.packtpub.com/mapt/book/all_books/9781787286382\n",
    "> 8. scikit-learn : Machine Learning Simplified - Raúl Garreta, Guillermo Moncecchi, Trent Hauck, Gavin Hackeling - November 2017 - https://www.packtpub.com/mapt/book/all_books/9781788833479\n",
    "> 9. Mastering Machine Learning with scikit-learn - Second Edition - Gavin Hackeling - July 2017 - https://www.packtpub.com/mapt/book/all_books/9781788299879\n",
    "> \n",
    "> \n",
    "> \n",
    "> \n",
    "> \n",
    "> \n",
    "> \n",
    "> \n",
    "> \n",
    "> \n",
    "> \n",
    "> \n",
    "> \n",
    "> "
   ]
  }
 ],
 "metadata": {
  "kernelspec": {
   "display_name": "Python 3",
   "language": "python",
   "name": "python3"
  },
  "language_info": {
   "codemirror_mode": {
    "name": "ipython",
    "version": 3
   },
   "file_extension": ".py",
   "mimetype": "text/x-python",
   "name": "python",
   "nbconvert_exporter": "python",
   "pygments_lexer": "ipython3",
   "version": "3.6.5"
  }
 },
 "nbformat": 4,
 "nbformat_minor": 2
}
