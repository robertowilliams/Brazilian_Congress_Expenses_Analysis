{
 "cells": [
  {
   "cell_type": "markdown",
   "metadata": {},
   "source": [
    "# **Machine Learning Nanodegree**\n",
    "\n",
    "## **Projeto Final**\n",
    "\n",
    "## **Análise Preditiva de Cota para Exercício Parlamentar. (CEAP)**\n",
    "\n",
    "## ** PARTE 3 - Predição de Dados**\n",
    "\n",
    "***"
   ]
  },
  {
   "cell_type": "markdown",
   "metadata": {},
   "source": [
    "#### ** Introdução **\n",
    "\n",
    "Realizaremos uma análise preditiva dos gastos para o ano de 2018 utilizando-se de algoritmo de aprendizado supervisionado. Abaixo está ilustrado quais análise serão realizadas.\n",
    "\n",
    "É importante ressaltar que um deputado, salvo reeleição, terá registro de apenas quatros anos de despezas da CEAP. O que acaba sendo relativamente poucos dados os três primeiros anos para previsão dos gastos do último ano do mandato. Esta característica do dataset pode causar overfitting e ter impactos negativos com outliers.\n",
    "\n",
    "Para contornar este problema devemos buscar utilizar algoritmos de menor complexidade, co menor número de parâmetros.\n",
    "Tendo em vista estes desafios iremos utilizar dois tipos de lagoritmo:\n",
    "> 1. Naive Bayes.\n",
    "> 2. SVM.\n",
    "\n",
    "Estes são os três deputados top 3 definidos na Análise Exploratória\n",
    "> 1. FRANCISCO CHAPADINHA\n",
    "> 2. DOMINGOS NETO\n",
    "> 3. ROCHA\n",
    "\n",
    "Referência: https://goo.gl/gRYnWW"
   ]
  },
  {
   "cell_type": "code",
   "execution_count": 1,
   "metadata": {},
   "outputs": [
    {
     "data": {
      "text/html": [
       "<table ><tbody><tr><td>\n",
       "<h3><b><p align='left'> Lista das análises preditivas de gastos 2018</p></b><h3></td></tr>\n",
       "<tr><td><img src = 'Analise Preditiva.png', width = 600, align = left> </td></tr>\n",
       "</tbody></table>"
      ],
      "text/plain": [
       "<IPython.core.display.HTML object>"
      ]
     },
     "metadata": {},
     "output_type": "display_data"
    }
   ],
   "source": [
    "%%html\n",
    "<table ><tbody><tr><td>\n",
    "<h3><b><p align='left'> Lista das análises preditivas de gastos 2018</p></b><h3></td></tr>\n",
    "<tr><td><img src = 'Analise Preditiva.png', width = 600, align = left> </td></tr>\n",
    "</tbody></table>"
   ]
  },
  {
   "cell_type": "markdown",
   "metadata": {},
   "source": [
    "***\n",
    "\n",
    "### **A. Importação de Biblioteca Python**\n",
    "\n",
    "#### Serão utilizadas neste projeto as seguintes bibliotecas Python:\n",
    "\n",
    "> 1. Pandas\n",
    "> 2. Numpy\n",
    "> 3. Scikit Learn\n",
    "> 4. Seaborn\n"
   ]
  },
  {
   "cell_type": "code",
   "execution_count": 19,
   "metadata": {},
   "outputs": [],
   "source": [
    "import pandas as pd\n",
    "import numpy as np\n",
    "import os\n",
    "import sklearn\n",
    "from sklearn.metrics import r2_score\n",
    "import sys\n",
    "import os\n",
    "import matplotlib.pyplot as plt\n",
    "import matplotlib.axes as axes\n",
    "import seaborn as sns\n",
    "\n",
    "# Machine learning\n",
    "\n",
    "from sklearn import linear_model\n",
    "from sklearn.cross_validation import train_test_split\n",
    "from sklearn.preprocessing import OneHotEncoder\n",
    "\n",
    "from sklearn.linear_model import Ridge\n",
    "\n",
    "\n",
    "# definindo que a execução do código na linha de baixo.\n",
    "%matplotlib inline\n",
    "\n",
    "# Ajustando globalmente o impedimento de notação científica\n",
    "pd.options.display.float_format = '{:20,.2f}'.format"
   ]
  },
  {
   "cell_type": "markdown",
   "metadata": {},
   "source": [
    "***\n",
    "\n",
    "### **B. Preparação de Dataset**\n"
   ]
  },
  {
   "cell_type": "markdown",
   "metadata": {},
   "source": [
    "#### B.1 Importando o dataset"
   ]
  },
  {
   "cell_type": "code",
   "execution_count": 3,
   "metadata": {
    "scrolled": false
   },
   "outputs": [
    {
     "data": {
      "text/plain": [
       "['Ano-2015.csv',\n",
       " 'Ano-2016.csv',\n",
       " 'Ano-2017.csv',\n",
       " 'dataset_analise.numbers',\n",
       " 'df_dom_trienio.csv',\n",
       " 'df_fco_trienio.csv',\n",
       " 'df_roc_trienio.csv',\n",
       " 'df_trienio_limpo.csv']"
      ]
     },
     "metadata": {},
     "output_type": "display_data"
    }
   ],
   "source": [
    "display(os.listdir('dataset'))"
   ]
  },
  {
   "cell_type": "code",
   "execution_count": 4,
   "metadata": {
    "scrolled": false
   },
   "outputs": [],
   "source": [
    "# importando o dataset limpo dos três deputados\n",
    "df = pd.read_csv('dataset/df_trienio_limpo.csv', sep = ';', encoding='latin1')\n"
   ]
  },
  {
   "cell_type": "code",
   "execution_count": 5,
   "metadata": {},
   "outputs": [
    {
     "data": {
      "text/html": [
       "<div>\n",
       "<style scoped>\n",
       "    .dataframe tbody tr th:only-of-type {\n",
       "        vertical-align: middle;\n",
       "    }\n",
       "\n",
       "    .dataframe tbody tr th {\n",
       "        vertical-align: top;\n",
       "    }\n",
       "\n",
       "    .dataframe thead th {\n",
       "        text-align: right;\n",
       "    }\n",
       "</style>\n",
       "<table border=\"1\" class=\"dataframe\">\n",
       "  <thead>\n",
       "    <tr style=\"text-align: right;\">\n",
       "      <th></th>\n",
       "      <th>Nome</th>\n",
       "      <th>UF</th>\n",
       "      <th>Partido</th>\n",
       "      <th>Tipo</th>\n",
       "      <th>Valor</th>\n",
       "      <th>Ano</th>\n",
       "      <th>Mes</th>\n",
       "    </tr>\n",
       "  </thead>\n",
       "  <tbody>\n",
       "    <tr>\n",
       "      <th>0</th>\n",
       "      <td>ABEL MESQUITA JR.</td>\n",
       "      <td>RR</td>\n",
       "      <td>DEM</td>\n",
       "      <td>Escritório</td>\n",
       "      <td>165.65</td>\n",
       "      <td>2015</td>\n",
       "      <td>11</td>\n",
       "    </tr>\n",
       "  </tbody>\n",
       "</table>\n",
       "</div>"
      ],
      "text/plain": [
       "                Nome  UF Partido        Tipo                Valor   Ano  Mes\n",
       "0  ABEL MESQUITA JR.  RR     DEM  Escritório               165.65  2015   11"
      ]
     },
     "execution_count": 5,
     "metadata": {},
     "output_type": "execute_result"
    }
   ],
   "source": [
    "df.head(1)"
   ]
  },
  {
   "cell_type": "markdown",
   "metadata": {},
   "source": [
    "#### B.2 Removendo os features Partido e UF."
   ]
  },
  {
   "cell_type": "code",
   "execution_count": 6,
   "metadata": {
    "scrolled": true
   },
   "outputs": [],
   "source": [
    "# Removendo colunas UF, Partido e mês.\n",
    "df.pop('UF')\n",
    "z = df.pop('Partido')\n"
   ]
  },
  {
   "cell_type": "code",
   "execution_count": 7,
   "metadata": {},
   "outputs": [
    {
     "data": {
      "text/html": [
       "<div>\n",
       "<style scoped>\n",
       "    .dataframe tbody tr th:only-of-type {\n",
       "        vertical-align: middle;\n",
       "    }\n",
       "\n",
       "    .dataframe tbody tr th {\n",
       "        vertical-align: top;\n",
       "    }\n",
       "\n",
       "    .dataframe thead th {\n",
       "        text-align: right;\n",
       "    }\n",
       "</style>\n",
       "<table border=\"1\" class=\"dataframe\">\n",
       "  <thead>\n",
       "    <tr style=\"text-align: right;\">\n",
       "      <th></th>\n",
       "      <th>Nome</th>\n",
       "      <th>Tipo</th>\n",
       "      <th>Valor</th>\n",
       "      <th>Ano</th>\n",
       "      <th>Mes</th>\n",
       "    </tr>\n",
       "  </thead>\n",
       "  <tbody>\n",
       "    <tr>\n",
       "      <th>0</th>\n",
       "      <td>ABEL MESQUITA JR.</td>\n",
       "      <td>Escritório</td>\n",
       "      <td>165.65</td>\n",
       "      <td>2015</td>\n",
       "      <td>11</td>\n",
       "    </tr>\n",
       "    <tr>\n",
       "      <th>1</th>\n",
       "      <td>ABEL MESQUITA JR.</td>\n",
       "      <td>Escritório</td>\n",
       "      <td>59.48</td>\n",
       "      <td>2015</td>\n",
       "      <td>12</td>\n",
       "    </tr>\n",
       "    <tr>\n",
       "      <th>2</th>\n",
       "      <td>ABEL MESQUITA JR.</td>\n",
       "      <td>Escritório</td>\n",
       "      <td>130.95</td>\n",
       "      <td>2015</td>\n",
       "      <td>11</td>\n",
       "    </tr>\n",
       "    <tr>\n",
       "      <th>3</th>\n",
       "      <td>ABEL MESQUITA JR.</td>\n",
       "      <td>Escritório</td>\n",
       "      <td>196.53</td>\n",
       "      <td>2015</td>\n",
       "      <td>12</td>\n",
       "    </tr>\n",
       "    <tr>\n",
       "      <th>4</th>\n",
       "      <td>ABEL MESQUITA JR.</td>\n",
       "      <td>Escritório</td>\n",
       "      <td>310.25</td>\n",
       "      <td>2015</td>\n",
       "      <td>2</td>\n",
       "    </tr>\n",
       "  </tbody>\n",
       "</table>\n",
       "</div>"
      ],
      "text/plain": [
       "                Nome        Tipo                Valor   Ano  Mes\n",
       "0  ABEL MESQUITA JR.  Escritório               165.65  2015   11\n",
       "1  ABEL MESQUITA JR.  Escritório                59.48  2015   12\n",
       "2  ABEL MESQUITA JR.  Escritório               130.95  2015   11\n",
       "3  ABEL MESQUITA JR.  Escritório               196.53  2015   12\n",
       "4  ABEL MESQUITA JR.  Escritório               310.25  2015    2"
      ]
     },
     "execution_count": 7,
     "metadata": {},
     "output_type": "execute_result"
    }
   ],
   "source": [
    "df.head()"
   ]
  },
  {
   "cell_type": "markdown",
   "metadata": {},
   "source": [
    "#### B.3 Filtrando o dataset para reter apenas os deputados Top 3."
   ]
  },
  {
   "cell_type": "code",
   "execution_count": 8,
   "metadata": {},
   "outputs": [],
   "source": [
    "# filtrando o datafra,e para conter apenas os top 3 deputad\n",
    "df = df[df.Nome.isin(['FRANCISCO CHAPADINHA', 'DOMINGOS NETO' , 'ROCHA'])]"
   ]
  },
  {
   "cell_type": "code",
   "execution_count": 9,
   "metadata": {
    "scrolled": true
   },
   "outputs": [
    {
     "data": {
      "text/html": [
       "<div>\n",
       "<style scoped>\n",
       "    .dataframe tbody tr th:only-of-type {\n",
       "        vertical-align: middle;\n",
       "    }\n",
       "\n",
       "    .dataframe tbody tr th {\n",
       "        vertical-align: top;\n",
       "    }\n",
       "\n",
       "    .dataframe thead th {\n",
       "        text-align: right;\n",
       "    }\n",
       "</style>\n",
       "<table border=\"1\" class=\"dataframe\">\n",
       "  <thead>\n",
       "    <tr style=\"text-align: right;\">\n",
       "      <th></th>\n",
       "      <th>Nome</th>\n",
       "      <th>Tipo</th>\n",
       "      <th>Valor</th>\n",
       "      <th>Ano</th>\n",
       "      <th>Mes</th>\n",
       "    </tr>\n",
       "  </thead>\n",
       "  <tbody>\n",
       "    <tr>\n",
       "      <th>95542</th>\n",
       "      <td>DOMINGOS NETO</td>\n",
       "      <td>C&amp;L</td>\n",
       "      <td>210.18</td>\n",
       "      <td>2015</td>\n",
       "      <td>10</td>\n",
       "    </tr>\n",
       "    <tr>\n",
       "      <th>95543</th>\n",
       "      <td>DOMINGOS NETO</td>\n",
       "      <td>C&amp;L</td>\n",
       "      <td>4,500.00</td>\n",
       "      <td>2015</td>\n",
       "      <td>1</td>\n",
       "    </tr>\n",
       "  </tbody>\n",
       "</table>\n",
       "</div>"
      ],
      "text/plain": [
       "                Nome Tipo                Valor   Ano  Mes\n",
       "95542  DOMINGOS NETO  C&L               210.18  2015   10\n",
       "95543  DOMINGOS NETO  C&L             4,500.00  2015    1"
      ]
     },
     "execution_count": 9,
     "metadata": {},
     "output_type": "execute_result"
    }
   ],
   "source": [
    "df.head(2)"
   ]
  },
  {
   "cell_type": "markdown",
   "metadata": {},
   "source": [
    "#### B.4 Alterando os valores do Tipo de gato para valores numéricos correspondentes."
   ]
  },
  {
   "cell_type": "markdown",
   "metadata": {},
   "source": [
    "df['Tipo'] = df['Tipo'].map({'Escritório':'1','C&L':'2',\n",
    "                             'Consultorias':'3',\n",
    "                             'Divulgação':'4',\n",
    "                             'Segurança':'5',\n",
    "                             'Passagens Aéreas':'6',\n",
    "                             'Telefonia':'7',\n",
    "                             'Correios':'8',\n",
    "                             'Alimentação':'9',\n",
    "                             'Locação de Veículo Automotor':'10',\n",
    "                             'Locação de Embarcação':'11',\n",
    "                             'Taxi, pedágio e estacionamento':'12',\n",
    "                             'Emissão Bilhete Aéreo':'6',\n",
    "                             'Hospedagem':'13',\n",
    "                             'S/D':'14'})"
   ]
  },
  {
   "cell_type": "code",
   "execution_count": 10,
   "metadata": {},
   "outputs": [
    {
     "data": {
      "text/plain": [
       "Nome      object\n",
       "Tipo      object\n",
       "Valor    float64\n",
       "Ano        int64\n",
       "Mes        int64\n",
       "dtype: object"
      ]
     },
     "execution_count": 10,
     "metadata": {},
     "output_type": "execute_result"
    }
   ],
   "source": [
    "#df['Tipo'] = df.Tipo.astype('category')\n",
    "df.dtypes"
   ]
  },
  {
   "cell_type": "code",
   "execution_count": 11,
   "metadata": {},
   "outputs": [],
   "source": [
    "df_fco = df[df['Nome'] == 'FRANCISCO CHAPADINHA']\n",
    "df_dom = df[df['Nome'] == 'DOMINGOS NETO']\n",
    "df_roc = df[df['Nome'] == 'ROCHA']"
   ]
  },
  {
   "cell_type": "code",
   "execution_count": 12,
   "metadata": {},
   "outputs": [
    {
     "data": {
      "text/html": [
       "<div>\n",
       "<style scoped>\n",
       "    .dataframe tbody tr th:only-of-type {\n",
       "        vertical-align: middle;\n",
       "    }\n",
       "\n",
       "    .dataframe tbody tr th {\n",
       "        vertical-align: top;\n",
       "    }\n",
       "\n",
       "    .dataframe thead th {\n",
       "        text-align: right;\n",
       "    }\n",
       "</style>\n",
       "<table border=\"1\" class=\"dataframe\">\n",
       "  <thead>\n",
       "    <tr style=\"text-align: right;\">\n",
       "      <th></th>\n",
       "      <th>Nome</th>\n",
       "      <th>Tipo</th>\n",
       "      <th>Valor</th>\n",
       "      <th>Ano</th>\n",
       "      <th>Mes</th>\n",
       "    </tr>\n",
       "  </thead>\n",
       "  <tbody>\n",
       "    <tr>\n",
       "      <th>133391</th>\n",
       "      <td>FRANCISCO CHAPADINHA</td>\n",
       "      <td>Escritório</td>\n",
       "      <td>4,200.00</td>\n",
       "      <td>2015</td>\n",
       "      <td>10</td>\n",
       "    </tr>\n",
       "    <tr>\n",
       "      <th>133392</th>\n",
       "      <td>FRANCISCO CHAPADINHA</td>\n",
       "      <td>Escritório</td>\n",
       "      <td>4,200.00</td>\n",
       "      <td>2015</td>\n",
       "      <td>11</td>\n",
       "    </tr>\n",
       "    <tr>\n",
       "      <th>133393</th>\n",
       "      <td>FRANCISCO CHAPADINHA</td>\n",
       "      <td>Escritório</td>\n",
       "      <td>4,200.00</td>\n",
       "      <td>2015</td>\n",
       "      <td>12</td>\n",
       "    </tr>\n",
       "    <tr>\n",
       "      <th>133394</th>\n",
       "      <td>FRANCISCO CHAPADINHA</td>\n",
       "      <td>Escritório</td>\n",
       "      <td>130.00</td>\n",
       "      <td>2015</td>\n",
       "      <td>3</td>\n",
       "    </tr>\n",
       "    <tr>\n",
       "      <th>133395</th>\n",
       "      <td>FRANCISCO CHAPADINHA</td>\n",
       "      <td>Escritório</td>\n",
       "      <td>269.15</td>\n",
       "      <td>2015</td>\n",
       "      <td>4</td>\n",
       "    </tr>\n",
       "  </tbody>\n",
       "</table>\n",
       "</div>"
      ],
      "text/plain": [
       "                        Nome        Tipo                Valor   Ano  Mes\n",
       "133391  FRANCISCO CHAPADINHA  Escritório             4,200.00  2015   10\n",
       "133392  FRANCISCO CHAPADINHA  Escritório             4,200.00  2015   11\n",
       "133393  FRANCISCO CHAPADINHA  Escritório             4,200.00  2015   12\n",
       "133394  FRANCISCO CHAPADINHA  Escritório               130.00  2015    3\n",
       "133395  FRANCISCO CHAPADINHA  Escritório               269.15  2015    4"
      ]
     },
     "execution_count": 12,
     "metadata": {},
     "output_type": "execute_result"
    }
   ],
   "source": [
    "df_fco.head()"
   ]
  },
  {
   "cell_type": "code",
   "execution_count": 13,
   "metadata": {},
   "outputs": [
    {
     "data": {
      "text/html": [
       "<div>\n",
       "<style scoped>\n",
       "    .dataframe tbody tr th:only-of-type {\n",
       "        vertical-align: middle;\n",
       "    }\n",
       "\n",
       "    .dataframe tbody tr th {\n",
       "        vertical-align: top;\n",
       "    }\n",
       "\n",
       "    .dataframe thead th {\n",
       "        text-align: right;\n",
       "    }\n",
       "</style>\n",
       "<table border=\"1\" class=\"dataframe\">\n",
       "  <thead>\n",
       "    <tr style=\"text-align: right;\">\n",
       "      <th></th>\n",
       "      <th>Nome</th>\n",
       "      <th>Tipo</th>\n",
       "      <th>Valor</th>\n",
       "      <th>Ano</th>\n",
       "      <th>Mes</th>\n",
       "    </tr>\n",
       "  </thead>\n",
       "  <tbody>\n",
       "    <tr>\n",
       "      <th>95542</th>\n",
       "      <td>DOMINGOS NETO</td>\n",
       "      <td>C&amp;L</td>\n",
       "      <td>210.18</td>\n",
       "      <td>2015</td>\n",
       "      <td>10</td>\n",
       "    </tr>\n",
       "    <tr>\n",
       "      <th>95543</th>\n",
       "      <td>DOMINGOS NETO</td>\n",
       "      <td>C&amp;L</td>\n",
       "      <td>4,500.00</td>\n",
       "      <td>2015</td>\n",
       "      <td>1</td>\n",
       "    </tr>\n",
       "    <tr>\n",
       "      <th>95544</th>\n",
       "      <td>DOMINGOS NETO</td>\n",
       "      <td>C&amp;L</td>\n",
       "      <td>4,500.00</td>\n",
       "      <td>2015</td>\n",
       "      <td>2</td>\n",
       "    </tr>\n",
       "    <tr>\n",
       "      <th>95545</th>\n",
       "      <td>DOMINGOS NETO</td>\n",
       "      <td>C&amp;L</td>\n",
       "      <td>4,500.00</td>\n",
       "      <td>2015</td>\n",
       "      <td>3</td>\n",
       "    </tr>\n",
       "    <tr>\n",
       "      <th>95546</th>\n",
       "      <td>DOMINGOS NETO</td>\n",
       "      <td>C&amp;L</td>\n",
       "      <td>194.49</td>\n",
       "      <td>2015</td>\n",
       "      <td>11</td>\n",
       "    </tr>\n",
       "  </tbody>\n",
       "</table>\n",
       "</div>"
      ],
      "text/plain": [
       "                Nome Tipo                Valor   Ano  Mes\n",
       "95542  DOMINGOS NETO  C&L               210.18  2015   10\n",
       "95543  DOMINGOS NETO  C&L             4,500.00  2015    1\n",
       "95544  DOMINGOS NETO  C&L             4,500.00  2015    2\n",
       "95545  DOMINGOS NETO  C&L             4,500.00  2015    3\n",
       "95546  DOMINGOS NETO  C&L               194.49  2015   11"
      ]
     },
     "execution_count": 13,
     "metadata": {},
     "output_type": "execute_result"
    }
   ],
   "source": [
    "df_dom.head()"
   ]
  },
  {
   "cell_type": "code",
   "execution_count": 14,
   "metadata": {},
   "outputs": [
    {
     "data": {
      "text/html": [
       "<div>\n",
       "<style scoped>\n",
       "    .dataframe tbody tr th:only-of-type {\n",
       "        vertical-align: middle;\n",
       "    }\n",
       "\n",
       "    .dataframe tbody tr th {\n",
       "        vertical-align: top;\n",
       "    }\n",
       "\n",
       "    .dataframe thead th {\n",
       "        text-align: right;\n",
       "    }\n",
       "</style>\n",
       "<table border=\"1\" class=\"dataframe\">\n",
       "  <thead>\n",
       "    <tr style=\"text-align: right;\">\n",
       "      <th></th>\n",
       "      <th>Nome</th>\n",
       "      <th>Tipo</th>\n",
       "      <th>Valor</th>\n",
       "      <th>Ano</th>\n",
       "      <th>Mes</th>\n",
       "    </tr>\n",
       "  </thead>\n",
       "  <tbody>\n",
       "    <tr>\n",
       "      <th>309472</th>\n",
       "      <td>ROCHA</td>\n",
       "      <td>Escritório</td>\n",
       "      <td>7.89</td>\n",
       "      <td>2015</td>\n",
       "      <td>11</td>\n",
       "    </tr>\n",
       "    <tr>\n",
       "      <th>309473</th>\n",
       "      <td>ROCHA</td>\n",
       "      <td>Escritório</td>\n",
       "      <td>33.80</td>\n",
       "      <td>2015</td>\n",
       "      <td>6</td>\n",
       "    </tr>\n",
       "    <tr>\n",
       "      <th>309474</th>\n",
       "      <td>ROCHA</td>\n",
       "      <td>Escritório</td>\n",
       "      <td>192.30</td>\n",
       "      <td>2015</td>\n",
       "      <td>3</td>\n",
       "    </tr>\n",
       "    <tr>\n",
       "      <th>309475</th>\n",
       "      <td>ROCHA</td>\n",
       "      <td>Escritório</td>\n",
       "      <td>262.90</td>\n",
       "      <td>2015</td>\n",
       "      <td>6</td>\n",
       "    </tr>\n",
       "    <tr>\n",
       "      <th>309476</th>\n",
       "      <td>ROCHA</td>\n",
       "      <td>Escritório</td>\n",
       "      <td>206.00</td>\n",
       "      <td>2015</td>\n",
       "      <td>8</td>\n",
       "    </tr>\n",
       "  </tbody>\n",
       "</table>\n",
       "</div>"
      ],
      "text/plain": [
       "         Nome        Tipo                Valor   Ano  Mes\n",
       "309472  ROCHA  Escritório                 7.89  2015   11\n",
       "309473  ROCHA  Escritório                33.80  2015    6\n",
       "309474  ROCHA  Escritório               192.30  2015    3\n",
       "309475  ROCHA  Escritório               262.90  2015    6\n",
       "309476  ROCHA  Escritório               206.00  2015    8"
      ]
     },
     "execution_count": 14,
     "metadata": {},
     "output_type": "execute_result"
    }
   ],
   "source": [
    "df_roc.head()"
   ]
  },
  {
   "cell_type": "markdown",
   "metadata": {},
   "source": [
    "#### B.5 Separando a coluna valor do dataframe"
   ]
  },
  {
   "cell_type": "code",
   "execution_count": 15,
   "metadata": {},
   "outputs": [],
   "source": [
    "df_x = df\n",
    "df_Y = df_x.pop('Valor')"
   ]
  },
  {
   "cell_type": "code",
   "execution_count": 16,
   "metadata": {},
   "outputs": [
    {
     "data": {
      "text/plain": [
       "95542                 210.18\n",
       "95543               4,500.00\n",
       "95544               4,500.00\n",
       "95545               4,500.00\n",
       "95546                 194.49\n",
       "Name: Valor, dtype: float64"
      ]
     },
     "execution_count": 16,
     "metadata": {},
     "output_type": "execute_result"
    }
   ],
   "source": [
    "df_Y.head()"
   ]
  },
  {
   "cell_type": "code",
   "execution_count": 17,
   "metadata": {},
   "outputs": [
    {
     "data": {
      "text/html": [
       "<div>\n",
       "<style scoped>\n",
       "    .dataframe tbody tr th:only-of-type {\n",
       "        vertical-align: middle;\n",
       "    }\n",
       "\n",
       "    .dataframe tbody tr th {\n",
       "        vertical-align: top;\n",
       "    }\n",
       "\n",
       "    .dataframe thead th {\n",
       "        text-align: right;\n",
       "    }\n",
       "</style>\n",
       "<table border=\"1\" class=\"dataframe\">\n",
       "  <thead>\n",
       "    <tr style=\"text-align: right;\">\n",
       "      <th></th>\n",
       "      <th>Nome</th>\n",
       "      <th>Tipo</th>\n",
       "      <th>Ano</th>\n",
       "      <th>Mes</th>\n",
       "    </tr>\n",
       "  </thead>\n",
       "  <tbody>\n",
       "    <tr>\n",
       "      <th>95542</th>\n",
       "      <td>DOMINGOS NETO</td>\n",
       "      <td>C&amp;L</td>\n",
       "      <td>2015</td>\n",
       "      <td>10</td>\n",
       "    </tr>\n",
       "    <tr>\n",
       "      <th>95543</th>\n",
       "      <td>DOMINGOS NETO</td>\n",
       "      <td>C&amp;L</td>\n",
       "      <td>2015</td>\n",
       "      <td>1</td>\n",
       "    </tr>\n",
       "    <tr>\n",
       "      <th>95544</th>\n",
       "      <td>DOMINGOS NETO</td>\n",
       "      <td>C&amp;L</td>\n",
       "      <td>2015</td>\n",
       "      <td>2</td>\n",
       "    </tr>\n",
       "    <tr>\n",
       "      <th>95545</th>\n",
       "      <td>DOMINGOS NETO</td>\n",
       "      <td>C&amp;L</td>\n",
       "      <td>2015</td>\n",
       "      <td>3</td>\n",
       "    </tr>\n",
       "    <tr>\n",
       "      <th>95546</th>\n",
       "      <td>DOMINGOS NETO</td>\n",
       "      <td>C&amp;L</td>\n",
       "      <td>2015</td>\n",
       "      <td>11</td>\n",
       "    </tr>\n",
       "  </tbody>\n",
       "</table>\n",
       "</div>"
      ],
      "text/plain": [
       "                Nome Tipo   Ano  Mes\n",
       "95542  DOMINGOS NETO  C&L  2015   10\n",
       "95543  DOMINGOS NETO  C&L  2015    1\n",
       "95544  DOMINGOS NETO  C&L  2015    2\n",
       "95545  DOMINGOS NETO  C&L  2015    3\n",
       "95546  DOMINGOS NETO  C&L  2015   11"
      ]
     },
     "execution_count": 17,
     "metadata": {},
     "output_type": "execute_result"
    }
   ],
   "source": [
    "df_x.head()"
   ]
  },
  {
   "cell_type": "markdown",
   "metadata": {},
   "source": [
    "#### B.6 Preprocessing o dataset"
   ]
  },
  {
   "cell_type": "code",
   "execution_count": null,
   "metadata": {},
   "outputs": [],
   "source": [
    "# Testing OHE\n",
    "\n",
    "from sklearn.linear_model import Ridge \n",
    "\n",
    "ridge_inst = Ridge() \n",
    "\n",
    "from sklearn.multioutput import MultiOutputRegressor \n",
    "\n",
    "multi_ridge = MultiOutputRegressor( ridge_inst, n_jobs =-1)\n",
    "\n",
    "\n"
   ]
  },
  {
   "cell_type": "code",
   "execution_count": 18,
   "metadata": {},
   "outputs": [
    {
     "ename": "NameError",
     "evalue": "name 'X_train_ordinal' is not defined",
     "output_type": "error",
     "traceback": [
      "\u001b[0;31m---------------------------------------------------------------------------\u001b[0m",
      "\u001b[0;31mNameError\u001b[0m                                 Traceback (most recent call last)",
      "\u001b[0;32m<ipython-input-18-63abc82c2bb2>\u001b[0m in \u001b[0;36m<module>\u001b[0;34m()\u001b[0m\n\u001b[1;32m      1\u001b[0m \u001b[0menc\u001b[0m \u001b[0;34m=\u001b[0m \u001b[0mOneHotEncoder\u001b[0m\u001b[0;34m(\u001b[0m\u001b[0mhandle_unknown\u001b[0m\u001b[0;34m=\u001b[0m\u001b[0;34m'ignore'\u001b[0m\u001b[0;34m)\u001b[0m\u001b[0;34m\u001b[0m\u001b[0m\n\u001b[1;32m      2\u001b[0m \u001b[0;34m\u001b[0m\u001b[0m\n\u001b[0;32m----> 3\u001b[0;31m \u001b[0menc\u001b[0m\u001b[0;34m.\u001b[0m\u001b[0mfit\u001b[0m\u001b[0;34m(\u001b[0m\u001b[0mX_train_ordinal\u001b[0m\u001b[0;34m)\u001b[0m\u001b[0;34m\u001b[0m\u001b[0m\n\u001b[0m\u001b[1;32m      4\u001b[0m \u001b[0;34m\u001b[0m\u001b[0m\n\u001b[1;32m      5\u001b[0m \u001b[0mX_train_one_hot\u001b[0m \u001b[0;34m=\u001b[0m \u001b[0menc\u001b[0m\u001b[0;34m.\u001b[0m\u001b[0mtransform\u001b[0m\u001b[0;34m(\u001b[0m\u001b[0mX_train_ordinal\u001b[0m\u001b[0;34m)\u001b[0m\u001b[0;34m\u001b[0m\u001b[0m\n",
      "\u001b[0;31mNameError\u001b[0m: name 'X_train_ordinal' is not defined"
     ]
    }
   ],
   "source": [
    " = OneHotEncoder(handle_unknown='ignore')\n",
    "\n",
    "enc.fit(X_train_ordinal)\n",
    "\n",
    "X_train_one_hot = enc.transform(X_train_ordinal)\n",
    "X_test_one_hot = enc.transform(X_test_ordinal)\n",
    "\n",
    "l.fit(X_train_one_hot,y_train)\n",
    "y_pred = l.predict_proba(X_test_one_hot)\n",
    "print(log_loss(y_test,y_pred))\n",
    "\n",
    "r.fit(X_train_one_hot,y_train)\n",
    "y_pred = r.predict_proba(X_test_one_hot)\n",
    "print(log_loss(y_test,y_pred))\n",
    "print(X_train_one_hot.shape)"
   ]
  },
  {
   "cell_type": "markdown",
   "metadata": {},
   "source": [
    "***\n",
    "### C. Preprocessing"
   ]
  },
  {
   "cell_type": "markdown",
   "metadata": {},
   "source": [
    "#### Transformando feature object em category."
   ]
  },
  {
   "cell_type": "code",
   "execution_count": null,
   "metadata": {},
   "outputs": [],
   "source": [
    "cat_encoder = preprocessing.OneHotEncoder() \n",
    "cat_encoder.fit_transform( y.reshape(-1,1)).toarray()[: 5] \n",
    "array([[ 1., 0., 0.], [ 1., 0., 0.], [ 1., 0., 0.], [ 1., 0., 0.], [ 1., 0., 0.]])\n",
    "\n"
   ]
  },
  {
   "cell_type": "code",
   "execution_count": null,
   "metadata": {},
   "outputs": [],
   "source": []
  },
  {
   "cell_type": "markdown",
   "metadata": {},
   "source": [
    "***\n",
    "### D. Iniciando uso de Algoritmos de Machine Learning\n"
   ]
  },
  {
   "cell_type": "markdown",
   "metadata": {},
   "source": [
    "#### REGRESSÃO LINEAR\n",
    "#### Definindo a função de regressão para variável reg"
   ]
  },
  {
   "cell_type": "code",
   "execution_count": null,
   "metadata": {},
   "outputs": [],
   "source": [
    "reg = linear_model.LinearRegression()"
   ]
  },
  {
   "cell_type": "code",
   "execution_count": null,
   "metadata": {},
   "outputs": [],
   "source": [
    "x_train, x_test, Y_train, Y_test = train_test_split(df_x, df_Y, test_size = 0.2, \\\n",
    "                                                    random_state = 4)"
   ]
  },
  {
   "cell_type": "code",
   "execution_count": null,
   "metadata": {},
   "outputs": [],
   "source": [
    "reg.fit(x_train, Y_train)\n"
   ]
  },
  {
   "cell_type": "code",
   "execution_count": null,
   "metadata": {},
   "outputs": [],
   "source": [
    "x_train.head()"
   ]
  },
  {
   "cell_type": "code",
   "execution_count": null,
   "metadata": {},
   "outputs": [],
   "source": []
  },
  {
   "cell_type": "code",
   "execution_count": null,
   "metadata": {},
   "outputs": [],
   "source": []
  },
  {
   "cell_type": "code",
   "execution_count": null,
   "metadata": {},
   "outputs": [],
   "source": []
  }
 ],
 "metadata": {
  "kernelspec": {
   "display_name": "Python 3",
   "language": "python",
   "name": "python3"
  },
  "language_info": {
   "codemirror_mode": {
    "name": "ipython",
    "version": 3
   },
   "file_extension": ".py",
   "mimetype": "text/x-python",
   "name": "python",
   "nbconvert_exporter": "python",
   "pygments_lexer": "ipython3",
   "version": "3.6.4"
  }
 },
 "nbformat": 4,
 "nbformat_minor": 2
}
