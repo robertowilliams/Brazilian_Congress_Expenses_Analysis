{
 "cells": [
  {
   "cell_type": "markdown",
   "metadata": {},
   "source": [
    "# **Machine Learning Nanodegree**\n",
    "\n",
    "## **Projeto Final**\n",
    "\n",
    "## **Análise Estatística Descritiva de Cota para Exercício Parlamentar. (CEAP)**\n",
    "\n",
    "## ** PARTE 2 - Exploração de Dados**\n",
    "\n",
    "***"
   ]
  },
  {
   "cell_type": "markdown",
   "metadata": {},
   "source": [
    "#### ** Introdução **\n",
    "\n",
    "Realizaremos uma análise exploratória através da estatística descritiva. Abaixo está ilustrado como será realizado esta análise."
   ]
  },
  {
   "cell_type": "code",
   "execution_count": 1,
   "metadata": {},
   "outputs": [
    {
     "data": {
      "text/html": [
       "<table ><tbody><tr><td>\n",
       "<h3><b><p align='left'> Lista das análises estatísticas descritivas</p></b><h3></td></tr>\n",
       "<tr><td><img src = 'Analise Descritiva.png', width = 600, align = left> </td></tr>\n",
       "</tbody></table>"
      ],
      "text/plain": [
       "<IPython.core.display.HTML object>"
      ]
     },
     "metadata": {},
     "output_type": "display_data"
    }
   ],
   "source": [
    "%%html\n",
    "<table ><tbody><tr><td>\n",
    "<h3><b><p align='left'> Lista das análises estatísticas descritivas</p></b><h3></td></tr>\n",
    "<tr><td><img src = 'Analise Descritiva.png', width = 600, align = left> </td></tr>\n",
    "</tbody></table>"
   ]
  },
  {
   "cell_type": "markdown",
   "metadata": {},
   "source": [
    "***\n",
    "\n",
    "### **A. Importação de Biblioteca Python**\n",
    "\n",
    "#### Serão utilizadas neste projeto as seguintes bibliotecas Python:\n",
    "\n",
    "> 1. pandas\n",
    "> 2. numpy\n",
    "> 3. os\n",
    "> 4. sys\n",
    "> 5. matplotlib\n",
    "> 6. seaborn"
   ]
  },
  {
   "cell_type": "code",
   "execution_count": 16,
   "metadata": {},
   "outputs": [],
   "source": [
    "import pandas as pd\n",
    "import numpy as np\n",
    "import os\n",
    "import sys  \n",
    "import matplotlib.pyplot as plt\n",
    "import matplotlib.axes as axes\n",
    "import seaborn as sns\n",
    "from seaborn import set\n",
    "\n",
    "# Definindo o encoding globalmente.\n",
    "reload(sys)  \n",
    "sys.setdefaultencoding('Latin1')\n",
    "\n",
    "# definindo que a execução do código na linha de baixo.\n",
    "%matplotlib inline\n",
    "\n",
    "# Alterando o padrão visual do pyplot\n",
    "plt.style.use('seaborn-notebook')\n",
    "plt.rcParams['figure.figsize'] = [15,5]\n",
    "\n",
    "# Ajustando globalmente o impedimento de notação científica\n",
    "pd.options.display.float_format = '{:20,.2f}'.format"
   ]
  },
  {
   "cell_type": "markdown",
   "metadata": {},
   "source": [
    "***\n",
    "\n",
    "### **B. Importação dos dados limpos**\n",
    "\n",
    "#### Será realizada a listagem dos arquivos no diretório dataset, sua importação do dataset df_trienio_limpo.csv, arquivo este criado ao final do processo de limpeza de dados. Foi adicionado a indicação de delimitação do arquivo (';') para garantir a correta importação dos dados."
   ]
  },
  {
   "cell_type": "code",
   "execution_count": 3,
   "metadata": {},
   "outputs": [
    {
     "data": {
      "text/plain": [
       "['Ano-2015.csv',\n",
       " 'Ano-2016.csv',\n",
       " 'Ano-2017.csv',\n",
       " 'df_trienio_limpo.csv',\n",
       " 'Sem Ti\\xcc\\x81tulo.numbers']"
      ]
     },
     "metadata": {},
     "output_type": "display_data"
    }
   ],
   "source": [
    "display(os.listdir('dataset'))"
   ]
  },
  {
   "cell_type": "code",
   "execution_count": 4,
   "metadata": {},
   "outputs": [],
   "source": [
    "df_limpo = pd.read_csv('./dataset/df_trienio_limpo.csv', delimiter=';')"
   ]
  },
  {
   "cell_type": "code",
   "execution_count": 5,
   "metadata": {},
   "outputs": [
    {
     "data": {
      "text/html": [
       "<div>\n",
       "<style scoped>\n",
       "    .dataframe tbody tr th:only-of-type {\n",
       "        vertical-align: middle;\n",
       "    }\n",
       "\n",
       "    .dataframe tbody tr th {\n",
       "        vertical-align: top;\n",
       "    }\n",
       "\n",
       "    .dataframe thead th {\n",
       "        text-align: right;\n",
       "    }\n",
       "</style>\n",
       "<table border=\"1\" class=\"dataframe\">\n",
       "  <thead>\n",
       "    <tr style=\"text-align: right;\">\n",
       "      <th></th>\n",
       "      <th>Valor</th>\n",
       "      <th>Ano</th>\n",
       "      <th>Mes</th>\n",
       "    </tr>\n",
       "  </thead>\n",
       "  <tbody>\n",
       "    <tr>\n",
       "      <th>count</th>\n",
       "      <td>1,076,325.00</td>\n",
       "      <td>1,076,325.00</td>\n",
       "      <td>1,076,325.00</td>\n",
       "    </tr>\n",
       "    <tr>\n",
       "      <th>mean</th>\n",
       "      <td>629.22</td>\n",
       "      <td>2,015.97</td>\n",
       "      <td>6.58</td>\n",
       "    </tr>\n",
       "    <tr>\n",
       "      <th>std</th>\n",
       "      <td>2,105.88</td>\n",
       "      <td>0.82</td>\n",
       "      <td>3.28</td>\n",
       "    </tr>\n",
       "    <tr>\n",
       "      <th>min</th>\n",
       "      <td>-9,240.77</td>\n",
       "      <td>2,015.00</td>\n",
       "      <td>1.00</td>\n",
       "    </tr>\n",
       "    <tr>\n",
       "      <th>25%</th>\n",
       "      <td>49.23</td>\n",
       "      <td>2,015.00</td>\n",
       "      <td>4.00</td>\n",
       "    </tr>\n",
       "    <tr>\n",
       "      <th>50%</th>\n",
       "      <td>150.00</td>\n",
       "      <td>2,016.00</td>\n",
       "      <td>7.00</td>\n",
       "    </tr>\n",
       "    <tr>\n",
       "      <th>75%</th>\n",
       "      <td>536.93</td>\n",
       "      <td>2,017.00</td>\n",
       "      <td>9.00</td>\n",
       "    </tr>\n",
       "    <tr>\n",
       "      <th>max</th>\n",
       "      <td>189,600.00</td>\n",
       "      <td>2,017.00</td>\n",
       "      <td>12.00</td>\n",
       "    </tr>\n",
       "  </tbody>\n",
       "</table>\n",
       "</div>"
      ],
      "text/plain": [
       "                     Valor                  Ano                  Mes\n",
       "count         1,076,325.00         1,076,325.00         1,076,325.00\n",
       "mean                629.22             2,015.97                 6.58\n",
       "std               2,105.88                 0.82                 3.28\n",
       "min              -9,240.77             2,015.00                 1.00\n",
       "25%                  49.23             2,015.00                 4.00\n",
       "50%                 150.00             2,016.00                 7.00\n",
       "75%                 536.93             2,017.00                 9.00\n",
       "max             189,600.00             2,017.00                12.00"
      ]
     },
     "execution_count": 5,
     "metadata": {},
     "output_type": "execute_result"
    }
   ],
   "source": [
    "df_limpo.describe()"
   ]
  },
  {
   "cell_type": "code",
   "execution_count": 6,
   "metadata": {},
   "outputs": [
    {
     "data": {
      "text/html": [
       "<div>\n",
       "<style scoped>\n",
       "    .dataframe tbody tr th:only-of-type {\n",
       "        vertical-align: middle;\n",
       "    }\n",
       "\n",
       "    .dataframe tbody tr th {\n",
       "        vertical-align: top;\n",
       "    }\n",
       "\n",
       "    .dataframe thead th {\n",
       "        text-align: right;\n",
       "    }\n",
       "</style>\n",
       "<table border=\"1\" class=\"dataframe\">\n",
       "  <thead>\n",
       "    <tr style=\"text-align: right;\">\n",
       "      <th></th>\n",
       "      <th>Nome</th>\n",
       "      <th>UF</th>\n",
       "      <th>Partido</th>\n",
       "      <th>Tipo de gasto</th>\n",
       "      <th>Valor</th>\n",
       "      <th>Ano</th>\n",
       "      <th>Mes</th>\n",
       "    </tr>\n",
       "  </thead>\n",
       "  <tbody>\n",
       "    <tr>\n",
       "      <th>0</th>\n",
       "      <td>ABEL MESQUITA JR.</td>\n",
       "      <td>RR</td>\n",
       "      <td>DEM</td>\n",
       "      <td>Escritório</td>\n",
       "      <td>165.65</td>\n",
       "      <td>2015</td>\n",
       "      <td>11</td>\n",
       "    </tr>\n",
       "    <tr>\n",
       "      <th>1</th>\n",
       "      <td>ABEL MESQUITA JR.</td>\n",
       "      <td>RR</td>\n",
       "      <td>DEM</td>\n",
       "      <td>Escritório</td>\n",
       "      <td>59.48</td>\n",
       "      <td>2015</td>\n",
       "      <td>12</td>\n",
       "    </tr>\n",
       "    <tr>\n",
       "      <th>2</th>\n",
       "      <td>ABEL MESQUITA JR.</td>\n",
       "      <td>RR</td>\n",
       "      <td>DEM</td>\n",
       "      <td>Escritório</td>\n",
       "      <td>130.95</td>\n",
       "      <td>2015</td>\n",
       "      <td>11</td>\n",
       "    </tr>\n",
       "    <tr>\n",
       "      <th>3</th>\n",
       "      <td>ABEL MESQUITA JR.</td>\n",
       "      <td>RR</td>\n",
       "      <td>DEM</td>\n",
       "      <td>Escritório</td>\n",
       "      <td>196.53</td>\n",
       "      <td>2015</td>\n",
       "      <td>12</td>\n",
       "    </tr>\n",
       "    <tr>\n",
       "      <th>4</th>\n",
       "      <td>ABEL MESQUITA JR.</td>\n",
       "      <td>RR</td>\n",
       "      <td>DEM</td>\n",
       "      <td>Escritório</td>\n",
       "      <td>310.25</td>\n",
       "      <td>2015</td>\n",
       "      <td>2</td>\n",
       "    </tr>\n",
       "  </tbody>\n",
       "</table>\n",
       "</div>"
      ],
      "text/plain": [
       "                Nome  UF Partido Tipo de gasto                Valor   Ano  Mes\n",
       "0  ABEL MESQUITA JR.  RR     DEM    Escritório               165.65  2015   11\n",
       "1  ABEL MESQUITA JR.  RR     DEM    Escritório                59.48  2015   12\n",
       "2  ABEL MESQUITA JR.  RR     DEM    Escritório               130.95  2015   11\n",
       "3  ABEL MESQUITA JR.  RR     DEM    Escritório               196.53  2015   12\n",
       "4  ABEL MESQUITA JR.  RR     DEM    Escritório               310.25  2015    2"
      ]
     },
     "execution_count": 6,
     "metadata": {},
     "output_type": "execute_result"
    }
   ],
   "source": [
    "df_limpo.head()"
   ]
  },
  {
   "cell_type": "markdown",
   "metadata": {},
   "source": [
    "***\n",
    "\n",
    "### **C. Análise Estatística - Triênio**"
   ]
  },
  {
   "cell_type": "markdown",
   "metadata": {},
   "source": [
    "#### Será realizada a análise descritiva dos três anos 2015, 2016 e 2017:\n",
    "> **C.1** Total de gastos por tipo.\n",
    ">\n",
    "> **C.2** Total de gastos por Partido.\n",
    ">\n",
    "> **C.4** Total de gastos por UF (Unidade Federal)."
   ]
  },
  {
   "cell_type": "code",
   "execution_count": 7,
   "metadata": {},
   "outputs": [],
   "source": [
    "# Variáveis auxiliares para plotar gráficos\n",
    "data = df_limpo\n",
    "# Variáveis para definição de dimensões e rotação do gráfico.\n",
    "largura=12\n",
    "altura=6\n",
    "rota = 90\n",
    "sns.set(font_scale=1.4)"
   ]
  },
  {
   "cell_type": "markdown",
   "metadata": {},
   "source": [
    "#### C.1 Quantidade Total de Gastos por Tipo"
   ]
  },
  {
   "cell_type": "code",
   "execution_count": 8,
   "metadata": {},
   "outputs": [
    {
     "data": {
      "image/png": "[encoded data removed]",
      "text/plain": [
       "<matplotlib.figure.Figure at 0x10e04cd90>"
      ]
     },
     "metadata": {},
     "output_type": "display_data"
    }
   ],
   "source": [
    "target = 'Tipo de gasto'\n",
    "plt.figure(figsize=(largura,altura))\n",
    "# Variável com função que ordena as barras em ordem decrescente.\n",
    "descending_order = data[target].value_counts().sort_values(ascending=False).index\n",
    "plt.suptitle(\"Quantidade de Gastos por Tipo\")\n",
    "sns.countplot(data=data,x=target,order=descending_order)\n",
    "plt.xticks(rotation=rota)\n",
    "plt.show()"
   ]
  },
  {
   "cell_type": "markdown",
   "metadata": {},
   "source": [
    "#### C.2 Total de Gastos por Tipo"
   ]
  },
  {
   "cell_type": "code",
   "execution_count": 19,
   "metadata": {},
   "outputs": [
    {
     "ename": "AttributeError",
     "evalue": "'module' object has no attribute 'ticklabel_format'",
     "output_type": "error",
     "traceback": [
      "\u001b[0;31m\u001b[0m",
      "\u001b[0;31mAttributeError\u001b[0mTraceback (most recent call last)",
      "\u001b[0;32m<ipython-input-19-049ba504a131>\u001b[0m in \u001b[0;36m<module>\u001b[0;34m()\u001b[0m\n\u001b[1;32m      6\u001b[0m \u001b[0mrota\u001b[0m \u001b[0;34m=\u001b[0m \u001b[0;36m90\u001b[0m\u001b[0;34m\u001b[0m\u001b[0m\n\u001b[1;32m      7\u001b[0m \u001b[0msns\u001b[0m\u001b[0;34m.\u001b[0m\u001b[0mset\u001b[0m\u001b[0;34m(\u001b[0m\u001b[0mfont_scale\u001b[0m\u001b[0;34m=\u001b[0m\u001b[0;36m1.4\u001b[0m\u001b[0;34m)\u001b[0m\u001b[0;34m\u001b[0m\u001b[0m\n\u001b[0;32m----> 8\u001b[0;31m \u001b[0max\u001b[0m\u001b[0;34m.\u001b[0m\u001b[0mticklabel_format\u001b[0m\u001b[0;34m(\u001b[0m\u001b[0museOffset\u001b[0m\u001b[0;34m=\u001b[0m\u001b[0mFalse\u001b[0m\u001b[0;34m)\u001b[0m\u001b[0;34m\u001b[0m\u001b[0m\n\u001b[0m",
      "\u001b[0;31mAttributeError\u001b[0m: 'module' object has no attribute 'ticklabel_format'"
     ]
    }
   ],
   "source": [
    "# Variáveis auxiliares para plotar gráficos\n",
    "data = df_limpo\n",
    "# Variáveis para definição de dimensões e rotação do gráfico.\n",
    "largura=12\n",
    "altura=6\n",
    "rota = 90\n",
    "sns.set(font_scale=1.4)\n",
    "ax.ticklabel_format(useOffset=False)"
   ]
  },
  {
   "cell_type": "code",
   "execution_count": 1,
   "metadata": {},
   "outputs": [
    {
     "ename": "NameError",
     "evalue": "name 'df_limpo' is not defined",
     "output_type": "error",
     "traceback": [
      "\u001b[0;31m\u001b[0m",
      "\u001b[0;31mNameError\u001b[0mTraceback (most recent call last)",
      "\u001b[0;32m<ipython-input-1-1f1183fc1ee2>\u001b[0m in \u001b[0;36m<module>\u001b[0;34m()\u001b[0m\n\u001b[0;32m----> 1\u001b[0;31m \u001b[0mdf_gastos\u001b[0m \u001b[0;34m=\u001b[0m \u001b[0mdf_limpo\u001b[0m\u001b[0;34m.\u001b[0m\u001b[0mgroupby\u001b[0m\u001b[0;34m(\u001b[0m\u001b[0;34m'Partido'\u001b[0m\u001b[0;34m)\u001b[0m\u001b[0;34m[\u001b[0m\u001b[0;34m'Valor'\u001b[0m\u001b[0;34m]\u001b[0m\u001b[0;34m.\u001b[0m\u001b[0msum\u001b[0m\u001b[0;34m(\u001b[0m\u001b[0;34m)\u001b[0m\u001b[0;34m\u001b[0m\u001b[0m\n\u001b[0m\u001b[1;32m      2\u001b[0m \u001b[0;31m#plt.figure(figsize=(largura,altura))\u001b[0m\u001b[0;34m\u001b[0m\u001b[0;34m\u001b[0m\u001b[0m\n\u001b[1;32m      3\u001b[0m \u001b[0mdf_gastos\u001b[0m\u001b[0;34m.\u001b[0m\u001b[0mplot\u001b[0m\u001b[0;34m(\u001b[0m\u001b[0mkind\u001b[0m\u001b[0;34m=\u001b[0m\u001b[0;34m'bar'\u001b[0m\u001b[0;34m,\u001b[0m \u001b[0mfigsize\u001b[0m\u001b[0;34m=\u001b[0m\u001b[0;34m(\u001b[0m\u001b[0mlargura\u001b[0m\u001b[0;34m,\u001b[0m\u001b[0maltura\u001b[0m\u001b[0;34m)\u001b[0m\u001b[0;34m,\u001b[0m \u001b[0mtitle\u001b[0m \u001b[0;34m=\u001b[0m \u001b[0;34m'Total de Gastos por Tipo'\u001b[0m\u001b[0;34m,\u001b[0m\u001b[0;34m)\u001b[0m\u001b[0;34m\u001b[0m\u001b[0m\n\u001b[1;32m      4\u001b[0m \u001b[0mplt\u001b[0m\u001b[0;34m.\u001b[0m\u001b[0mshow\u001b[0m\u001b[0;34m(\u001b[0m\u001b[0;34m)\u001b[0m\u001b[0;34m\u001b[0m\u001b[0m\n",
      "\u001b[0;31mNameError\u001b[0m: name 'df_limpo' is not defined"
     ]
    }
   ],
   "source": [
    "df_gastos = df_limpo.groupby('Partido')['Valor'].sum()\n",
    "#plt.figure(figsize=(largura,altura))\n",
    "df_gastos.plot(kind='bar', figsize=(largura,altura), title = 'Total de Gastos por Tipo',)\n",
    "plt.show()"
   ]
  },
  {
   "cell_type": "markdown",
   "metadata": {},
   "source": [
    "#### C.3 Total de Gastos por Partido"
   ]
  },
  {
   "cell_type": "code",
   "execution_count": null,
   "metadata": {},
   "outputs": [],
   "source": []
  },
  {
   "cell_type": "markdown",
   "metadata": {},
   "source": [
    "#### C.3 Total de Gastos por UF (Unidade Federal)"
   ]
  },
  {
   "cell_type": "code",
   "execution_count": null,
   "metadata": {},
   "outputs": [],
   "source": []
  }
 ],
 "metadata": {
  "kernelspec": {
   "display_name": "Python 2",
   "language": "python",
   "name": "python2"
  },
  "language_info": {
   "codemirror_mode": {
    "name": "ipython",
    "version": 2
   },
   "file_extension": ".py",
   "mimetype": "text/x-python",
   "name": "python",
   "nbconvert_exporter": "python",
   "pygments_lexer": "ipython2",
   "version": "2.7.14"
  }
 },
 "nbformat": 4,
 "nbformat_minor": 2
}
